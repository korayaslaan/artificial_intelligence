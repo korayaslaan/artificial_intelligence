{
  "nbformat": 4,
  "nbformat_minor": 0,
  "metadata": {
    "colab": {
      "name": "TheGuardianScienceAndTechnology.ipynb",
      "provenance": [],
      "collapsed_sections": [],
      "authorship_tag": "ABX9TyPOn2xQ2HJZEC4Q6ZXIrIBV",
      "include_colab_link": true
    },
    "kernelspec": {
      "name": "python3",
      "display_name": "Python 3"
    },
    "language_info": {
      "name": "python"
    }
  },
  "cells": [
    {
      "cell_type": "markdown",
      "metadata": {
        "id": "view-in-github",
        "colab_type": "text"
      },
      "source": [
        "<a href=\"https://colab.research.google.com/github/korayaslaan/artificial_intelligence/blob/main/TheGuardianScienceAndTechnology.ipynb\" target=\"_parent\"><img src=\"https://colab.research.google.com/assets/colab-badge.svg\" alt=\"Open In Colab\"/></a>"
      ]
    },
    {
      "cell_type": "code",
      "execution_count": 106,
      "metadata": {
        "id": "j1mKQHtDrIw2"
      },
      "outputs": [],
      "source": [
        "import os\n",
        "import bs4\n",
        "import requests\n",
        "from bs4 import BeautifulSoup\n",
        "import pandas as pd\n",
        "import numpy as np\n",
        "import os\n",
        "import time\n",
        "import urllib.request\n",
        "import re\n",
        "import urllib3\n",
        "from pandas import DataFrame\n",
        "import csv\n",
        "import datetime\n",
        "from datetime import datetime, timedelta\n",
        "import os\n",
        "import csv\n",
        "import concurrent\n",
        "import multiprocessing\n",
        "from multiprocessing import pool\n",
        "import io\n",
        "from pprint import pprint"
      ]
    },
    {
      "cell_type": "code",
      "source": [
        "def dateCreator():\n",
        "  technology = []  \n",
        "  science = []\n",
        "  ser_date = pd.Series(pd.date_range('19990101', periods=8400))\n",
        "  link = \"https://www.theguardian.com/\"\n",
        "  a=2000\n",
        "  b=2010\n",
        "  for j in range(a,b):\n",
        "    dateEnd  = ser_date[j].strftime(\"/%Y/%b/%d/all\")\n",
        "    science.append(\"{}{}{}\".format(link,\"science\",dateEnd))\n",
        "\n",
        "  for j in range(a,b):\n",
        "    dateEnd  = ser_date[j].strftime(\"/%Y/%b/%d/all\")\n",
        "    technology.append(\"{}{}{}\".format(link,\"uk/technology\",dateEnd))\n",
        "\n",
        "  return technology,science"
      ],
      "metadata": {
        "id": "qkQzoiENrOpm"
      },
      "execution_count": 107,
      "outputs": []
    },
    {
      "cell_type": "code",
      "source": [
        "technology,science = dateCreator()\n",
        "for x in technology:\n",
        "  with open(\"AllMainLinks.txt\", 'a') as file: \n",
        "    file.write(x+'\\n')\n",
        "\n",
        "for x in science:\n",
        "  with open(\"AllMainLinks.txt\", 'a') as file: \n",
        "    file.write(x+'\\n')\n",
        "\n",
        "print(\"Başarılı\")"
      ],
      "metadata": {
        "colab": {
          "base_uri": "https://localhost:8080/"
        },
        "id": "_L_K0GHorOnm",
        "outputId": "127c7560-7dd5-4e0f-b077-b0523478e0cc"
      },
      "execution_count": 108,
      "outputs": [
        {
          "output_type": "stream",
          "name": "stdout",
          "text": [
            "Başarılı\n"
          ]
        }
      ]
    },
    {
      "cell_type": "code",
      "source": [
        "def get_link_technology(i):\n",
        "     page_one = 0\n",
        "     r = requests.get(i)   \n",
        "     soup = BeautifulSoup(r.content, 'html5lib')\n",
        "     uzunluk =len(\"https://www.theguardian.com/technology/\")\n",
        "     url = i[uzunluk+3:uzunluk + 7]\n",
        "     url2 = \"https://www.theguardian.com/technology/blog/\" + url\n",
        "     url3 = \"https://www.theguardian.com/technology/\" + url\n",
        "     count=0\n",
        "     for a in soup.find_all('a', href=True):\n",
        "       link = a['href']\n",
        "       count+=1\n",
        "       result = len(link)>50\n",
        "       if result == True:\n",
        "          result2 = link.startswith(url2) or link.startswith(url3)\n",
        "          if result2 == True:\n",
        "            if(count %2 == 0):\n",
        "              with open(\"TechnologyNewsLinks.txt\", 'a') as file: \n",
        "                file.write(link+'\\n')\n",
        "    "
      ],
      "metadata": {
        "id": "9cfCninvrOle"
      },
      "execution_count": 109,
      "outputs": []
    },
    {
      "cell_type": "code",
      "source": [
        "def get_link_science(i):\n",
        "     page_one = 0\n",
        "     r = requests.get(i)   \n",
        "     soup = BeautifulSoup(r.content, 'html5lib')\n",
        "     uzunluk =len(\"https://www.theguardian.com/science/\")\n",
        "     url = i[uzunluk:uzunluk + 5]\n",
        "     url2 = \"https://www.theguardian.com/science/\" + url\n",
        "     count=0\n",
        "     for a in soup.find_all('a', href=True):\n",
        "       link = a['href']\n",
        "       count+=1\n",
        "       result = len(link)>40\n",
        "       if result == True:\n",
        "          result2 = link.startswith(url2) \n",
        "          if result2 == True:\n",
        "            if(count %2 == 0):\n",
        "              if(link.endswith(\"all\")):\n",
        "                print(\"Başarısız Link Silindi\")\n",
        "                print(\"**********************\")\n",
        "              else:\n",
        "                 with open(\"ScienceNewsLinks.txt\", 'a') as file: \n",
        "                   file.write(link+'\\n')"
      ],
      "metadata": {
        "id": "SsHjG5KUrOjS"
      },
      "execution_count": 110,
      "outputs": []
    },
    {
      "cell_type": "code",
      "source": [
        "def creator(url):\n",
        "    r = requests.get(url)   \n",
        "    soup = BeautifulSoup(r.content, 'html5lib')\n",
        "    title = soup.find(\"h1\").getText()\n",
        "    content_array = soup.find(\"div\", attrs = {\"class\":\"article-body-commercial-selector\"}).getText()\n",
        "    category = soup.find(\"aside\", attrs = {\"class\":\"dcr-hfp9tp\"}).getText()\n",
        "    date = soup.find(\"div\", attrs = {\"class\":\"dcr-km9fgb\"}).getText()\n",
        "    date = date.split()\n",
        "    date = date[0]+'-'+ date[1] +'-'+ date[2]\n",
        "    content_array = content_array.split()\n",
        "    content_string = \"\"\n",
        "    for w in content_array:\n",
        "       content_string = content_string+\" \"+w\n",
        "    w_data=\"{};{};{};{};{}\".format(url,date,category,title,content_string)\n",
        "    # print(w_data)\n",
        "    with open(\"contentAll.txt\", 'a') as file: \n",
        "        file.write(w_data+'\\n')"
      ],
      "metadata": {
        "id": "8gDVSbx4rZ9O"
      },
      "execution_count": 111,
      "outputs": []
    },
    {
      "cell_type": "code",
      "source": [
        "technology,science= dateCreator()\n",
        "\n",
        "with concurrent.futures.ProcessPoolExecutor() as execut:\n",
        "  b_res=[execut.submit(get_link_technology,i.strip()) for i in technology]\n",
        "\n",
        "with concurrent.futures.ProcessPoolExecutor() as execut:\n",
        "  b_res=[execut.submit(get_link_science,i.strip()) for i in science]"
      ],
      "metadata": {
        "colab": {
          "base_uri": "https://localhost:8080/"
        },
        "id": "iS5SuCE2rZ7T",
        "outputId": "6e20fd24-7f79-4a4d-c2cc-07d2b75e9021"
      },
      "execution_count": 112,
      "outputs": [
        {
          "output_type": "stream",
          "name": "stdout",
          "text": [
            "Başarısız Link Silindi\n",
            "**********************\n",
            "Başarısız Link Silindi\n",
            "**********************\n",
            "Başarısız Link Silindi\n",
            "**********************\n",
            "Başarısız Link Silindi\n",
            "**********************\n",
            "Başarısız Link Silindi\n",
            "**********************\n",
            "Başarısız Link Silindi\n",
            "**********************\n",
            "Başarısız Link Silindi\n",
            "**********************\n",
            "Başarısız Link Silindi\n",
            "**********************\n",
            "Başarısız Link Silindi\n",
            "**********************\n",
            "Başarısız Link Silindi\n",
            "**********************\n"
          ]
        }
      ]
    },
    {
      "cell_type": "code",
      "source": [
        "ScienceNewsLinks=[]\n",
        "with open(\"ScienceNewsLinks.txt\",'r',newline='') as f:\n",
        "  for i in f.readlines():    \n",
        "    ScienceNewsLinks.append(i)\n",
        "\n",
        "t1=time.time()\n",
        "with concurrent.futures.ProcessPoolExecutor() as execut:\n",
        "  b_res=[execut.submit(creator,i.strip()) for i in ScienceNewsLinks]\n",
        "\n",
        "print(time.time()-t1)\n",
        "\n"
      ],
      "metadata": {
        "colab": {
          "base_uri": "https://localhost:8080/"
        },
        "id": "JlUh7tRZuwSy",
        "outputId": "8e35241e-90a0-4e83-f6e8-eb79c6e15a77"
      },
      "execution_count": 118,
      "outputs": [
        {
          "output_type": "stream",
          "name": "stdout",
          "text": [
            "12.271796226501465\n"
          ]
        }
      ]
    },
    {
      "cell_type": "code",
      "source": [
        "TechnologyNewsLinks=[]\n",
        "with open(\"TechnologyNewsLinks.txt\",'r',newline='') as f:\n",
        "  for i in f.readlines():    \n",
        "    TechnologyNewsLinks.append(i)\n",
        "\n",
        "t1=time.time()\n",
        "with concurrent.futures.ProcessPoolExecutor() as execut:\n",
        "  b_res=[execut.submit(creator,i.strip()) for i in TechnologyNewsLinks]\n",
        "\n",
        "print(time.time()-t1)"
      ],
      "metadata": {
        "colab": {
          "base_uri": "https://localhost:8080/"
        },
        "id": "qmmjadjGv51e",
        "outputId": "8085dbc8-2651-4d33-b44c-e77879e4d84b"
      },
      "execution_count": 119,
      "outputs": [
        {
          "output_type": "stream",
          "name": "stdout",
          "text": [
            "30.509668827056885\n"
          ]
        }
      ]
    }
  ]
}