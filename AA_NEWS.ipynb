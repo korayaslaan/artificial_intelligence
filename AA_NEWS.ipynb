{
  "nbformat": 4,
  "nbformat_minor": 0,
  "metadata": {
    "colab": {
      "name": "AA NEWS.ipynb",
      "provenance": [],
      "authorship_tag": "ABX9TyP8kaUklNOKuyQPAc3RvUxh",
      "include_colab_link": true
    },
    "kernelspec": {
      "name": "python3",
      "display_name": "Python 3"
    },
    "language_info": {
      "name": "python"
    }
  },
  "cells": [
    {
      "cell_type": "markdown",
      "metadata": {
        "id": "view-in-github",
        "colab_type": "text"
      },
      "source": [
        "<a href=\"https://colab.research.google.com/github/korayaslaan/artificial_intelligence/blob/main/AA_NEWS.ipynb\" target=\"_parent\"><img src=\"https://colab.research.google.com/assets/colab-badge.svg\" alt=\"Open In Colab\"/></a>"
      ]
    },
    {
      "cell_type": "code",
      "source": [
        "from bs4 import BeautifulSoup\n",
        "import requests\n",
        "from selenium import webdriver\n",
        "from selenium.webdriver.common.keys import Keys\n",
        "import time\n",
        "import csv\n",
        "import pandas as pd\n",
        "import datetime\n",
        "from datetime import datetime, timedelta\n",
        "import numpy as np"
      ],
      "metadata": {
        "id": "_B81QfppTpPk"
      },
      "execution_count": null,
      "outputs": []
    },
    {
      "cell_type": "code",
      "execution_count": null,
      "metadata": {
        "id": "zXS20ivRR-Xm"
      },
      "outputs": [],
      "source": [
        "def veri_cek(url):\n",
        "    driver = webdriver.Chrome (executable_path=\"C:\\\\Users\\\\koray\\\\Desktop\\\\chromedriver.exe\")#masaüstüne \n",
        "    driver.maximize_window()\n",
        "    driver.get(url)\n",
        "    count = 0\n",
        "    global test \n",
        "    last_height = 0\n",
        "    new_height = 0\n",
        "    page=0\n",
        "    pagecontrol=0\n",
        "    while pagecontrol<289:\n",
        "        if(True):\n",
        "            count+=1\n",
        "            driver.execute_script(\"window.scrollTo(0, document.body.scrollHeight);\")\n",
        "        \n",
        "            new_height = driver.execute_script(\"return document.body.scrollHeight\")\n",
        "        if new_height == last_height:\n",
        "            a = driver.find_element_by_xpath(\"/html/body/div[2]/main/div[4]/div[4]/a\").click()\n",
        "            if(a==\"none\"):\n",
        "                time.sleep(1)\n",
        "                pagecontrol+=1\n",
        "            page+=1\n",
        "        last_height = new_height\n",
        "        \n",
        "        if(page!=pagecontrol and page%15==0):\n",
        "            pagecontrol=page\n",
        "            print(\"15 tane tıklama yapıldı.\")\n",
        "    \n",
        "    sayfa_kaynağı = driver.page_source\n",
        "    soup = BeautifulSoup(sayfa_kaynağı, \"html.parser\")\n",
        "    test = soup.find('div', attrs={\"id\" : \"haber\"})\n",
        "\n",
        " "
      ]
    },
    {
      "cell_type": "code",
      "source": [
        "veri_cek(\"https://www.aa.com.tr/en/search/?s=technology#!\")"
      ],
      "metadata": {
        "id": "8yS79ex58u7y"
      },
      "execution_count": null,
      "outputs": []
    },
    {
      "cell_type": "code",
      "source": [
        "count3 = 0\n",
        "count2 = 0\n",
        "for a in test.find_all('a', href=True):\n",
        "    link = a['href']\n",
        "    count3+=1\n",
        "    \n",
        "    if(count3%2==0):\n",
        "        w_data = \"https://www.aa.com.tr\"+link\n",
        "        count2+=1\n",
        "        with open(\"NewsLinksTech.txt\", 'a') as file: \n",
        "               file.write(w_data + '\\n')\n",
        "print(str(count2)+\" tane link çekildi\")     \n",
        "        \n",
        "        \n"
      ],
      "metadata": {
        "id": "ey-23K0B8u5h"
      },
      "execution_count": null,
      "outputs": []
    }
  ]
}