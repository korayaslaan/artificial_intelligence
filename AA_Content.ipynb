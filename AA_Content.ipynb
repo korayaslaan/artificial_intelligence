{
  "cells": [
    {
      "cell_type": "markdown",
      "metadata": {
        "id": "view-in-github",
        "colab_type": "text"
      },
      "source": [
        "<a href=\"https://colab.research.google.com/github/korayaslaan/artificial_intelligence/blob/main/AA_Content.ipynb\" target=\"_parent\"><img src=\"https://colab.research.google.com/assets/colab-badge.svg\" alt=\"Open In Colab\"/></a>"
      ]
    },
    {
      "cell_type": "code",
      "source": [
        "from bs4 import BeautifulSoup\n",
        "import requests\n",
        "from selenium import webdriver\n",
        "from selenium.webdriver.common.keys import Keys\n",
        "import time\n",
        "import csv\n",
        "import pandas as pd\n",
        "import datetime\n",
        "from datetime import datetime, timedelta\n",
        "import numpy as np\n",
        "import urllib.request\n",
        "import re\n",
        "import concurrent\n",
        "import multiprocessing\n",
        "from multiprocessing import pool\n",
        "import io\n",
        "from pprint import pprint"
      ],
      "metadata": {
        "id": "Wc7YIBAASjJb"
      },
      "id": "Wc7YIBAASjJb",
      "execution_count": null,
      "outputs": []
    },
    {
      "cell_type": "code",
      "source": [
        "def creator(url):\n",
        "    print(url)\n",
        "    global soup\n",
        "    driver = webdriver.Chrome (executable_path=\"C:\\\\Users\\\\koray\\\\Desktop\\\\chromedriver.exe\")#masaüstüne \n",
        "    driver.maximize_window()\n",
        "    driver.get(url)\n",
        "    sayfa_kaynağı = driver.page_source\n",
        "    soup = BeautifulSoup(sayfa_kaynağı, \"html.parser\")\n",
        "    title = soup.find(\"h1\").getText()\n",
        "    #print(title)\n",
        "    content_array = soup.find(\"div\", attrs = {\"class\":\"detay-icerik\"})\n",
        "    content_array2 = \"\"\n",
        "    for a in content_array.find_all('p'):\n",
        "        content_array2 = content_array2 + a.getText()\n",
        "    #print(content_array2)\n",
        "    category = soup.find(\"span\", attrs = {\"class\":\"detay-news-category\"}).getText()\n",
        "    category = re.sub(\"^\\s+|\\s+$\", \"\", category, flags=re.UNICODE)\n",
        "    url = re.sub(\"^\\s+|\\s+$\", \"\", url, flags=re.UNICODE)\n",
        "    #print(category)\n",
        "    date = soup.find(\"span\", attrs = {\"class\":\"tarih\"}).getText()\n",
        "    #print(date)\n",
        "    w_data=\"{};{};{};{};{}\".format(url,date,category,title,content_array2)\n",
        "    #print(w_data)\n",
        "    with open(\"contentAll.txt\", 'a' , encoding=\"utf-8\") as file: \n",
        "        file.write(w_data+'\\n')\n",
        "    driver.close()"
      ],
      "metadata": {
        "id": "HKgYCo5wSjG4"
      },
      "id": "HKgYCo5wSjG4",
      "execution_count": null,
      "outputs": []
    },
    {
      "cell_type": "code",
      "source": [
        "NewsLinksAll=[]\n",
        "with open(\"C:\\\\Users\\\\koray\\\\NewsLinks.txt\",'r',newline='') as f:\n",
        "    for i in f.readlines():    \n",
        "        NewsLinksAll.append(i)\n",
        "        \n",
        "t1=time.time()\n",
        "for i in NewsLinksAll:\n",
        "    creator(i)\n",
        "\n",
        "print(time.time()-t1)"
      ],
      "metadata": {
        "id": "G1TmeqgDSjEl"
      },
      "id": "G1TmeqgDSjEl",
      "execution_count": null,
      "outputs": []
    }
  ],
  "metadata": {
    "colab": {
      "collapsed_sections": [],
      "name": "AA Content.ipynb",
      "provenance": [],
      "include_colab_link": true
    },
    "kernelspec": {
      "display_name": "Python 3",
      "language": "python",
      "name": "python3"
    },
    "language_info": {
      "codemirror_mode": {
        "name": "ipython",
        "version": 3
      },
      "file_extension": ".py",
      "mimetype": "text/x-python",
      "name": "python",
      "nbconvert_exporter": "python",
      "pygments_lexer": "ipython3",
      "version": "3.8.8"
    }
  },
  "nbformat": 4,
  "nbformat_minor": 5
}