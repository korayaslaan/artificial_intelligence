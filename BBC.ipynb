{
  "nbformat": 4,
  "nbformat_minor": 0,
  "metadata": {
    "colab": {
      "name": "BBC.ipynb",
      "provenance": [],
      "collapsed_sections": [],
      "authorship_tag": "ABX9TyPZoHjwpUSz/pIyplBPbYRe",
      "include_colab_link": true
    },
    "kernelspec": {
      "name": "python3",
      "display_name": "Python 3"
    },
    "language_info": {
      "name": "python"
    }
  },
  "cells": [
    {
      "cell_type": "markdown",
      "metadata": {
        "id": "view-in-github",
        "colab_type": "text"
      },
      "source": [
        "<a href=\"https://colab.research.google.com/github/korayaslaan/artificial_intelligence/blob/main/BBC.ipynb\" target=\"_parent\"><img src=\"https://colab.research.google.com/assets/colab-badge.svg\" alt=\"Open In Colab\"/></a>"
      ]
    },
    {
      "cell_type": "code",
      "execution_count": 1,
      "metadata": {
        "id": "ro-_jNsLO9NF"
      },
      "outputs": [],
      "source": [
        "import os\n",
        "import bs4\n",
        "import requests\n",
        "from bs4 import BeautifulSoup\n",
        "import pandas as pd\n",
        "import numpy as np\n",
        "import os\n",
        "import time\n",
        "import urllib.request\n",
        "import re\n",
        "import urllib3\n",
        "from pandas import DataFrame\n",
        "import csv\n",
        "import datetime\n",
        "from datetime import datetime, timedelta\n",
        "import os\n",
        "import csv\n",
        "import concurrent\n",
        "import multiprocessing\n",
        "from multiprocessing import pool\n",
        "import io\n",
        "from pprint import pprint"
      ]
    },
    {
      "cell_type": "code",
      "source": [
        "def get_link(i):\n",
        "     list1 = []\n",
        "     list2 = []\n",
        "     page_one = 0\n",
        "     r = requests.get(i)   \n",
        "     soup = BeautifulSoup(r.content, 'html5lib')\n",
        "     count = 0\n",
        "     for a in soup.find_all('a', href=True):\n",
        "       link = a['href']\n",
        "       result = link.startswith(\"/news/technology-\")\n",
        "       if result==True:\n",
        "         url = \"https://www.bbc.com\"\n",
        "         list1.append(\"{}{}\".format(url,link))\n",
        "     for i in list1:\n",
        "        if i not in list2:\n",
        "          list2.append(i)\n",
        "\n",
        "     return list2\n",
        "        "
      ],
      "metadata": {
        "id": "v8O3TCwcPAN0"
      },
      "execution_count": 19,
      "outputs": []
    },
    {
      "cell_type": "code",
      "source": [
        "a = get_link(\"https://www.bbc.com/news/technology\")\n",
        "for i in a:\n",
        "  print(i)"
      ],
      "metadata": {
        "colab": {
          "base_uri": "https://localhost:8080/"
        },
        "id": "ZRqulk28i8lV",
        "outputId": "e9a872a1-a197-4cf0-cf19-c4b0a0345359"
      },
      "execution_count": 20,
      "outputs": [
        {
          "output_type": "stream",
          "name": "stdout",
          "text": [
            "https://www.bbc.com/news/technology-59309768\n",
            "https://www.bbc.com/news/technology-59348921\n",
            "https://www.bbc.com/news/technology-59840471\n",
            "https://www.bbc.com/news/technology-59818800\n",
            "https://www.bbc.com/news/technology-59819664\n",
            "https://www.bbc.com/news/technology-59818791\n",
            "https://www.bbc.com/news/technology-59809774\n",
            "https://www.bbc.com/news/technology-59810383\n",
            "https://www.bbc.com/news/technology-59785567\n",
            "https://www.bbc.com/news/technology-59292691\n",
            "https://www.bbc.com/news/technology-59294258\n",
            "https://www.bbc.com/news/technology-59300301\n",
            "https://www.bbc.com/news/technology-59305813\n",
            "https://www.bbc.com/news/technology-59299381\n",
            "https://www.bbc.com/news/technology-59674930\n",
            "https://www.bbc.com/news/technology-59687876\n",
            "https://www.bbc.com/news/technology-59818796\n"
          ]
        }
      ]
    }
  ]
}