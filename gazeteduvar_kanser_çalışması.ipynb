{
  "nbformat": 4,
  "nbformat_minor": 0,
  "metadata": {
    "colab": {
      "name": "gazeteduvar_kanser_çalışması.ipynb",
      "provenance": [],
      "collapsed_sections": [],
      "include_colab_link": true
    },
    "kernelspec": {
      "display_name": "Python 3",
      "name": "python3"
    },
    "language_info": {
      "name": "python"
    }
  },
  "cells": [
    {
      "cell_type": "markdown",
      "metadata": {
        "id": "view-in-github",
        "colab_type": "text"
      },
      "source": [
        "<a href=\"https://colab.research.google.com/github/korayaslaan/artificial_intelligence/blob/main/gazeteduvar_kanser_%C3%A7al%C4%B1%C5%9Fmas%C4%B1.ipynb\" target=\"_parent\"><img src=\"https://colab.research.google.com/assets/colab-badge.svg\" alt=\"Open In Colab\"/></a>"
      ]
    },
    {
      "cell_type": "code",
      "metadata": {
        "id": "Zgsxn5pp89Pa"
      },
      "source": [
        "import os\n",
        "import bs4\n",
        "import requests\n",
        "from bs4 import BeautifulSoup\n",
        "import pandas as pd\n",
        "import numpy as np\n",
        "import os\n",
        "import time\n",
        "import urllib.request\n",
        "import re\n",
        "import urllib3\n",
        "from pandas import DataFrame\n",
        "import csv\n",
        "import datetime\n",
        "from datetime import datetime, timedelta"
      ],
      "execution_count": null,
      "outputs": []
    },
    {
      "cell_type": "code",
      "metadata": {
        "id": "WlV81oLM-KPq"
      },
      "source": [
        "def datecreator():\n",
        "  kanser_links = []\n",
        "  prostat_links = []\n",
        "  memekanseri_links=[]\n",
        "  kan_link =\"https://www.gazeteduvar.com.tr/arsiv?arama=kanser&tarih_baslangic=22.07.2015&tarih_bitis=22.07.2021&siralama=0&sayfa=\" #37 e kadar sayfa var kanser\n",
        "  pros_link = \"https://www.gazeteduvar.com.tr/arsiv?arama=prostat+kanseri&tarih_baslangic=22.07.2015&tarih_bitis=22.07.2021&siralama=0&sayfa=\" #10 e kadar sayfa var prostat kanseri\n",
        "  mem_link = \"https://www.gazeteduvar.com.tr/arsiv?arama=meme+kanseri&tarih_baslangic=22.07.2015&tarih_bitis=22.07.2021&siralama=0&sayfa=\" #11 ya kadar sayfa var meme kanseri\n",
        "\n",
        "  for i in range(1,4,1):\n",
        "    kanser_links.append(\"{}{}\".format(kan_link,i))\n",
        "\n",
        "  for i in range(1,4,1):\n",
        "    prostat_links.append(\"{}{}\".format(pros_link,i))\n",
        "\n",
        "  for i in range(1,4,1):\n",
        "    memekanseri_links.append(\"{}{}\".format(mem_link,i))\n",
        "  return kanser_links,memekanseri_links,prostat_links"
      ],
      "execution_count": null,
      "outputs": []
    },
    {
      "cell_type": "code",
      "metadata": {
        "id": "LKT1rKCP5g8x",
        "colab": {
          "base_uri": "https://localhost:8080/"
        },
        "outputId": "9357bb2f-bccb-4c24-8b74-e48bed7278d3"
      },
      "source": [
        "page_kanser_links,page_memekanseri_links,page_prostat_links = datecreator()\n",
        "print(page_kanser_links)\n",
        "print(page_memekanseri_links)\n",
        "print(page_prostat_links)"
      ],
      "execution_count": null,
      "outputs": [
        {
          "output_type": "stream",
          "text": [
            "['https://www.gazeteduvar.com.tr/arsiv?arama=kanser&tarih_baslangic=22.07.2015&tarih_bitis=22.07.2021&siralama=0&sayfa=1', 'https://www.gazeteduvar.com.tr/arsiv?arama=kanser&tarih_baslangic=22.07.2015&tarih_bitis=22.07.2021&siralama=0&sayfa=2', 'https://www.gazeteduvar.com.tr/arsiv?arama=kanser&tarih_baslangic=22.07.2015&tarih_bitis=22.07.2021&siralama=0&sayfa=3']\n",
            "['https://www.gazeteduvar.com.tr/arsiv?arama=meme+kanseri&tarih_baslangic=22.07.2015&tarih_bitis=22.07.2021&siralama=0&sayfa=1', 'https://www.gazeteduvar.com.tr/arsiv?arama=meme+kanseri&tarih_baslangic=22.07.2015&tarih_bitis=22.07.2021&siralama=0&sayfa=2', 'https://www.gazeteduvar.com.tr/arsiv?arama=meme+kanseri&tarih_baslangic=22.07.2015&tarih_bitis=22.07.2021&siralama=0&sayfa=3']\n",
            "['https://www.gazeteduvar.com.tr/arsiv?arama=prostat+kanseri&tarih_baslangic=22.07.2015&tarih_bitis=22.07.2021&siralama=0&sayfa=1', 'https://www.gazeteduvar.com.tr/arsiv?arama=prostat+kanseri&tarih_baslangic=22.07.2015&tarih_bitis=22.07.2021&siralama=0&sayfa=2', 'https://www.gazeteduvar.com.tr/arsiv?arama=prostat+kanseri&tarih_baslangic=22.07.2015&tarih_bitis=22.07.2021&siralama=0&sayfa=3']\n"
          ],
          "name": "stdout"
        }
      ]
    },
    {
      "cell_type": "code",
      "metadata": {
        "id": "VfQNIUPW5IQ1"
      },
      "source": [
        "def get_link_kanser(i):\n",
        "    r = requests.get(i)   \n",
        "    soup = BeautifulSoup(r.content, 'html5lib')\n",
        "    url = 'https://www.cumhuriyet.com.tr' \n",
        "    for a in soup.find_all('a', href=True):\n",
        "        link = a['href']\n",
        "        result = link.startswith(\"https://www.gazeteduvar.com.tr/\")\n",
        "        if result == True:\n",
        "          result2 = link.startswith(\"https://www.gazeteduvar.com.tr/arsiv?\")\n",
        "          if result2 == False:\n",
        "            if len(link)>57:\n",
        "               with open(\"gazeteduvar_link_kanser.txt\", 'a') as file: \n",
        "                   file.write(link+'\\n')\n",
        "                   dizi.append(link)\n",
        "    return dizi"
      ],
      "execution_count": null,
      "outputs": []
    },
    {
      "cell_type": "code",
      "metadata": {
        "id": "ALkLbRig-2zh"
      },
      "source": [
        "def get_link_prostatkanseri(i):\n",
        "    r = requests.get(i)   \n",
        "    soup = BeautifulSoup(r.content, 'html5lib')\n",
        "    url = 'https://www.cumhuriyet.com.tr' \n",
        "    for a in soup.find_all('a', href=True):\n",
        "        link = a['href']\n",
        "        result = link.startswith(\"https://www.gazeteduvar.com.tr/\")\n",
        "        if result == True:\n",
        "          result2 = link.startswith(\"https://www.gazeteduvar.com.tr/arsiv?\")\n",
        "          if result2 == False:\n",
        "            if len(link)>57:\n",
        "               with open(\"gazeteduvar_link_prostat_kanser.txt\", 'a') as file: \n",
        "                   file.write(link+'\\n')\n",
        "                   dizi.append(link)\n",
        "    return dizi"
      ],
      "execution_count": null,
      "outputs": []
    },
    {
      "cell_type": "code",
      "metadata": {
        "id": "TEVoooCK-21o"
      },
      "source": [
        "def get_link_memekanseri(i):\n",
        "    r = requests.get(i)   \n",
        "    soup = BeautifulSoup(r.content, 'html5lib')\n",
        "    url = 'https://www.cumhuriyet.com.tr' \n",
        "    for a in soup.find_all('a', href=True):\n",
        "        link = a['href']\n",
        "        result = link.startswith(\"https://www.gazeteduvar.com.tr/\")\n",
        "        if result == True:\n",
        "          result2 = link.startswith(\"https://www.gazeteduvar.com.tr/arsiv?\")\n",
        "          if result2 == False:\n",
        "            if len(link)>57:\n",
        "               with open(\"gazeteduvar_link_meme_kanser.txt\", 'a') as file: \n",
        "                   file.write(link+'\\n')\n",
        "                   dizi.append(link)\n",
        "    return dizi"
      ],
      "execution_count": null,
      "outputs": []
    },
    {
      "cell_type": "code",
      "metadata": {
        "id": "QMJarZTg_Ubg"
      },
      "source": [
        "def creator1(url):\n",
        "    r = requests.get(url)   \n",
        "    soup = BeautifulSoup(r.content, 'html5lib')\n",
        "    title = soup.find(\"h1\").getText()\n",
        "    content_array = soup.find(\"div\", attrs = {\"class\":\"content-text\"}).getText()\n",
        "    date = soup.find(\"time\").getText()\n",
        "    date = date.split()\n",
        "    date = date[0] + date[1] + date[3] \n",
        "    content_array = content_array.split()\n",
        "    content_string = \"\"\n",
        "    for w in content_array:\n",
        "        content_string = content_string+\" \"+w\n",
        "        #w_data = url+\";\"+date+\";\"+title+\";\"+content_string\n",
        "    w_data=\"{};{};{};{}\".format(url,date,title,content_string)\n",
        "    #print(w_data)\n",
        "    # write_to_txt(w_data)\n",
        "    with open(\"gazeteduvar_content_kanser.txt\", 'a') as file: \n",
        "        file.write(w_data+'\\n')"
      ],
      "execution_count": null,
      "outputs": []
    },
    {
      "cell_type": "code",
      "metadata": {
        "id": "XvPJVXSm_Ud_"
      },
      "source": [
        "def creator2(url):\n",
        "    r = requests.get(url)   \n",
        "    soup = BeautifulSoup(r.content, 'html5lib')\n",
        "    title = soup.find(\"h1\").getText()\n",
        "    content_array = soup.find(\"div\", attrs = {\"class\":\"content-text\"}).getText()\n",
        "    date = soup.find(\"time\").getText()\n",
        "    date = date.split()\n",
        "    date = date[0] + date[1] + date[3] \n",
        "    content_array = content_array.split()\n",
        "    content_string = \"\"\n",
        "    for w in content_array:\n",
        "        content_string = content_string+\" \"+w\n",
        "        #w_data = url+\";\"+date+\";\"+title+\";\"+content_string\n",
        "    w_data=\"{};{};{};{}\".format(url,date,title,content_string)\n",
        "    #print(w_data)\n",
        "    # write_to_txt(w_data)\n",
        "    with open(\"gazeteduvar_content_prostat_kanser.txt\", 'a') as file: \n",
        "        file.write(w_data+'\\n')"
      ],
      "execution_count": null,
      "outputs": []
    },
    {
      "cell_type": "code",
      "metadata": {
        "id": "eb_5UJ9L_UiG"
      },
      "source": [
        "def creator3(url):\n",
        "    r = requests.get(url)   \n",
        "    soup = BeautifulSoup(r.content, 'html5lib')\n",
        "    title = soup.find(\"h1\").getText()\n",
        "    content_array = soup.find(\"div\", attrs = {\"class\":\"content-text\"}).getText()\n",
        "    date = soup.find(\"time\").getText()\n",
        "    date = date.split()\n",
        "    date = date[0] + date[1] + date[3] \n",
        "    content_array = content_array.split()\n",
        "    content_string = \"\"\n",
        "    for w in content_array:\n",
        "        content_string = content_string+\" \"+w\n",
        "        #w_data = url+\";\"+date+\";\"+title+\";\"+content_string\n",
        "    w_data=\"{};{};{};{}\".format(url,date,title,content_string)\n",
        "    #print(w_data)\n",
        "    # write_to_txt(w_data)\n",
        "    with open(\"gazeteduvar_content_meme_kanser.txt\", 'a') as file: \n",
        "        file.write(w_data+'\\n')"
      ],
      "execution_count": null,
      "outputs": []
    },
    {
      "cell_type": "code",
      "metadata": {
        "id": "bOosRmRQ5-c1"
      },
      "source": [
        "page_kanser_links,page_memekanseri_links,page_prostat_links = datecreator()\n",
        "\n",
        "dizi = []\n",
        "count= 0 \n",
        "for i in page_kanser_links:\n",
        "    try:\n",
        "       get_link_kanser(i)\n",
        "    except:\n",
        "        print('Format Dışı Link')\n",
        "\n",
        "\n",
        "for i in page_prostat_links:\n",
        "    try:\n",
        "       get_link_prostatkanseri(i)\n",
        "       \n",
        "    except:\n",
        "        print('Format Dışı Link')\n",
        "\n",
        "\n",
        "for i in page_memekanseri_links:\n",
        "    try:\n",
        "      get_link_memekanseri(i)\n",
        "       \n",
        "    except:\n",
        "        print('Format Dışı Link')"
      ],
      "execution_count": null,
      "outputs": []
    },
    {
      "cell_type": "code",
      "metadata": {
        "id": "0HQ1CzLl_8QA"
      },
      "source": [
        "import os\n",
        "import csv\n",
        "import concurrent\n",
        "import multiprocessing\n",
        "from multiprocessing import pool\n",
        "import io\n",
        "from pprint import pprint\n",
        "hurriyet_kanser_links=[]\n",
        "with open(\"gazeteduvar_link_kanser.txt\",'r',newline='') as f:\n",
        "  for i in f.readlines():    \n",
        "  # reader=csv.reader(f)\n",
        "    hurriyet_kanser_links.append(i)"
      ],
      "execution_count": null,
      "outputs": []
    },
    {
      "cell_type": "code",
      "metadata": {
        "id": "lYXuFbqm_8ST",
        "colab": {
          "base_uri": "https://localhost:8080/"
        },
        "outputId": "5c274f4f-edc4-4643-a3ad-f7e83c0de843"
      },
      "source": [
        "t1=time.time()\n",
        "with concurrent.futures.ProcessPoolExecutor() as execut:\n",
        "  b_res=[execut.submit(creator1,i.strip()) for i in hurriyet_kanser_links]\n",
        "\n",
        "print(time.time()-t1)"
      ],
      "execution_count": null,
      "outputs": [
        {
          "output_type": "stream",
          "text": [
            "17.214789867401123\n"
          ],
          "name": "stdout"
        }
      ]
    },
    {
      "cell_type": "code",
      "metadata": {
        "id": "DEm_P3SDCM8X"
      },
      "source": [
        "gazeteduvar_prostat_kanser_links=[]\n",
        "with open(\"gazeteduvar_link_prostat_kanser.txt\",'r',newline='') as f:\n",
        "  for i in f.readlines():    \n",
        "  # reader=csv.reader(f)\n",
        "    gazeteduvar_prostat_kanser_links.append(i)"
      ],
      "execution_count": null,
      "outputs": []
    },
    {
      "cell_type": "code",
      "metadata": {
        "id": "7G1GPxaBCM_6",
        "colab": {
          "base_uri": "https://localhost:8080/"
        },
        "outputId": "bb9b336b-78a0-446a-daff-2b1ec559ae84"
      },
      "source": [
        "t1=time.time()\n",
        "with concurrent.futures.ProcessPoolExecutor() as execut:\n",
        "  b_res=[execut.submit(creator2,i.strip()) for i in gazeteduvar_prostat_kanser_links]\n",
        "\n",
        "print(time.time()-t1)"
      ],
      "execution_count": null,
      "outputs": [
        {
          "output_type": "stream",
          "text": [
            "15.545416116714478\n"
          ],
          "name": "stdout"
        }
      ]
    },
    {
      "cell_type": "code",
      "metadata": {
        "id": "jT5fc8vkCNCy"
      },
      "source": [
        "gazeteduvar_meme_kanser_links=[]\n",
        "with open(\"gazeteduvar_link_meme_kanser.txt\",'r',newline='') as f:\n",
        "  for i in f.readlines():    \n",
        "  # reader=csv.reader(f)\n",
        "    gazeteduvar_meme_kanser_links.append(i)"
      ],
      "execution_count": null,
      "outputs": []
    },
    {
      "cell_type": "code",
      "metadata": {
        "id": "LcIOWl7zCNF8",
        "colab": {
          "base_uri": "https://localhost:8080/"
        },
        "outputId": "e662ebb0-60d5-415b-eff9-bb71b09b9afb"
      },
      "source": [
        "\n",
        "t1=time.time()\n",
        "with concurrent.futures.ProcessPoolExecutor() as execut:\n",
        "  b_res=[execut.submit(creator3,i.strip()) for i in gazeteduvar_meme_kanser_links]\n",
        "\n",
        "print(time.time()-t1)"
      ],
      "execution_count": null,
      "outputs": [
        {
          "output_type": "stream",
          "text": [
            "14.20852541923523\n"
          ],
          "name": "stdout"
        }
      ]
    }
  ]
}