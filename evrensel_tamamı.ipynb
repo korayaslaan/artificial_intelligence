{
  "nbformat": 4,
  "nbformat_minor": 0,
  "metadata": {
    "colab": {
      "name": "evrensel_tamamı.ipynb",
      "provenance": [],
      "collapsed_sections": [],
      "authorship_tag": "ABX9TyM+Sgb5MmtSZmmbmW1sKej/",
      "include_colab_link": true
    },
    "kernelspec": {
      "name": "python3",
      "display_name": "Python 3"
    },
    "language_info": {
      "name": "python"
    }
  },
  "cells": [
    {
      "cell_type": "markdown",
      "metadata": {
        "id": "view-in-github",
        "colab_type": "text"
      },
      "source": [
        "<a href=\"https://colab.research.google.com/github/korayaslaan/artificial_intelligence/blob/main/evrensel_tamam%C4%B1.ipynb\" target=\"_parent\"><img src=\"https://colab.research.google.com/assets/colab-badge.svg\" alt=\"Open In Colab\"/></a>"
      ]
    },
    {
      "cell_type": "code",
      "metadata": {
        "id": "YBC3G-on7oUu"
      },
      "source": [
        "import os\n",
        "import bs4\n",
        "import requests\n",
        "from bs4 import BeautifulSoup\n",
        "import pandas as pd\n",
        "import numpy as np\n",
        "import os\n",
        "import time\n",
        "import urllib.request\n",
        "import re\n",
        "import urllib3\n",
        "from pandas import DataFrame\n",
        "import csv\n",
        "import datetime\n",
        "from datetime import datetime, timedelta"
      ],
      "execution_count": 72,
      "outputs": []
    },
    {
      "cell_type": "code",
      "metadata": {
        "id": "w4zdUHik7tBu"
      },
      "source": [
        "def datecreator():\n",
        "  t1=datetime(2019,4,1)#en son 1999 05 01 e kadar çalışıyo\n",
        "  t2=datetime(2019,4,5)\n",
        "  t = timedelta(days = 1)\n",
        "  links = []\n",
        "  url =\"https://www.evrensel.net/arsiv/\"\n",
        "  dates = np.arange(t1, t2, t).astype(datetime)\n",
        "  for i in dates:\n",
        "    newdate=i.strftime('%Y%m%d')\n",
        "    url_in=\"{}{}{}\".format(url,newdate,\"/tarih\")\n",
        "    links.append(url_in)\n",
        "  return links"
      ],
      "execution_count": 73,
      "outputs": []
    },
    {
      "cell_type": "code",
      "metadata": {
        "id": "msu0NzGY7tEP"
      },
      "source": [
        "def get_link(i):\n",
        "    count=0\n",
        "    count2=0\n",
        "    count3=0\n",
        "    page_one = 0\n",
        "    r = requests.get(i)   \n",
        "    soup = BeautifulSoup(r.content, 'html5lib')\n",
        "    dizi = []\n",
        "    for a in soup.find_all('a', href=True):\n",
        "      link = a['href']\n",
        "      count2+=1\n",
        "    for a in soup.find_all('a', href=True):\n",
        "        link = a['href']\n",
        "        say=count2-93\n",
        "        say = say + 50\n",
        "        if (count>49 and count<say): #58 haber 49 dan başlıyo\n",
        "            with open(\"evrensel_link.txt\", 'a') as file: \n",
        "                file.write(link+'\\n')\n",
        "        count+=1"
      ],
      "execution_count": 74,
      "outputs": []
    },
    {
      "cell_type": "code",
      "metadata": {
        "id": "bidJEG5z7tGR"
      },
      "source": [
        "def creator(url):\n",
        "    r = requests.get(url)   \n",
        "    soup = BeautifulSoup(r.content, 'html5lib')\n",
        "    title = soup.find(\"h1\").getText()\n",
        "    content_array = soup.find(\"div\", attrs = {\"class\":\"haber-metin\"}).getText()\n",
        "    date = soup.find(\"div\", attrs = {\"class\":\"tarih\"}).getText()\n",
        "    date = date.split()\n",
        "    date = date[0] + date[1] + date[2] \n",
        "    content_array = content_array.split()\n",
        "    content_string = \"\"\n",
        "    stop = \"Reklam$('#haber-reklam\"\n",
        "    for w in content_array:\n",
        "      if w == stop:\n",
        "        break\n",
        "      else:\n",
        "        content_string = content_string+\" \"+w\n",
        "        #w_data = url+\";\"+date+\";\"+title+\";\"+content_string\n",
        "    w_data=\"{};{};{};{}\".format(url,date,title,content_string)\n",
        "    #print(w_data)\n",
        "    # write_to_txt(w_data)\n",
        "    with open(\"evrensel_content.txt\", 'a') as file: \n",
        "        file.write(w_data+'\\n')"
      ],
      "execution_count": 75,
      "outputs": []
    },
    {
      "cell_type": "code",
      "metadata": {
        "id": "vJ7dTjoF8Dn9"
      },
      "source": [
        "links = datecreator()\n",
        "for i in links:\n",
        "  get_link(i)"
      ],
      "execution_count": 80,
      "outputs": []
    },
    {
      "cell_type": "code",
      "metadata": {
        "id": "MbcEQxFE7tMk"
      },
      "source": [
        "import os\n",
        "import csv\n",
        "import concurrent\n",
        "import multiprocessing\n",
        "from multiprocessing import pool\n",
        "import io\n",
        "from pprint import pprint\n",
        "evrensel_link=[]\n",
        "with open(\"evrensel_link.txt\",'r',newline='') as f:\n",
        "  for i in f.readlines():    \n",
        "  # reader=csv.reader(f)\n",
        "    evrensel_link.append(i)"
      ],
      "execution_count": 81,
      "outputs": []
    },
    {
      "cell_type": "code",
      "metadata": {
        "colab": {
          "base_uri": "https://localhost:8080/"
        },
        "id": "Gb6KZw1r7tOf",
        "outputId": "a3898a39-fada-4268-83f0-4b502953d534"
      },
      "source": [
        "t1=time.time()\n",
        "with concurrent.futures.ProcessPoolExecutor() as execut:\n",
        "  b_res=[execut.submit(creator,i.strip()) for i in evrensel_link]\n",
        "\n",
        "print(time.time()-t1)"
      ],
      "execution_count": 82,
      "outputs": [
        {
          "output_type": "stream",
          "text": [
            "37.70693373680115\n"
          ],
          "name": "stdout"
        }
      ]
    },
    {
      "cell_type": "code",
      "metadata": {
        "id": "kF-JyKih7tQc"
      },
      "source": [
        ""
      ],
      "execution_count": 78,
      "outputs": []
    }
  ]
}