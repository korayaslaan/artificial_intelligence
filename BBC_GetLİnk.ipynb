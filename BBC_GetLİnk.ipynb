{
  "nbformat": 4,
  "nbformat_minor": 0,
  "metadata": {
    "colab": {
      "name": "BBC GetLİnk.ipynb",
      "provenance": [],
      "collapsed_sections": [],
      "authorship_tag": "ABX9TyOn37W42n6hnOYMznQTyuMM",
      "include_colab_link": true
    },
    "kernelspec": {
      "name": "python3",
      "display_name": "Python 3"
    },
    "language_info": {
      "name": "python"
    }
  },
  "cells": [
    {
      "cell_type": "markdown",
      "metadata": {
        "id": "view-in-github",
        "colab_type": "text"
      },
      "source": [
        "<a href=\"https://colab.research.google.com/github/korayaslaan/artificial_intelligence/blob/main/BBC_GetL%C4%B0nk.ipynb\" target=\"_parent\"><img src=\"https://colab.research.google.com/assets/colab-badge.svg\" alt=\"Open In Colab\"/></a>"
      ]
    },
    {
      "cell_type": "code",
      "execution_count": 1,
      "metadata": {
        "id": "SN3aFWdwoMzz"
      },
      "outputs": [],
      "source": [
        "import os\n",
        "import bs4\n",
        "import requests\n",
        "from bs4 import BeautifulSoup\n",
        "import pandas as pd\n",
        "import numpy as np\n",
        "import os\n",
        "import time\n",
        "import urllib.request\n",
        "import re\n",
        "import urllib3\n",
        "from pandas import DataFrame\n",
        "import csv\n",
        "import datetime\n",
        "from datetime import datetime, timedelta\n",
        "import os\n",
        "import csv\n",
        "import concurrent\n",
        "import multiprocessing\n",
        "from multiprocessing import pool\n",
        "import io\n",
        "from pprint import pprint"
      ]
    },
    {
      "cell_type": "code",
      "source": [
        "def get_link(i):\n",
        "     r = requests.get(i)   \n",
        "     soup = BeautifulSoup(r.content, 'html5lib')\n",
        "     Links = []\n",
        "     AllLinksPage = []\n",
        "     for a in soup.find_all('a', href=True):\n",
        "       link = a['href']\n",
        "       result = link.endswith(\".stm\")\n",
        "       if(result == True):\n",
        "         result2 = link.startswith(\"/web\")\n",
        "         if(result2==True):\n",
        "            link = \"https://web.archive.org\" + link\n",
        "            with open(\"NewsLinkAll.txt\", 'a') as file: \n",
        "               file.write(link +'\\n')\n",
        "         else:\n",
        "            with open(\"NewsLinkAll.txt\", 'a') as file: \n",
        "               file.write(link +'\\n')"
      ],
      "metadata": {
        "id": "5CjAgmvXoP7m"
      },
      "execution_count": 2,
      "outputs": []
    },
    {
      "cell_type": "code",
      "source": [
        "NewsLink=[]\n",
        "with open(\"totalLinks.txt\",'r',newline='') as f:\n",
        "  for i in f.readlines():    \n",
        "    NewsLink.append(i)\n",
        "\n",
        "t1=time.time()\n",
        "with concurrent.futures.ProcessPoolExecutor() as execut:\n",
        "  b_res=[execut.submit(get_link,i.strip()) for i in NewsLink]\n",
        "\n",
        "print(time.time()-t1)"
      ],
      "metadata": {
        "id": "GRGR-flmoP5e"
      },
      "execution_count": null,
      "outputs": []
    }
  ]
}