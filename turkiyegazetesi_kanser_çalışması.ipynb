{
  "nbformat": 4,
  "nbformat_minor": 0,
  "metadata": {
    "colab": {
      "name": "turkiyegazetesi_kanser_çalışması.ipynb",
      "provenance": [],
      "authorship_tag": "ABX9TyN1hBNgGD8rzKpNLmWf6D7D",
      "include_colab_link": true
    },
    "kernelspec": {
      "name": "python3",
      "display_name": "Python 3"
    },
    "language_info": {
      "name": "python"
    }
  },
  "cells": [
    {
      "cell_type": "markdown",
      "metadata": {
        "id": "view-in-github",
        "colab_type": "text"
      },
      "source": [
        "<a href=\"https://colab.research.google.com/github/korayaslaan/artificial_intelligence/blob/main/turkiyegazetesi_kanser_%C3%A7al%C4%B1%C5%9Fmas%C4%B1.ipynb\" target=\"_parent\"><img src=\"https://colab.research.google.com/assets/colab-badge.svg\" alt=\"Open In Colab\"/></a>"
      ]
    },
    {
      "cell_type": "code",
      "metadata": {
        "id": "llD6fFXgYQvv"
      },
      "source": [
        "import os\n",
        "import bs4\n",
        "import requests\n",
        "from bs4 import BeautifulSoup\n",
        "import pandas as pd\n",
        "import numpy as np\n",
        "import os\n",
        "import time\n",
        "import urllib.request\n",
        "import re\n",
        "import urllib3\n",
        "from pandas import DataFrame\n",
        "import csv\n",
        "import datetime\n",
        "from datetime import datetime, timedelta"
      ],
      "execution_count": 49,
      "outputs": []
    },
    {
      "cell_type": "code",
      "metadata": {
        "id": "83k781ssYm3P"
      },
      "source": [
        "def datecreator():\n",
        "  kanser_links = []\n",
        "  prostat_links = []\n",
        "  memekanseri_links=[]\n",
        "  kan_link =\"https://www.turkiyegazetesi.com.tr/arama?q=kanser&pg=\" #85 e kadar sayfa var kanser\n",
        "  pros_link = \"https://www.turkiyegazetesi.com.tr/arama?q=prostat%20kanseri&pg=\" #2 e kadar sayfa var prostat kanseri\n",
        "  mem_link = \"https://www.turkiyegazetesi.com.tr/arama?q=meme%20kanseri&pg=\" #5 ya kadar sayfa var meme kanseri\n",
        "  kanser_links.append(\"https://www.turkiyegazetesi.com.tr/search?srch=kanser\")\n",
        "  for i in range(2,2,1): #ilk sayfası hatalı o yüzden 2 den başlicak\n",
        "    kanser_links.append(\"{}{}\".format(kan_link,i))\n",
        "\n",
        "  for i in range(1,2,1):\n",
        "    prostat_links.append(\"{}{}\".format(pros_link,i))\n",
        "\n",
        "  for i in range(1,2,1):\n",
        "    memekanseri_links.append(\"{}{}\".format(mem_link,i))\n",
        "  return kanser_links,memekanseri_links,prostat_links"
      ],
      "execution_count": 61,
      "outputs": []
    },
    {
      "cell_type": "code",
      "metadata": {
        "colab": {
          "base_uri": "https://localhost:8080/"
        },
        "id": "5DFfLhnPYm5S",
        "outputId": "d362344f-8002-4b5d-ec51-2a300d0f1275"
      },
      "source": [
        "page_kanser_links,page_memekanseri_links,page_prostat_links = datecreator()\n",
        "print(page_kanser_links)\n",
        "print(page_memekanseri_links)\n",
        "print(page_prostat_links)"
      ],
      "execution_count": 62,
      "outputs": [
        {
          "output_type": "stream",
          "text": [
            "['https://www.turkiyegazetesi.com.tr/search?srch=kanser']\n",
            "['https://www.turkiyegazetesi.com.tr/arama?q=meme%20kanseri&pg=1']\n",
            "['https://www.turkiyegazetesi.com.tr/arama?q=prostat%20kanseri&pg=1']\n"
          ],
          "name": "stdout"
        }
      ]
    },
    {
      "cell_type": "code",
      "metadata": {
        "id": "JhX3U6s5Ym7n"
      },
      "source": [
        "def get_link_kanser(i):\n",
        "    r = requests.get(i)   \n",
        "    soup = BeautifulSoup(r.content, 'html5lib')\n",
        "    dizi = []\n",
        "    for a in soup.find_all('a', href=True):\n",
        "        link = a['href']\n",
        "        result = link.startswith(('https://www.turkiyegazetesi.com.tr/yasam','https://www.turkiyegazetesi.com.tr/saglik','https://www.turkiyegazetesi.com.tr/magazin','https://www.turkiyegazetesi.com.tr/politika'))\n",
        "        if result == True:\n",
        "          if len(link)>45:\n",
        "            if not link in dizi:           #çekilen linklerde aynı olan verileri teke düşürüyor \n",
        "               dizi.append(link)\n",
        "               with open(\"turkiyegazetesi_link_kanser.txt\", 'a') as file: \n",
        "                  file.write(link+'\\n')\n",
        "                  dizi.append(link)\n",
        "    return dizi"
      ],
      "execution_count": 64,
      "outputs": []
    },
    {
      "cell_type": "code",
      "metadata": {
        "id": "zXRW5KJrYm9k"
      },
      "source": [
        "\n",
        "def get_link_prostatkanseri(i):\n",
        "    r = requests.get(i)   \n",
        "    soup = BeautifulSoup(r.content, 'html5lib')\n",
        "    dizi = []\n",
        "    for a in soup.find_all('a', href=True):\n",
        "        link = a['href']\n",
        "        result = link.startswith(('https://www.turkiyegazetesi.com.tr/yasam','https://www.turkiyegazetesi.com.tr/saglik','https://www.turkiyegazetesi.com.tr/magazin','https://www.turkiyegazetesi.com.tr/politika'))\n",
        "        if result == True:\n",
        "          if len(link)>45:\n",
        "            if not link in dizi:           #çekilen linklerde aynı olan verileri teke düşürüyor \n",
        "               dizi.append(link)\n",
        "               with open(\"turkiyegazetesi_link_prostat_kanser.txt\", 'a') as file: \n",
        "                  file.write(link+'\\n')\n",
        "                  dizi.append(link)\n",
        "    return dizi"
      ],
      "execution_count": 56,
      "outputs": []
    },
    {
      "cell_type": "code",
      "metadata": {
        "id": "OGXEEtgDYm_x"
      },
      "source": [
        "def get_link_memekanseri(i):\n",
        "    r = requests.get(i)   \n",
        "    soup = BeautifulSoup(r.content, 'html5lib')\n",
        "    dizi = []\n",
        "    for a in soup.find_all('a', href=True):\n",
        "        link = a['href']\n",
        "        result = link.startswith(('https://www.turkiyegazetesi.com.tr/yasam','https://www.turkiyegazetesi.com.tr/saglik','https://www.turkiyegazetesi.com.tr/magazin','https://www.turkiyegazetesi.com.tr/politika'))\n",
        "        if result == True:\n",
        "          if len(link)>45:\n",
        "            if not link in dizi:           #çekilen linklerde aynı olan verileri teke düşürüyor \n",
        "               dizi.append(link)\n",
        "               with open(\"turkiyegazetesi_link_meme_kanser.txt\", 'a') as file: \n",
        "                  file.write(link+'\\n')\n",
        "                  dizi.append(link)\n",
        "    return dizi"
      ],
      "execution_count": 55,
      "outputs": []
    },
    {
      "cell_type": "code",
      "metadata": {
        "id": "yllnKPhkYnBV"
      },
      "source": [
        "def creator1(url):\n",
        "    r = requests.get(url)   \n",
        "    soup = BeautifulSoup(r.content, 'html5lib')\n",
        "    title = soup.find(\"h1\").getText()\n",
        "    content_array = soup.find(\"div\", attrs = {\"class\":\"article-body\"}).getText()\n",
        "    date = soup.find(\"div\", attrs = {\"class\":\"story_date\"}).getText()\n",
        "    date = date.split()\n",
        "    date = date[0]\n",
        "    content_array = content_array.split()\n",
        "    content_string = \"\"\n",
        "    for w in content_array:\n",
        "        content_string = content_string+\" \"+w\n",
        "        #w_data = url+\";\"+date+\";\"+title+\";\"+content_string\n",
        "    w_data=\"{};{};{};{}\".format(url,date,title,content_string)\n",
        "    #print(w_data)\n",
        "    # write_to_txt(w_data)\n",
        "    with open(\"turkiyegazetesi_content_kanser.txt\", 'a') as file: \n",
        "        file.write(w_data+'\\n')"
      ],
      "execution_count": 57,
      "outputs": []
    },
    {
      "cell_type": "code",
      "metadata": {
        "id": "Ov2RI2dnZD0h"
      },
      "source": [
        "def creator2(url):\n",
        "    r = requests.get(url)   \n",
        "    soup = BeautifulSoup(r.content, 'html5lib')\n",
        "    title = soup.find(\"h1\").getText()\n",
        "    content_array = soup.find(\"div\", attrs = {\"class\":\"article-body\"}).getText()\n",
        "    date = soup.find(\"div\", attrs = {\"class\":\"story_date\"}).getText()\n",
        "    date = date.split()\n",
        "    date = date[0]\n",
        "    content_array = content_array.split()\n",
        "    content_string = \"\"\n",
        "    for w in content_array:\n",
        "        content_string = content_string+\" \"+w\n",
        "        #w_data = url+\";\"+date+\";\"+title+\";\"+content_string\n",
        "    w_data=\"{};{};{};{}\".format(url,date,title,content_string)\n",
        "    #print(w_data)\n",
        "    # write_to_txt(w_data)\n",
        "    with open(\"turkiyegazetesi_content_prostat_kanser.txt\", 'a') as file: \n",
        "        file.write(w_data+'\\n')"
      ],
      "execution_count": 58,
      "outputs": []
    },
    {
      "cell_type": "code",
      "metadata": {
        "id": "VvIO-ICTZD2z"
      },
      "source": [
        "def creator3(url):\n",
        "    r = requests.get(url)   \n",
        "    soup = BeautifulSoup(r.content, 'html5lib')\n",
        "    title = soup.find(\"h1\").getText()\n",
        "    content_array = soup.find(\"div\", attrs = {\"class\":\"article-body\"}).getText()\n",
        "    date = soup.find(\"div\", attrs = {\"class\":\"story_date\"}).getText()\n",
        "    date = date.split()\n",
        "    date = date[0]\n",
        "    content_array = content_array.split()\n",
        "    content_string = \"\"\n",
        "    for w in content_array:\n",
        "        content_string = content_string+\" \"+w\n",
        "        #w_data = url+\";\"+date+\";\"+title+\";\"+content_string\n",
        "    w_data=\"{};{};{};{}\".format(url,date,title,content_string)\n",
        "    #print(w_data)\n",
        "    # write_to_txt(w_data)\n",
        "    with open(\"turkiyegazetesi_content_meme_kanser.txt\", 'a') as file: \n",
        "        file.write(w_data+'\\n')"
      ],
      "execution_count": 59,
      "outputs": []
    },
    {
      "cell_type": "code",
      "metadata": {
        "id": "AxEQXLKgZD5B"
      },
      "source": [
        "page_kanser_links,page_memekanseri_links,page_prostat_links = datecreator()\n",
        "\n",
        "dizi = []\n",
        "count= 0 \n",
        "for i in page_kanser_links:\n",
        "    try:\n",
        "       get_link_kanser(i)\n",
        "    except:\n",
        "        print('Format Dışı Link')\n",
        "\n",
        "\n",
        "for i in page_prostat_links:\n",
        "    try:\n",
        "       get_link_prostatkanseri(i)\n",
        "       \n",
        "    except:\n",
        "        print('Format Dışı Link')\n",
        "\n",
        "\n",
        "for i in page_memekanseri_links:\n",
        "    try:\n",
        "      get_link_memekanseri(i)\n",
        "       \n",
        "    except:\n",
        "        print('Format Dışı Link')"
      ],
      "execution_count": 65,
      "outputs": []
    },
    {
      "cell_type": "code",
      "metadata": {
        "id": "SiIuBTuxZD69"
      },
      "source": [
        "import os\n",
        "import csv\n",
        "import concurrent\n",
        "import multiprocessing\n",
        "from multiprocessing import pool\n",
        "import io\n",
        "from pprint import pprint\n",
        "turkiyegazetesi_kanser_links=[]\n",
        "with open(\"turkiyegazetesi_link_kanser.txt\",'r',newline='') as f:\n",
        "  for i in f.readlines():    \n",
        "  # reader=csv.reader(f)\n",
        "    turkiyegazetesi_kanser_links.append(i)"
      ],
      "execution_count": null,
      "outputs": []
    },
    {
      "cell_type": "code",
      "metadata": {
        "colab": {
          "base_uri": "https://localhost:8080/"
        },
        "id": "vduB9eHSm512",
        "outputId": "54786ccd-6677-4235-e60a-e7adde28bb68"
      },
      "source": [
        "t1=time.time()\n",
        "with concurrent.futures.ProcessPoolExecutor() as execut:\n",
        "  b_res=[execut.submit(creator1,i.strip()) for i in turkiyegazetesi_kanser_links]\n",
        "\n",
        "print(time.time()-t1)"
      ],
      "execution_count": null,
      "outputs": [
        {
          "output_type": "stream",
          "text": [
            "26.065549612045288\n"
          ],
          "name": "stdout"
        }
      ]
    },
    {
      "cell_type": "code",
      "metadata": {
        "id": "Z_ouc1ulm54J"
      },
      "source": [
        "turkiyegazetesi_prostat_kanser_links=[]\n",
        "with open(\"turkiyegazetesi_link_prostat_kanser.txt\",'r',newline='') as f:\n",
        "  for i in f.readlines():    \n",
        "  # reader=csv.reader(f)\n",
        "    turkiyegazetesi_prostat_kanser_links.append(i)"
      ],
      "execution_count": null,
      "outputs": []
    },
    {
      "cell_type": "code",
      "metadata": {
        "colab": {
          "base_uri": "https://localhost:8080/"
        },
        "id": "XunLfaUqm56W",
        "outputId": "538f29a2-8ec3-4a71-878c-b92b73b38f40"
      },
      "source": [
        "t1=time.time()\n",
        "with concurrent.futures.ProcessPoolExecutor() as execut:\n",
        "  b_res=[execut.submit(creator2,i.strip()) for i in turkiyegazetesi_prostat_kanser_links]\n",
        "\n",
        "print(time.time()-t1)"
      ],
      "execution_count": null,
      "outputs": [
        {
          "output_type": "stream",
          "text": [
            "24.243828535079956\n"
          ],
          "name": "stdout"
        }
      ]
    },
    {
      "cell_type": "code",
      "metadata": {
        "id": "rNXmeL3noKSn"
      },
      "source": [
        "turkiyegazetesi_meme_kanser_links=[]\n",
        "with open(\"turkiyegazetesi_link_meme_kanser.txt\",'r',newline='') as f:\n",
        "  for i in f.readlines():    \n",
        "  # reader=csv.reader(f)\n",
        "    turkiyegazetesi_meme_kanser_links.append(i)"
      ],
      "execution_count": null,
      "outputs": []
    },
    {
      "cell_type": "code",
      "metadata": {
        "colab": {
          "base_uri": "https://localhost:8080/"
        },
        "id": "GokvbESQoKVf",
        "outputId": "6250e01c-763e-45c1-c170-4d6340dd108f"
      },
      "source": [
        "t1=time.time()\n",
        "with concurrent.futures.ProcessPoolExecutor() as execut:\n",
        "  b_res=[execut.submit(creator3,i.strip()) for i in turkiyegazetesi_meme_kanser_links]\n",
        "\n",
        "print(time.time()-t1)"
      ],
      "execution_count": null,
      "outputs": [
        {
          "output_type": "stream",
          "text": [
            "31.519213676452637\n"
          ],
          "name": "stdout"
        }
      ]
    }
  ]
}