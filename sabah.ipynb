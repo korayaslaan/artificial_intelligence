{
  "nbformat": 4,
  "nbformat_minor": 0,
  "metadata": {
    "colab": {
      "name": "sabah.ipynb",
      "provenance": [],
      "collapsed_sections": [],
      "authorship_tag": "ABX9TyPpoXCIRNDlCuwkcwwwF3sb",
      "include_colab_link": true
    },
    "kernelspec": {
      "display_name": "Python 3",
      "name": "python3"
    },
    "language_info": {
      "name": "python"
    }
  },
  "cells": [
    {
      "cell_type": "markdown",
      "metadata": {
        "id": "view-in-github",
        "colab_type": "text"
      },
      "source": [
        "<a href=\"https://colab.research.google.com/github/korayaslaan/artificial_intelligence/blob/main/sabah.ipynb\" target=\"_parent\"><img src=\"https://colab.research.google.com/assets/colab-badge.svg\" alt=\"Open In Colab\"/></a>"
      ]
    },
    {
      "cell_type": "code",
      "metadata": {
        "colab": {
          "base_uri": "https://localhost:8080/"
        },
        "id": "vCL741U4lHpK",
        "outputId": "169aa3a9-5fe3-4032-b0d1-19008803c195"
      },
      "source": [
        "#from google.colab import drive\n",
        "#drive.mount('/content/drive/', force_remount=True)"
      ],
      "execution_count": null,
      "outputs": [
        {
          "output_type": "stream",
          "text": [
            "Mounted at /content/drive/\n"
          ],
          "name": "stdout"
        }
      ]
    },
    {
      "cell_type": "code",
      "metadata": {
        "id": "gwEGcSxAZNh9"
      },
      "source": [
        "import os\n",
        "import bs4\n",
        "import requests\n",
        "from bs4 import BeautifulSoup\n",
        "import pandas as pd\n",
        "import numpy as np\n",
        "import os\n",
        "import urllib.request\n",
        "import re\n",
        "import urllib3\n",
        "from pandas import DataFrame\n",
        "import csv\n",
        "import datetime\n",
        "from datetime import datetime, timedelta"
      ],
      "execution_count": 390,
      "outputs": []
    },
    {
      "cell_type": "code",
      "metadata": {
        "id": "fo2ro2yZ2qzN"
      },
      "source": [
        "def create_link_date_first() : \n",
        "  dates_list = []\n",
        "  for year in range(2019,2020):\n",
        "    for month in range(12,13):\n",
        "      for day in range(30,31):\n",
        "        date='{}/{}/{}'.format(year,month,day)\n",
        "        dates_list.append(date)\n",
        "  return dates_list"
      ],
      "execution_count": 391,
      "outputs": []
    },
    {
      "cell_type": "code",
      "metadata": {
        "id": "NSxrKz2fVKYQ"
      },
      "source": [
        "def create_link():\n",
        "  url  = 'https://www.sabah.com.tr/timeline'\n",
        "  keyword = ['gundem' ,'ekonomi','yasam','saglik','dunya','seyahat','yazarlar']\n",
        "  all_links = []\n",
        "  txt=\"\"\n",
        "  for j in keyword:\n",
        "    for i in create_link_date_first():\n",
        "     txt=\"{}/{}?c={}\".format(url,i,j)\n",
        "     all_links.append(txt)\n",
        "\n",
        "  return all_links"
      ],
      "execution_count": 393,
      "outputs": []
    },
    {
      "cell_type": "code",
      "metadata": {
        "id": "lM06oxiZoOS-"
      },
      "source": [
        "def create_new_link_page():\n",
        "  dblink=[]\n",
        "  for i in create_link(): \n",
        "    req = requests.get(i)\n",
        "    try:\n",
        "      soup = BeautifulSoup(req.content, \"lxml\")\n",
        "      for a in soup.find_all('a', href=True):\n",
        "        #print(a.get(\"href\"))\n",
        "        test=a.get(\"href\")\n",
        "        result = test.startswith(('/gunde' ,'/ekono','/yasam','/sagli','/dunya','/seyah','/yazar'), 0, 6)\n",
        "        if result == True:\n",
        "          if len(test)>20:\n",
        "            txt = \"\"\n",
        "            url = 'https://www.sabah.com.tr'\n",
        "            txt=\"{}{}\".format(url,test)\n",
        "            dblink.append(txt)\n",
        "            \n",
        "       #dblink+=[link.get('href') for link in soup.find_all('a')]\n",
        "    except:\n",
        "      print(\"----------------\")\n",
        "  return dblink"
      ],
      "execution_count": 400,
      "outputs": []
    },
    {
      "cell_type": "code",
      "metadata": {
        "id": "_vso7GjvYiHh"
      },
      "source": [
        "for i in create_new_link_page():\n",
        "  print(i)"
      ],
      "execution_count": null,
      "outputs": []
    },
    {
      "cell_type": "code",
      "metadata": {
        "id": "umxCs0U04MUs"
      },
      "source": [
        "def veri_cek():\n",
        "  link = create_new_link_page()\n",
        "  array=[]\n",
        "  count=1\n",
        "  for i in link:\n",
        "     r = requests.get(i)  \n",
        "     print(count ,\".Haber\")\n",
        "     count+=1 \n",
        "     soup = BeautifulSoup(r.content, 'lxml')\n",
        "     try:\n",
        "       print(i)\n",
        "       dat=soup.find(\"div\",attrs={\"class\":\"newsBox\"}).text\n",
        "       dat2=soup.find(\"span\",attrs={\"class\":\"textInfo\"}).span.text\n",
        "       print(dat2) \n",
        "       print(dat) \n",
        "      # array.append(i)\n",
        "      # array.append(dat2)\n",
        "      # array.append(dat)\n",
        "     except:\n",
        "       print(\"---------------------\")\n",
        "    \n",
        "   "
      ],
      "execution_count": 454,
      "outputs": []
    },
    {
      "cell_type": "code",
      "metadata": {
        "colab": {
          "base_uri": "https://localhost:8080/"
        },
        "id": "Pn1z_3-p4MMD",
        "outputId": "e744322c-93d4-4894-df9d-40730546fe5e"
      },
      "source": [
        "veri_cek()"
      ],
      "execution_count": null,
      "outputs": [
        {
          "output_type": "stream",
          "text": [
            "1 .Haber\n",
            "https://www.sabah.com.tr/gundem/2019/12/30/karabukte-feto-sanigina-hapis-cezasi\n",
            "Giriş Tarihi: 31.12.2019  00:02\n",
            "\n",
            "Karabük Ağır Ceza Mahkemesindeki duruşmaya tutuksuz sanık Engin Ç. ve avukatı katıldı.\n",
            "Hakkındaki suçlamaları kabul etmeyen sanık, beraatini istedi.\n",
            "Cumhuriyet savcısı esasa ilişkin mütalaasında, sanığın \"silahlı terör örgütüne üye olmak\" suçundan hapis cezasına çarptırılmasını istedi.\n",
            "Mahkeme heyeti, sanığı ''silahlı terör örgütüne bilerek ve isteyerek yardım etmek\" suçundan 3 yıl 1 ay 15 gün hapis cezasına çarptırdı.\n",
            "\n",
            "\n",
            "\n",
            "\n",
            "\n",
            "\n",
            "\n",
            "\n",
            "2 .Haber\n",
            "https://www.sabah.com.tr/gundem/2019/12/30/turkiye-2019da-diplomasinin-merkez-ussu-oldu\n",
            "Giriş Tarihi: 30.12.2019  23:17\n",
            "\n",
            "Çok sayıda devlet başkanı, başbakan ve bakan düzeyinde yabancı ülke liderini ağırlayan Türkiye, düzenlediği uluslararası konferanslar ve ara buluculuk faaliyetleriyle 2019'da uluslararası krizlerin çözüm merkezi, bölgesel iş birliğinin odak noktası ve diplomatik üssü oldu.\n",
            "Türkiye-AB Yüksek Düzeyli Ekonomik Diyalog Toplantısı, Filistin'in Avrupa'daki 33 büyükelçisinin İstanbul buluşması, Yeni Zelanda saldırılarını görüşmek üzere İİT toplantısı, Çamlıca Cami açılışı ve Küresel Somali Diasporası Konferansı yılın ilk ve ikinci çeyreğinde ön plana çıkan gelişmeler arasında yer alıyor.\n",
            "\n",
            "\n",
            "BM Raportörü Kaşıkçı cinayetini araştırmak üzere Türkiye'de\n",
            "Irak Cumhurbaşkanı Berhem Salih, 3 Ocak'ta, Pakistan Başbakanı İmran Han ise 4 Ocak'ta Türkiye'yi ziyaret etti.\n",
            "Ukrayna'nın önceki Devlet Başkanı Petro Poroşenko, Ukrayna Ortodoks Kilisesinin bağımsızlık sürecinin son aşaması olan Fener Rum Patrikhanesi'nden \"tomos\" belgesini almak üzere 5-6 Ocak'ta İstanbul'a ziyaret gerçekleştirdi.\n",
            "Hırvatistan Cumhurbaşkanı Kolinda Grabar-Kitaroviç'in, 16 Ocak'ta Türkiye ziyareti kapsamında çeşitli alanlarda iş birliği programlarına yönelik mutabakat zabıtları imzalandı.\n",
            "ABD'li Senatör Lindsey Graham'ın 18 Ocak'taki Türkiye ziyaretinde, ABD'nin Suriye'den çekilme kararı ağırlıklı olmak üzere Türkiye-ABD ikili ilişkileri ele alındı.\n",
            "ABD'nin Suriye Özel Temsilcisi James Jeffrey'nin 26 Ocak'ta Ankara'da yaptığı görüşmelerde, ABD'nin Suriye'den çekilme sürecinin Türkiye ile eş güdümü görüşüldü.\n",
            "Birleşmiş Milletler (BM) Yargısız ve Keyfi İnfazlar Özel Raportörü Agnes Callamard, Suudi gazeteci Cemal Kaşıkçı cinayetini araştırmak üzere 27 Ocak-2 Şubat tarihlerinde Türkiye'de bulundu.\n",
            "Türkiye-AB Yüksek Düzeyli Ekonomik Diyalog Toplantısı\n",
            "ABD'nin Afganistan Uzlaşısından Sorumlu Özel Temsilcisi Büyükelçi Zalmay Halilzad'ın 20-22 Şubat ziyaretinde, Türkiye'nin barış çabalarına yapabileceği katkılar, Rusya Devlet Başkanı Vladimir Putin'in Afganistan Özel Temsilcisi Büyükelçi Zamir Kabulov'un 21-22 Şubat ziyaretinde ise Afganistan'daki barış sürecine ilişkin görüş alışverişleri ele alındı.\n",
            "\n",
            "\n",
            "Çad Cumhurbaşkanı İdris Debi İtno'nun 26-28 Şubat Türkiye ziyaretinde ikili ilişkiler, bölgesel ve uluslararası gelişmeler ele alındı ve askeri, eğitim ve kültür alanlarında 4 anlaşma imzalandı.\n",
            "İstanbul'da 28 Şubat'ta Türkiye-AB Yüksek Düzeyli Ekonomik Diyalog Toplantısı, AB Komisyonu yetkililerinin katılımlarıyla gerçekleşti.\n",
            "Libya Başbakanı ile Rusya ve Yunanistan bakanlarının Türkiye ziyareti\n",
            "Filistin'in Avrupa'daki 33 büyükelçisinin 3-4 Mart'ta Türkiye'nin ev sahipliğinde düzenlenen İstanbul'daki buluşmasına Filistin Dışişleri Bakanı Riad Malki, Filistin Ulusal Fonu Genel Direktörü Ramzi Khoury, eski BM Filistin Mültecilerine Yardım ve Bayındırlık Ajansı (UNRWA) Genel Komiseri Pierre Krahenbühl katıldı.\n",
            "ABD Dışişleri Bakanılığı Suriye Angajmanı ve DEAŞ'la Mücadele Özel Temsilcisi James Jeffrey'in 5 Mart'ta Türkiye'ye yaptığı ziyarette, ABD'nin Suriye'den çekilme kararı, Fırat'ın doğusunda güvenli bölgenin tesisi, Münbiç Yol Haritası, İdlib gerginliği azaltma bölgesindeki gelişmeler ile siyasi süreçteki son durum ele alındı.\n",
            "Cumhurbaşkanı Recep Tayyip Erdoğan, Libya Başbakanı Fayiz es-Serrac'ı 20 Mart'ta Ankara'da kabul etti.\n",
            "\n",
            "\n",
            "İslam İşbirliği Teşkilatı (İİT) Zirve Dönem Başkanı Türkiye'nin çağrısı üzerine, 15 Mart'ta Yeni Zelanda'da iki camiye yönelik düzenlenen terör saldırısı başta olmak üzere artan İslam karşıtlığı ile ırkçı ve yabancı düşmanı şiddet eylemlerini ele almak amacıyla 22 Mart'ta İstanbul'da düzenlenen İİT Dışişleri Bakanları Düzeyinde Açık Katılımlı Acil İcra Komitesi Toplantısına, 19 ülkeden bakan seviyesinde katılım sağlandı.\n",
            "Bolivya, Burkina Faso ve Belarus cumhurbaşkanlarının ziyareti\n",
            "25. Uluslararası Genç Diplomatlar (UGD) Eğitim Programı, 64 ülkeden birer genç diplomatın katılımıyla 1-21 Nisan'da Türkiye'de düzenlendi.\n",
            "Kosova Cumhuriyeti Başbakan Birinci Yardımcısı ve Dışişleri Bakanı Behçet Pacolli, 7-8 Nisan'da İstanbul'u ziyaret ederek Bakan Çavuşoğlu ile görüştü.\n",
            "Eski Bolivya Devlet Başkanı Evo Morales, 9 Nisan'da Türkiye'ye yaptığı ziyarette, Cumhurbaşkanı Erdoğan'la görüştü.\n",
            "Burkina Faso Cumhurbaşkanı Roch Marc Christian Kabore'nin 9-11 Nisan'da Türkiye'ye yaptığı ziyarette, ikili ilişkiler tüm boyutlarıyla gözden geçirilerek, çeşitli alanlarda iş birliğinin geliştirilmesi imkanları ele alındı. Ziyarette, yatırımların karşılıklı teşviki ve korunması ile savunma sanayi ve medya alanlarında iş birliği konularında 3 anlaşma imzalandı.\n",
            "NATO Parlamenter Asamblesi'nin (NATO-PA) faaliyetleri kapsamında, Rose-Roth Semineri ve Akdeniz ve Ortadoğu Özel Grubu Toplantısı, TBMM ev sahipliğinde 12-14 Nisan'da Antalya'da düzenlendi.\n",
            "\n",
            "\n",
            "Türkiye-Romanya-Polonya Dışişleri Bakanları arasındaki üçlü istişarelerin 5'incisi 19 Nisan'da Ankara'da düzenlendi.\n",
            "Öte yandan, 24-25 Nisan'da Çanakkale Kara Savaşlarının 104. yıl dönümü dolayısıyla düzenlenen anma törenlerine, Avustralya Genelkurmay Başkanı Orgeneral Angus John Campbell, Yeni Zelanda Temsilciler Meclisi Başkanı Trevor Mallard, Yeni Zelanda Hava Kuvvetleri Komutanı Tümgeneral Andrew Clark, Yeni Zelanda Savunma Bakanlığı Müsteşarı Helene Quilter, İngiltere Kara Kuvvetleri Komutanı Orgeneral Sir Mark Carleton-Smith ve Fransa Kara Kuvvetleri Komutanlığı Ulusal Toprak Komutanı Tümgeneral Christian Bailly katıldı.\n",
            "İİT Ekonomik ve Ticari İşbirliği Daimi Komitesi (İSEDAK) İzleme Komitesi'nin 35. Toplantısı, 24-25 Nisan'da Ankara'da yapıldı. \n",
            "\n",
            "\n",
            "Ankara'da Astana formatında \"Türkiye-İran-Rusya Üçlü Zirve Toplantısı\"\n",
            "Ankara'da 16 Eylül'de Astana formatında düzenlenen \"Türkiye-İran-Rusya Üçlü Zirve Toplantısı\" ile ABD Başkan Yardımcısı Mike Pence ve ABD Dışişleri Bakanı Mike Pompeo'nun, 17 Ekim'de Ankara'ya yaptığı ziyaretteki görüşmelerin ardından yayımlanan \"Türkiye-ABD Ortak Açıklaması\" yılın ikinci 6 ayında ön plana çıkan gelişmeler arasında yer alıyor. \n",
            "Arnavutluk ve Malezya başbakanları temmuzda Türkiye'ye ziyaret gerçekleştirdi\n",
            "Avrupa Konseyi İnsan Hakları Komiseri Dunja Mijatovic, 1-5 Temmuz'da Türkiye'ye yaptığı ziyarette, Dışişleri Bakanı Mevlüt Çavuşoğlu, Adalet Bakanı Abdulhamit Gül ve İçişleri Bakan Yardımcısı Muhterem İnce tarafından kabul edildi. \n",
            "Türkiye Cumhurbaşkanı Recep Tayyip Erdoğan, 5 Temmuz'da Libya Ulusal Mutabakat Hükümeti Başbakanı Fayiz es-Serrac ile görüştü. \n",
            "Çavuşoğlu'nun, temmuz ayında Ankara'ya resmi ziyaret gerçekleştiren Afganistan Dışişleri Bakanı Selahaddin Rabbani, Nikaragua Dışişleri Bakanı Denis Moncada Colindres ve İsviçre Dışişleri Bakanı Ignazio Cassis ile yaptığı ayrı ayrı görüşmelerde, ikili ilişkiler ve bölgesel gelişmeler ele alındı. Öte yandan, Cassis'in ziyareti, 2011'den beri İsviçre'den dışişleri bakanı düzeyinde Türkiye'ye gerçekleştirilen ilk ikili ziyaret oldu.\n",
            "Arnavutluk Başbakanı Edi Rama, 18-19 Temmuz'da Türkiye'ye gerçekleştirdiği ziyaret çerçevesinde Cumhurbaşkanı Erdoğan tarafından kabul edildi. \n",
            "\n",
            "\n",
            "Suriye konulu Türkiye-ABD Yüksek Düzeyli Çalışma Grubu'nun Ankara'da yapılan 5'inci toplantısında, Suriye'nin kuzeydoğusundaki durum, Münbiç Yol Haritası, İdlib'deki gelişmeler ve siyasi süreç konuları ele alındı.\n",
            "Malezya Başbakanı Mahathir Muhammed ve beraberindeki 15 kişilik heyet, 24-27 Temmuz'da Türkiye'ye resmi ziyaret gerçekleştirdi. Ziyaret kapsamında Erdoğan, konuk Başbakan'a Cumhurbaşkanı Nişanı tevcih etti. \n",
            "Ukrayna Devlet Başkanı Zelenskiy'in bölgedeki ilk ziyareti Türkiye'ye \n",
            "Özbekistan Dışişleri Bakanı Abdulaziz Kamilov'un, 5-6 Ağustos'ta Türkiye'ye yaptığı resmi ziyarette, Çavuşoğlu ile Kamilov'un eş başkanlıklarında Ortak Stratejik Planlama Grubu 1'inci Toplantısı düzenlendi. \n",
            "Öte yandan, Sırbistan Başbakan Birinci Yardımcısı ve Dışişleri Bakanı İvica Daçiç, Nijer Dışişleri, İş Birliği, Afrika Entegrasyonu ve Yurt Dışında Yaşayan Nijerliler Bakanı Kalla Ankourao, Sierra Leone Dışişleri ve Uluslararası İş Birliği Bakanı Nabeela Tunis de ağustosta Türkiye'ye resmi ziyaret gerçekleştirdi. \n",
            "Ukrayna Devlet Başkanı Vladimir Zelenskiy, 20 Mayıs'ta göreve başlamasının ardından bölgedeki ilk resmi ziyaretini 7-8 Ağustos'ta Türkiye'ye yaptı. \n",
            "\n",
            "\n",
            "KKTC Başbakanı Ersin Tatar da başbakanlık görevini üstlenmesinin ardından ilk resmi ziyaretini 22-23 Ağustos'ta Ankara'ya gerçekleştirdi. \n",
            "Eylülde Ankara'da Türkiye-İran-Rusya Üçlü Zirve Toplantısı yapıldı\n",
            "Çek Cumhuriyeti Başbakanı Andrej Babiş, 2-4 Eylül'de Cumhurbaşkanı Erdoğan'ın davetine icabetle yaptığı ziyarette, ikili ilişkiler, güncel bölgesel ve uluslararası gelişmeler hakkında fikir alışverişinde bulunuldu. \n",
            "Çavuşoğlu, 3 Eylül'de Birleşmiş Milletler Mülteciler Yüksek Komiseri Flippo Grandi'yi kabul etti. \n",
            "Öte yandan, Dışişleri Bakan Yardımcısı Önal'ın, BM Genel Sekreteri Suriye Özel Temsilcisi Geir Pedersen ve beraberindeki heyetle yaptığı görüşmede, Suriye'deki güncel durum ve siyasi süreç ele alındı.\n",
            "Rusya Devlet Başkanı Vladimir Putin ve İran Cumhurbaşkanı Hasan Ruhani, 16 Eylül'de Ankara'da Astana formatında düzenlenen Türkiye-İran-Rusya Üçlü Zirve Toplantısı kapsamında Türkiye'yi ziyaret etti. \n",
            "Temaslarda, Anayasa Komitesinin sivil toplum temsilcilerine ilişkin mutabakat sağlandı, İdlib Gerginliği Azaltma Bölgesine yönelik rejim saldırılarından Türkiye'nin duyduğu kaygı, bölgeye ilişkin beklentilerle güçlü şekilde taraflara aktarıldı. \n",
            "\n",
            "\n",
            "Aralık'ta İstanbul'da \"Asya'nın Kalbi İstanbul Süreci Bakanlar Konferansı\" düzenlendi\n",
            "Aralık başında göreve başlayan yeni AB Komisyonunun Başkan Yardımcısı Margaritis Schinas ve Komisyonun İçişlerinden Sorumlu Üyesi Ylva Johansson, 6 Aralık'ta Türkiye'ye ziyaret gerçekleştirdi. Ziyaret kapsamında, Dışişleri Bakan Yardımcısı Faruk Kaymakcı ile bir araya gelen Schinas, Türkiye Ulusal Ajansını ziyaret etti.\n",
            "Dışişleri Bakanı Çavuşoğlu, çeşitli temaslarda bulunmak üzere İstanbul'a gelen Avrupa Konseyi Genel Sekreteri Marija Pejcinovic Buric ile 8 Aralık'ta bir araya geldi.\n",
            "\"Barış, Ortaklık, Refah\" temasıyla 9 Aralık'ta İstanbul'da \"Asya'nın Kalbi İstanbul Süreci Bakanlar Konferansı\" düzenlendi. \n",
            "Hırvatistan Dış ve Avrupa İşleri Bakanı Gordan Grliç Radman, 11 Aralık'ta Ankara'ya yaptığı resmi ziyarette, mevkidaşı Çavuşoğlu ile ikili ve bölgesel gelişmeleri ele aldı.\n",
            "Irak ve Tataristan cumhurbaşkanlarının ziyareti\n",
            "Burkina Faso, Gabon, Gine, Nijer ve Zambiya'dan bakan düzeyinde katılımın sağlandığı 14. Uluslararası Savunma Sanayii Fuarı (IDEF-2019) 30 Nisan ila 3 Mayıs'ta İstanbul'da gerçekleştirildi.\n",
            "ABD'nin Suriye Özel Temsilcisi Jeffrey'in 1 Mayıs'taki Türkiye ziyaretinde ise Suriye sınırında tesis edilmesi öngörülen güvenli bölge, ABD'nin Suriye'deki mevcudiyetinin akıbeti, İdlib'deki gelişmeler ve siyasi süreçte gelinen aşama ele alındı.\n",
            "\n",
            "\n",
            "Bosna Hersek Devlet Başkanlığı Konseyi Başkanı Milorad Dodik ile Boşnak üye Şefik Caferoviç'in, 2 Mayıs'ta Türkiye'ye yaptığı ziyarette, güncellenmiş Serbest Ticaret Anlaşması ile Saraybosna-Belgrad Otoyolu Projesi'ne ilişkin bir mutabakat zaptı imzalandı.\n",
            "Öte yandan, Bosna-Hersek Devlet Başkanlığı Konseyi Boşnak Üyesi Şefik Caferoviç, Bosna-Hersek Halklar Meclisi Başkanı Bakir İzzetbegoviç, Arnavutluk Cumhurbaşkanı İlir Meta, Afganistan İcra Heyeti Başkanı Dr. Abdullah Abdullah, Pakistan Savunma Sanayi Üretim Bakanı Zübeyde Celal, Gine Cumhurbaşkanı Alpha Condé, Nijer Kültürel Rönesans, Sanat ve Sosyal Modernizasyon Bakanı Assoumana Malam Issa, Nijerya Federal Eğitim Bakanı Mallam Adamu Adamu ve Senegal Cumhurbaşkanı Macky Sall, 3 Mayıs'ta İstanbul'da düzenlenen Çamlıca Cami'nin açılış törenine katıldı.\n",
            "NATO'nun Akdeniz Diyaloğu ortaklık mekanizmasının 25'inci kuruluş yıl dönümü dolayısıyla Kuzey Atlantik Konseyi (NAC) ile Akdeniz Diyaloğu (MD) ortakları, NATO Genel Sekreteri Jens Stoltenberg'in başkanlığında 6-7 Mayıs'ta Türkiye'yi ziyaret etti.\n",
            "5. Küresel Somali Diasporası Konferansı\n",
            "BM Suriye Özel Temsilcisi Geir O. Pedersen'in 12 Haziran'da Ankara'ya yaptığı ziyarette, Suriye'deki son durum ele alındı.\n",
            "\n",
            "\n",
            "Avrupa Güvenlik ve İşbirliği Teşkilatı (AGİT) Medya Özgürlüğü Temsilcisi Harlem Desir'in 12-14 Haziran Ankara ziyaretinde, Yargı Reformu Stratejisi'nin öngördüğü yenilikler görüşüldü.\n",
            "Fransa Avrupa ve Dışişleri Bakanı Jean-Yves Le Drian'ın 13 Haziran'da Türkiye'ye yaptığı ziyarette, Türkiye-Fransa ikili ilişkileri tüm boyutlarıyla görüşüldü.\n",
            "İstanbul'da 14-17 Haziran'da düzenlenen \"5. Küresel Somali Diasporası (GSD) Konferansı\"na, Somali Başbakan Yardımcısı Mahdi Mohammad Gulaid, İnsani İşler Bakanı Hamza Said Hamza ve eski Cumhurbaşkanı Şeyh Şerif Ahmed'in de yer aldığı dünyanın farklı ülkelerinden gelen yaklaşık 150 Somalili katıldı.\n",
            "Asya'nın Kalbi-İstanbul Süreci 3. Kıdemli Memurlar Toplantısı 25 Haziran'da Ankara'da yapıldı.\n",
            "KKTC Başbakanı Ersin Tatar 3 Haziran'da, Litvanya Ekonomi ve Yenilik Bakan Yardımcısı Marius Skuodis 11-13 Haziran'da, Karadağ Parlamentosu Uluslararası İlişkiler ve Göçmenler (Diaspora) Komisyonu Başkanı Andrija Nikoliç 11-14 Haziran'da, Çek Dışişleri Bakan Yardımcısı Martin Tlapa 13 Haziran'da, Sırbistan Başbakan Yardımcısı ve Ticaret, Turizm ve Telekomünikasyon Bakanı Rasim Ljajiç 19-20 Haziran'da ve IKBY Başkanı Neçirvan Barzani 21 Haziran'da Türkiye'ye ziyaret gerçekleştirdi.\n",
            "\n",
            "\n",
            "\n",
            "\n",
            "\n",
            "\n",
            "\n",
            "\n",
            "3 .Haber\n",
            "https://www.sabah.com.tr/gundem/2019/12/30/imamoglunun-ibbsinden-can-dundar-skandali\n",
            "Giriş Tarihi: 30.12.2019  23:13\n",
            "\n",
            "Türkiye'den kaçan vatan haini Can Dündar'ın sığındığı ilk kapı Almanya olmuştu. Almanya Cumhurbaşkanı Joachim Gauck Can Dündar'ı makamında ağırlamıştı. Terörden yargılanan Dündar'ın Almanya Cumhurbaşkanı ile olan görüşmesi Avrupa basınında da büyük tepki toplamıştı. Bununla da kalmadı ve Can Dündar'ın ABD bayrağı desenli battaniye ile bir deri koltukta uyuduğu pozu paylaşıldı.\n",
            "ALGI OPERASYONLARIYLA DEVAM ETTİ\n",
            "Can Dündar her zaman olduğu gibi bu saatten sonra büyük patronları için çalışmalarını sıklaştırdı. Sosyal medya hesabından algı operasyonlarına devam eden Can Dündar, Başkan Recep Tayyip Erdoğan'ın yanısıra bakanları da hedefine aldı.\n",
            "FETÖ ve PKK lobisinin kalemi Can Dündar, Başkan Erdoğan'ın AB ve ABD karşısındaki zaferleri karşısında adeta çılgına döndü. Türkiye'nin Suriye konusundaki masadan da güçlü çıkması sonrası Avrupa'yı ayaklandırmak için \"Avrupa Erdoğan'a boyun eğdi\" ifadelerini kullandı. Başkan Erdoğan'ın aldığı zaferi, Avrupa'daki militanları kışkırtmak için kullandı.\n",
            "FARKLI FOTOĞRAFLA ALGIYA BAŞLADI\n",
            "Başta Can Dündar ve ODA TV olmak üzere bazı kesimler, tarihi zirveden bir kareyi paylaşarak Çavuşoğlu'nun \"ayakta olmasını\" sözde diplomatik bir mesaj olarak lanse edip algı yaratma peşine düştüler.\n",
            "\n",
            "\n",
            "Türkiye'nin başı dik bir şekilde istediğini alarak çıktığı tarihi zirveye gölge düşürmek isteyenlerin ucuz oyunu yine hüsranla sonuçlandı. Can Dündar, Haluk Pekşen ve ODA TV'nin \"Çavuşoğlu ayakta\" sözleriyle algı yaptığı görüntünün orijinalinde (yani kırpılmamış halinde) ABD Dışişleri Bakanı Mike Pompeo'nun da ayakta olduğu görülüyor. Bu kare, iddia edildiği gibi Türkiye'ye karşı diplomatik bir mesaj veya aşağılamanın söz konusu olmadığını gözler önüne seriyor.\n",
            "\n",
            "\n",
            "İBB HESAPLARI FETÖ'NÜN ELİNE Mİ GEÇTİ?\n",
            "Kapı kapı gezerek Türkiye'yi şikayet eden, FETÖ ve PKK'dan yargılanan vatan haini Can Dündar, attığı tweetle İBBTV'nin beğenisi aldı. İBBTV'nin Can Dündar'ın paylaşımını beğenmesi tepki çekti.\n",
            "Türkiye'nin ABD ile görüşmelerindeki kazanımlarından bile rahatsız olacak derece düşmanlık besleyen firari Can Dündar'ın tweetinin İBBTV tarafından beğenilmesi akıllara \"İBB'nin sosyal medya hesapları FETO'nun eline mi bırakıldı?\" sorusunu akıllara getirdi.\n",
            "\n",
            "\n",
            "\n",
            "\n",
            "\n",
            "\n",
            "\n",
            "\n",
            "\n",
            "\n"
          ],
          "name": "stdout"
        }
      ]
    }
  ]
}