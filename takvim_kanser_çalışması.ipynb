{
  "nbformat": 4,
  "nbformat_minor": 0,
  "metadata": {
    "colab": {
      "name": "takvim_kanser_çalışması.ipynb",
      "provenance": [],
      "collapsed_sections": [],
      "include_colab_link": true
    },
    "kernelspec": {
      "display_name": "Python 3",
      "name": "python3"
    },
    "language_info": {
      "name": "python"
    }
  },
  "cells": [
    {
      "cell_type": "markdown",
      "metadata": {
        "id": "view-in-github",
        "colab_type": "text"
      },
      "source": [
        "<a href=\"https://colab.research.google.com/github/korayaslaan/artificial_intelligence/blob/main/takvim_kanser_%C3%A7al%C4%B1%C5%9Fmas%C4%B1.ipynb\" target=\"_parent\"><img src=\"https://colab.research.google.com/assets/colab-badge.svg\" alt=\"Open In Colab\"/></a>"
      ]
    },
    {
      "cell_type": "code",
      "metadata": {
        "id": "Zgsxn5pp89Pa"
      },
      "source": [
        "import os\n",
        "import bs4\n",
        "import requests\n",
        "from bs4 import BeautifulSoup\n",
        "import pandas as pd\n",
        "import numpy as np\n",
        "import os\n",
        "import time\n",
        "import urllib.request\n",
        "import re\n",
        "import urllib3\n",
        "from pandas import DataFrame\n",
        "import csv\n",
        "import datetime\n",
        "from datetime import datetime, timedelta"
      ],
      "execution_count": 34,
      "outputs": []
    },
    {
      "cell_type": "code",
      "metadata": {
        "id": "WlV81oLM-KPq"
      },
      "source": [
        "def datecreator():\n",
        "  kanser_links = []\n",
        "  prostat_links = []\n",
        "  memekanseri_links=[]\n",
        "  kan_link =\"https://www.takvim.com.tr/arama/arsiv?query=kanser&sort=createddatereal&issearchurl=true&categorytype=haber&haber=12934&video=189&galeri=194&tum=13318&yazar=0&tc=7444&page=\" #745 e kadar sayfa var kanser\n",
        "  pros_link = \"https://www.takvim.com.tr/arama/arsiv?query=prostat%20kanseri&sort=createddatereal&issearchurl=true&haber=6520&video=79&galeri=116&tum=6715&yazar=0&tc=6213&page=\" #672 e kadar sayfa var prostat kanseri\n",
        "  mem_link = \"https://www.takvim.com.tr/arama/arsiv?query=meme%20kanseri&sort=createddatereal&issearchurl=true&haber=6300&video=90&galeri=132&tum=6522&yazar=0&tc=5662&page=\" #567 ya kadar sayfa var meme kanseri\n",
        "\n",
        "  for i in range(1,4,1):\n",
        "    kanser_links.append(\"{}{}\".format(kan_link,i))\n",
        "\n",
        "  for i in range(1,4,1):\n",
        "    prostat_links.append(\"{}{}\".format(pros_link,i))\n",
        "\n",
        "  for i in range(1,4,1):\n",
        "    memekanseri_links.append(\"{}{}\".format(mem_link,i))\n",
        "  return kanser_links,memekanseri_links,prostat_links"
      ],
      "execution_count": 35,
      "outputs": []
    },
    {
      "cell_type": "code",
      "metadata": {
        "id": "LKT1rKCP5g8x",
        "colab": {
          "base_uri": "https://localhost:8080/"
        },
        "outputId": "c4eef302-cbea-4430-d50b-bf09a6eef501"
      },
      "source": [
        "page_kanser_links,page_memekanseri_links,page_prostat_links = datecreator()\n",
        "print(page_kanser_links)\n",
        "print(page_memekanseri_links)\n",
        "print(page_prostat_links)"
      ],
      "execution_count": 36,
      "outputs": [
        {
          "output_type": "stream",
          "text": [
            "['https://www.takvim.com.tr/arama/arsiv?query=kanser&sort=createddatereal&issearchurl=true&categorytype=haber&haber=12934&video=189&galeri=194&tum=13318&yazar=0&tc=7444&page=1', 'https://www.takvim.com.tr/arama/arsiv?query=kanser&sort=createddatereal&issearchurl=true&categorytype=haber&haber=12934&video=189&galeri=194&tum=13318&yazar=0&tc=7444&page=2', 'https://www.takvim.com.tr/arama/arsiv?query=kanser&sort=createddatereal&issearchurl=true&categorytype=haber&haber=12934&video=189&galeri=194&tum=13318&yazar=0&tc=7444&page=3']\n",
            "['https://www.takvim.com.tr/arama/arsiv?query=meme%20kanseri&sort=createddatereal&issearchurl=true&haber=6300&video=90&galeri=132&tum=6522&yazar=0&tc=5662&page=1', 'https://www.takvim.com.tr/arama/arsiv?query=meme%20kanseri&sort=createddatereal&issearchurl=true&haber=6300&video=90&galeri=132&tum=6522&yazar=0&tc=5662&page=2', 'https://www.takvim.com.tr/arama/arsiv?query=meme%20kanseri&sort=createddatereal&issearchurl=true&haber=6300&video=90&galeri=132&tum=6522&yazar=0&tc=5662&page=3']\n",
            "['https://www.takvim.com.tr/arama/arsiv?query=prostat%20kanseri&sort=createddatereal&issearchurl=true&haber=6520&video=79&galeri=116&tum=6715&yazar=0&tc=6213&page=1', 'https://www.takvim.com.tr/arama/arsiv?query=prostat%20kanseri&sort=createddatereal&issearchurl=true&haber=6520&video=79&galeri=116&tum=6715&yazar=0&tc=6213&page=2', 'https://www.takvim.com.tr/arama/arsiv?query=prostat%20kanseri&sort=createddatereal&issearchurl=true&haber=6520&video=79&galeri=116&tum=6715&yazar=0&tc=6213&page=3']\n"
          ],
          "name": "stdout"
        }
      ]
    },
    {
      "cell_type": "code",
      "metadata": {
        "id": "VfQNIUPW5IQ1"
      },
      "source": [
        "def get_link_kanser(i):\n",
        "    count=0\n",
        "    count2=0\n",
        "    count3=0\n",
        "    page_one = 0\n",
        "    r = requests.get(i)   \n",
        "    soup = BeautifulSoup(r.content, 'html5lib')\n",
        "    dizi = []\n",
        "    if i.endswith(\"=1\"):\n",
        "      page_one-=1\n",
        "      print(\"1.sayfa\")\n",
        "    for a in soup.find_all('a', href=True):\n",
        "      link = a['href']\n",
        "      count2+=1\n",
        "    for a in soup.find_all('a', href=True):\n",
        "        link = a['href']\n",
        "        sayi=82-(269-count2+page_one)   \n",
        "        if (count<sayi and count>71):\n",
        "          count3+=1\n",
        "          if count3 % 4 ==1:\n",
        "            result = link.startswith((\"/arama\"),0,10)\n",
        "            if result == False:\n",
        "              result2 = link.startswith((\"http\"),0,6)\n",
        "              if result2 == True:\n",
        "                   with open(\"takvim_link_kanser.txt\", 'a') as file: \n",
        "                       file.write(link+'\\n')\n",
        "                       dizi.append(link)\n",
        "                       count+=1\n",
        "              else:\n",
        "                   link = \"{}{}\".format('https://www.takvim.com.tr',link)\n",
        "                   with open(\"takvim_link_kanser.txt\", 'a') as file: \n",
        "                      file.write(link+'\\n')\n",
        "                      dizi.append(link)\n",
        "                      count+=1     \n",
        "                 \n",
        "        else:\n",
        "          count+=1"
      ],
      "execution_count": 37,
      "outputs": []
    },
    {
      "cell_type": "code",
      "metadata": {
        "id": "ALkLbRig-2zh"
      },
      "source": [
        "def get_link_prostatkanseri(i):\n",
        "    count=0\n",
        "    count2=0\n",
        "    count3=0\n",
        "    page_one = 0\n",
        "    r = requests.get(i)   \n",
        "    soup = BeautifulSoup(r.content, 'html5lib')\n",
        "    dizi = []\n",
        "    if i.endswith(\"=1\"):\n",
        "      page_one-=1\n",
        "      print(\"1.sayfa\")\n",
        "    for a in soup.find_all('a', href=True):\n",
        "      link = a['href']\n",
        "      count2+=1\n",
        "    for a in soup.find_all('a', href=True):\n",
        "        link = a['href']\n",
        "        sayi=82-(269-count2+page_one)   \n",
        "        if (count<sayi and count>71):\n",
        "          count3+=1\n",
        "          if count3 % 4 ==1:\n",
        "            result = link.startswith((\"/arama\"),0,10)\n",
        "            if result == False:\n",
        "              result2 = link.startswith((\"http\"),0,6)\n",
        "              if result2 == True:\n",
        "                   with open(\"takvim_link_prostat_kanser.txt\", 'a') as file: \n",
        "                       file.write(link+'\\n')\n",
        "                       dizi.append(link)\n",
        "                       count+=1\n",
        "              else:\n",
        "                   link = \"{}{}\".format('https://www.takvim.com.tr',link)\n",
        "                   with open(\"takvim_link_prostat_kanser.txt\", 'a') as file: \n",
        "                      file.write(link+'\\n')\n",
        "                      dizi.append(link)\n",
        "                      count+=1     \n",
        "                 \n",
        "        else:\n",
        "          count+=1"
      ],
      "execution_count": 38,
      "outputs": []
    },
    {
      "cell_type": "code",
      "metadata": {
        "id": "TEVoooCK-21o"
      },
      "source": [
        "def get_link_memekanseri(i):\n",
        "    count=0\n",
        "    count2=0\n",
        "    count3=0\n",
        "    page_one = 0\n",
        "    r = requests.get(i)   \n",
        "    soup = BeautifulSoup(r.content, 'html5lib')\n",
        "    dizi = []\n",
        "    if i.endswith(\"=1\"):\n",
        "      page_one-=1\n",
        "      print(\"1.sayfa\")\n",
        "    for a in soup.find_all('a', href=True):\n",
        "      link = a['href']\n",
        "      count2+=1\n",
        "    for a in soup.find_all('a', href=True):\n",
        "        link = a['href']\n",
        "        sayi=82-(269-count2+page_one)   \n",
        "        if (count<sayi and count>71):\n",
        "          count3+=1\n",
        "          if count3 % 4 ==1:\n",
        "            result = link.startswith((\"/arama\"),0,10)\n",
        "            if result == False:\n",
        "              result2 = link.startswith((\"http\"),0,6)\n",
        "              if result2 == True:\n",
        "                   with open(\"takvim_link_meme_kanser.txt\", 'a') as file: \n",
        "                       file.write(link+'\\n')\n",
        "                       dizi.append(link)\n",
        "                       count+=1\n",
        "              else:\n",
        "                   link = \"{}{}\".format('https://www.takvim.com.tr',link)\n",
        "                   with open(\"takvim_link_meme_kanser.txt\", 'a') as file: \n",
        "                      file.write(link+'\\n')\n",
        "                      dizi.append(link)\n",
        "                      count+=1     \n",
        "                 \n",
        "        else:\n",
        "          count+=1"
      ],
      "execution_count": 39,
      "outputs": []
    },
    {
      "cell_type": "code",
      "metadata": {
        "id": "QMJarZTg_Ubg"
      },
      "source": [
        "def creator1(url):\n",
        "    r = requests.get(url)   \n",
        "    soup = BeautifulSoup(r.content, 'html5lib')\n",
        "    title = soup.find(\"h2\").getText()\n",
        "    date_string = ''\n",
        "    if url.startswith((\"yazar\"),26,31):\n",
        "      content_array = soup.find(\"article\", attrs = {\"id\":\"haberDescription\"}).getText()\n",
        "    else:\n",
        "      content_array = soup.find(\"div\", attrs = {\"id\":\"contextual\"}).getText()\n",
        "\n",
        "    if url.startswith((\"yazar\"),26,31):\n",
        "      date = soup.find(\"div\", attrs = {\"class\":\"info\"}).getText()\n",
        "      date_string=\"\"\n",
        "      date = date.split()\n",
        "      count = 0\n",
        "      for w in date:\n",
        "         if count < 3:\n",
        "           date_string = date_string + \".\" +w\n",
        "         count+=1\n",
        "    else:\n",
        "      date = soup.find(\"div\", attrs = {\"class\":\"infoBox\"}).getText()\n",
        "      date_string=\"\"\n",
        "      date = date.split()\n",
        "      count = 0\n",
        "      for w in date:\n",
        "         if count == 1:\n",
        "           date_string = w\n",
        "         count+=1\n",
        "    content_array = content_array.split()\n",
        "    content_string = \"\"\n",
        "    for w in content_array:\n",
        "      content_string = content_string+\" \"+w\n",
        "    w_data=\"{};{};{};{}\".format(url,date_string,title,content_string)\n",
        "    # write_to_txt(w_data)\n",
        "    with open(\"takvim_content_kanser.txt\", 'a') as file: \n",
        "        file.write(w_data+'\\n')"
      ],
      "execution_count": 40,
      "outputs": []
    },
    {
      "cell_type": "code",
      "metadata": {
        "id": "XvPJVXSm_Ud_"
      },
      "source": [
        "def creator2(url):\n",
        "    r = requests.get(url)   \n",
        "    soup = BeautifulSoup(r.content, 'html5lib')\n",
        "    title = soup.find(\"h2\").getText()\n",
        "    date_string = ''\n",
        "    if url.startswith((\"yazar\"),26,31):\n",
        "      content_array = soup.find(\"article\", attrs = {\"id\":\"haberDescription\"}).getText()\n",
        "    else:\n",
        "      content_array = soup.find(\"div\", attrs = {\"id\":\"contextual\"}).getText()\n",
        "\n",
        "    if url.startswith((\"yazar\"),26,31):\n",
        "      date = soup.find(\"div\", attrs = {\"class\":\"info\"}).getText()\n",
        "      date_string=\"\"\n",
        "      date = date.split()\n",
        "      count = 0\n",
        "      for w in date:\n",
        "         if count < 3:\n",
        "           date_string = date_string + \".\" +w\n",
        "         count+=1\n",
        "    else:\n",
        "      date = soup.find(\"div\", attrs = {\"class\":\"infoBox\"}).getText()\n",
        "      date_string=\"\"\n",
        "      date = date.split()\n",
        "      count = 0\n",
        "      for w in date:\n",
        "         if count == 1:\n",
        "           date_string = w\n",
        "         count+=1\n",
        "    content_array = content_array.split()\n",
        "    content_string = \"\"\n",
        "    for w in content_array:\n",
        "      content_string = content_string+\" \"+w\n",
        "    w_data=\"{};{};{};{}\".format(url,date_string,title,content_string)\n",
        "    # write_to_txt(w_data)\n",
        "    with open(\"takvim_content_prostat_kanser.txt\", 'a') as file: \n",
        "        file.write(w_data+'\\n')"
      ],
      "execution_count": 41,
      "outputs": []
    },
    {
      "cell_type": "code",
      "metadata": {
        "id": "eb_5UJ9L_UiG"
      },
      "source": [
        "def creator3(url):\n",
        "    r = requests.get(url)   \n",
        "    soup = BeautifulSoup(r.content, 'html5lib')\n",
        "    title = soup.find(\"h2\").getText()\n",
        "    date_string = ''\n",
        "    if url.startswith((\"yazar\"),26,31):\n",
        "      content_array = soup.find(\"article\", attrs = {\"id\":\"haberDescription\"}).getText()\n",
        "    else:\n",
        "      content_array = soup.find(\"div\", attrs = {\"id\":\"contextual\"}).getText()\n",
        "\n",
        "    if url.startswith((\"yazar\"),26,31):\n",
        "      date = soup.find(\"div\", attrs = {\"class\":\"info\"}).getText()\n",
        "      date_string=\"\"\n",
        "      date = date.split()\n",
        "      count = 0\n",
        "      for w in date:\n",
        "         if count < 3:\n",
        "           date_string = date_string + \".\" +w\n",
        "         count+=1\n",
        "    else:\n",
        "      date = soup.find(\"div\", attrs = {\"class\":\"infoBox\"}).getText()\n",
        "      date_string=\"\"\n",
        "      date = date.split()\n",
        "      count = 0\n",
        "      for w in date:\n",
        "         if count == 1:\n",
        "           date_string = w\n",
        "         count+=1\n",
        "    content_array = content_array.split()\n",
        "    content_string = \"\"\n",
        "    for w in content_array:\n",
        "      content_string = content_string+\" \"+w\n",
        "    w_data=\"{};{};{};{}\".format(url,date_string,title,content_string)\n",
        "    # write_to_txt(w_data)\n",
        "    with open(\"takvim_content_meme_kanser.txt\", 'a') as file: \n",
        "        file.write(w_data+'\\n')"
      ],
      "execution_count": 42,
      "outputs": []
    },
    {
      "cell_type": "code",
      "metadata": {
        "id": "bOosRmRQ5-c1",
        "colab": {
          "base_uri": "https://localhost:8080/"
        },
        "outputId": "9be7142f-5d13-49f7-9e61-1e97651e1bd5"
      },
      "source": [
        "page_kanser_links,page_memekanseri_links,page_prostat_links = datecreator()\n",
        "\n",
        "\n",
        "with concurrent.futures.ProcessPoolExecutor() as execut:\n",
        "  b_res=[execut.submit(get_link_kanser,i.strip()) for i in page_kanser_links]\n",
        "\n",
        "\n",
        "with concurrent.futures.ProcessPoolExecutor() as execut:\n",
        "  b_res=[execut.submit(get_link_prostatkanseri,i.strip()) for i in page_prostat_links]\n",
        "  \n",
        "with concurrent.futures.ProcessPoolExecutor() as execut:\n",
        "  b_res=[execut.submit(get_link_memekanseri,i.strip()) for i in page_memekanseri_links]\n",
        "\n",
        "\n"
      ],
      "execution_count": 46,
      "outputs": [
        {
          "output_type": "stream",
          "text": [
            "1.sayfa\n",
            "1.sayfa\n",
            "1.sayfa\n"
          ],
          "name": "stdout"
        }
      ]
    },
    {
      "cell_type": "code",
      "metadata": {
        "id": "9FoJaloHPQcb"
      },
      "source": [
        "import concurrent.futures"
      ],
      "execution_count": 47,
      "outputs": []
    },
    {
      "cell_type": "code",
      "metadata": {
        "id": "0HQ1CzLl_8QA"
      },
      "source": [
        "import os\n",
        "import csv\n",
        "import concurrent\n",
        "import multiprocessing\n",
        "from multiprocessing import pool\n",
        "import io\n",
        "from pprint import pprint\n",
        "takvim_kanser_links=[]\n",
        "with open(\"takvim_link_kanser.txt\",'r',newline='') as f:\n",
        "  for i in f.readlines():    \n",
        "  # reader=csv.reader(f)\n",
        "    takvim_kanser_links.append(i)"
      ],
      "execution_count": 48,
      "outputs": []
    },
    {
      "cell_type": "code",
      "metadata": {
        "id": "lYXuFbqm_8ST",
        "colab": {
          "base_uri": "https://localhost:8080/"
        },
        "outputId": "b0edc192-1387-4251-b95f-4981e726e0b3"
      },
      "source": [
        "t1=time.time()\n",
        "with concurrent.futures.ProcessPoolExecutor() as execut:\n",
        "  b_res=[execut.submit(creator1,i.strip()) for i in takvim_kanser_links]\n",
        "\n",
        "print(time.time()-t1)"
      ],
      "execution_count": 49,
      "outputs": [
        {
          "output_type": "stream",
          "text": [
            "13.541728258132935\n"
          ],
          "name": "stdout"
        }
      ]
    },
    {
      "cell_type": "code",
      "metadata": {
        "id": "DEm_P3SDCM8X"
      },
      "source": [
        "takvim_prostat_kanser_links=[]\n",
        "with open(\"takvim_link_prostat_kanser.txt\",'r',newline='') as f:\n",
        "  for i in f.readlines():    \n",
        "  # reader=csv.reader(f)\n",
        "    takvim_prostat_kanser_links.append(i)"
      ],
      "execution_count": 50,
      "outputs": []
    },
    {
      "cell_type": "code",
      "metadata": {
        "id": "7G1GPxaBCM_6",
        "colab": {
          "base_uri": "https://localhost:8080/"
        },
        "outputId": "e51c4317-7498-4ca8-baf2-fe0b6c1313b8"
      },
      "source": [
        "t1=time.time()\n",
        "with concurrent.futures.ProcessPoolExecutor() as execut:\n",
        "  b_res=[execut.submit(creator2,i.strip()) for i in takvim_prostat_kanser_links]\n",
        "\n",
        "print(time.time()-t1)"
      ],
      "execution_count": 51,
      "outputs": [
        {
          "output_type": "stream",
          "text": [
            "9.170452356338501\n"
          ],
          "name": "stdout"
        }
      ]
    },
    {
      "cell_type": "code",
      "metadata": {
        "id": "jT5fc8vkCNCy"
      },
      "source": [
        "takvim_meme_kanser_links=[]\n",
        "with open(\"takvim_link_meme_kanser.txt\",'r',newline='') as f:\n",
        "  for i in f.readlines():    \n",
        "  # reader=csv.reader(f)\n",
        "    takvim_meme_kanser_links.append(i)"
      ],
      "execution_count": 52,
      "outputs": []
    },
    {
      "cell_type": "code",
      "metadata": {
        "id": "LcIOWl7zCNF8",
        "colab": {
          "base_uri": "https://localhost:8080/"
        },
        "outputId": "7eb08d53-00aa-4326-bb07-c5f46911046b"
      },
      "source": [
        "\n",
        "t1=time.time()\n",
        "with concurrent.futures.ProcessPoolExecutor() as execut:\n",
        "  b_res=[execut.submit(creator3,i.strip()) for i in takvim_meme_kanser_links]\n",
        "\n",
        "print(time.time()-t1)"
      ],
      "execution_count": 53,
      "outputs": [
        {
          "output_type": "stream",
          "text": [
            "20.813592433929443\n"
          ],
          "name": "stdout"
        }
      ]
    }
  ]
}