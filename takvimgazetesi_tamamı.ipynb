{
  "nbformat": 4,
  "nbformat_minor": 0,
  "metadata": {
    "colab": {
      "name": "takvimgazetesi_tamamı.ipynb ",
      "provenance": [],
      "collapsed_sections": [],
      "include_colab_link": true
    },
    "kernelspec": {
      "display_name": "Python 3",
      "name": "python3"
    },
    "language_info": {
      "name": "python"
    }
  },
  "cells": [
    {
      "cell_type": "markdown",
      "metadata": {
        "id": "view-in-github",
        "colab_type": "text"
      },
      "source": [
        "<a href=\"https://colab.research.google.com/github/korayaslaan/artificial_intelligence/blob/main/takvimgazetesi_tamam%C4%B1.ipynb\" target=\"_parent\"><img src=\"https://colab.research.google.com/assets/colab-badge.svg\" alt=\"Open In Colab\"/></a>"
      ]
    },
    {
      "cell_type": "code",
      "metadata": {
        "id": "Zgsxn5pp89Pa"
      },
      "source": [
        "import os\n",
        "import bs4\n",
        "import requests\n",
        "from bs4 import BeautifulSoup\n",
        "import pandas as pd\n",
        "import numpy as np\n",
        "import os\n",
        "import time\n",
        "import urllib.request\n",
        "import re\n",
        "import urllib3\n",
        "from pandas import DataFrame\n",
        "import csv\n",
        "import datetime\n",
        "from datetime import datetime, timedelta"
      ],
      "execution_count": 70,
      "outputs": []
    },
    {
      "cell_type": "code",
      "metadata": {
        "id": "WlV81oLM-KPq"
      },
      "source": [
        "def datecreator():\n",
        "  links = []\n",
        "  link = \"https://www.takvim.com.tr/arama/arsiv?issearchurl=true&haber=854130&video=65025&galeri=58664&tum=983198&yazar=0&tc=983198&page=\" #92300 ya kadar sayfa var meme kanseri\n",
        "  for i in range(1,4,1):\n",
        "    links.append(\"{}{}\".format(link,i))\n",
        "  return links"
      ],
      "execution_count": 71,
      "outputs": []
    },
    {
      "cell_type": "code",
      "metadata": {
        "id": "LKT1rKCP5g8x",
        "colab": {
          "base_uri": "https://localhost:8080/"
        },
        "outputId": "4ccae833-43c2-4f95-f073-c364dcc2af55"
      },
      "source": [
        "links = datecreator()\n",
        "print(links)\n"
      ],
      "execution_count": 72,
      "outputs": [
        {
          "output_type": "stream",
          "text": [
            "['https://www.takvim.com.tr/arama/arsiv?issearchurl=true&haber=854130&video=65025&galeri=58664&tum=983198&yazar=0&tc=983198&page=1', 'https://www.takvim.com.tr/arama/arsiv?issearchurl=true&haber=854130&video=65025&galeri=58664&tum=983198&yazar=0&tc=983198&page=2', 'https://www.takvim.com.tr/arama/arsiv?issearchurl=true&haber=854130&video=65025&galeri=58664&tum=983198&yazar=0&tc=983198&page=3']\n"
          ],
          "name": "stdout"
        }
      ]
    },
    {
      "cell_type": "code",
      "metadata": {
        "id": "VfQNIUPW5IQ1"
      },
      "source": [
        "def get_link(i):\n",
        "    count=0\n",
        "    count2=0\n",
        "    count3=0\n",
        "    page_one = 0\n",
        "    r = requests.get(i)   \n",
        "    soup = BeautifulSoup(r.content, 'html5lib')\n",
        "    dizi = []\n",
        "    if i.endswith(\"=1\"):\n",
        "      page_one-=1\n",
        "      print(\"1.sayfa\")\n",
        "    for a in soup.find_all('a', href=True):\n",
        "      link = a['href']\n",
        "      count2+=1\n",
        "    for a in soup.find_all('a', href=True):\n",
        "        link = a['href']\n",
        "        sayi=82-(269-count2+page_one)   \n",
        "        if (count<sayi and count>71):\n",
        "          count3+=1\n",
        "          if count3 % 4 ==1:\n",
        "            result = link.startswith((\"/arama\"),0,10)\n",
        "            if result == False:\n",
        "              result2 = link.startswith((\"http\"),0,6)\n",
        "              if result2 == True:\n",
        "                   with open(\"takvim_link_tamamı.txt\", 'a') as file: \n",
        "                       file.write(link+'\\n')\n",
        "                       dizi.append(link)\n",
        "                       count+=1\n",
        "              else:\n",
        "                   link = \"{}{}\".format('https://www.takvim.com.tr',link)\n",
        "                   with open(\"takvim_link_tamamı.txt\", 'a') as file: \n",
        "                      file.write(link+'\\n')\n",
        "                      dizi.append(link)\n",
        "                      count+=1     \n",
        "        else:\n",
        "          count+=1"
      ],
      "execution_count": 73,
      "outputs": []
    },
    {
      "cell_type": "code",
      "metadata": {
        "id": "QMJarZTg_Ubg"
      },
      "source": [
        "def creator(url):\n",
        "    r = requests.get(url)   \n",
        "    soup = BeautifulSoup(r.content, 'html5lib')\n",
        "    title = soup.find(\"h2\").getText()\n",
        "    category_array = url.split(\"/\")\n",
        "    count_category = 0\n",
        "    for i in category_array:\n",
        "      if count_category==3:\n",
        "        category = i\n",
        "      count_category+=1\n",
        "    date_string = ''\n",
        "    if url.startswith((\"yazar\"),26,31):\n",
        "      content_array = soup.find(\"article\", attrs = {\"id\":\"haberDescription\"}).getText()\n",
        "    else:\n",
        "      content_array = soup.find(\"div\", attrs = {\"id\":\"contextual\"}).getText()\n",
        "\n",
        "    if url.startswith((\"yazar\"),26,31):\n",
        "      date = soup.find(\"div\", attrs = {\"class\":\"info\"}).getText()\n",
        "      date_string=\"\"\n",
        "      date = date.split()\n",
        "      count = 0\n",
        "      for w in date:\n",
        "         if count < 3:\n",
        "           date_string = date_string + \".\" +w\n",
        "         count+=1\n",
        "    else:\n",
        "      date = soup.find(\"div\", attrs = {\"class\":\"infoBox\"}).getText()\n",
        "      date_string=\"\"\n",
        "      date = date.split()\n",
        "      count = 0\n",
        "      for w in date:\n",
        "         if count == 1:\n",
        "           date_string = w\n",
        "         count+=1\n",
        "    content_array = content_array.split()\n",
        "    content_string = \"\"\n",
        "    for w in content_array:\n",
        "      content_string = content_string+\" \"+w\n",
        "    w_data=\"{};{};{};{}\".format(url,date_string,category,title,content_string)\n",
        "    # write_to_txt(w_data)\n",
        "    with open(\"takvim_content_tamamı.txt\", 'a') as file: \n",
        "        file.write(w_data+'\\n')"
      ],
      "execution_count": 74,
      "outputs": []
    },
    {
      "cell_type": "code",
      "metadata": {
        "id": "bOosRmRQ5-c1",
        "colab": {
          "base_uri": "https://localhost:8080/"
        },
        "outputId": "fef25cce-a9dd-4f22-f6c5-d0dea3c89f2a"
      },
      "source": [
        "links = datecreator()\n",
        "\n",
        "\n",
        "with concurrent.futures.ProcessPoolExecutor() as execut:\n",
        "  b_res=[execut.submit(get_link,i.strip()) for i in links]\n",
        "\n",
        "\n"
      ],
      "execution_count": 75,
      "outputs": [
        {
          "output_type": "stream",
          "text": [
            "1.sayfa\n"
          ],
          "name": "stdout"
        }
      ]
    },
    {
      "cell_type": "code",
      "metadata": {
        "id": "9FoJaloHPQcb"
      },
      "source": [
        "import concurrent.futures"
      ],
      "execution_count": 76,
      "outputs": []
    },
    {
      "cell_type": "code",
      "metadata": {
        "id": "0HQ1CzLl_8QA"
      },
      "source": [
        "import os\n",
        "import csv\n",
        "import concurrent\n",
        "import multiprocessing\n",
        "from multiprocessing import pool\n",
        "import io\n",
        "from pprint import pprint\n",
        "takvim_content=[]\n",
        "with open(\"takvim_link_tamamı.txt\",'r',newline='') as f:\n",
        "  for i in f.readlines():    \n",
        "    takvim_content.append(i)"
      ],
      "execution_count": 77,
      "outputs": []
    },
    {
      "cell_type": "code",
      "metadata": {
        "id": "lYXuFbqm_8ST",
        "colab": {
          "base_uri": "https://localhost:8080/"
        },
        "outputId": "69e915a4-7032-4542-cb6e-6b266917fabc"
      },
      "source": [
        "t1=time.time()\n",
        "with concurrent.futures.ProcessPoolExecutor() as execut:\n",
        "  b_res=[execut.submit(creator,i.strip()) for i in takvim_content]\n",
        "\n",
        "print(time.time()-t1)"
      ],
      "execution_count": 78,
      "outputs": [
        {
          "output_type": "stream",
          "text": [
            "14.99331545829773\n"
          ],
          "name": "stdout"
        }
      ]
    }
  ]
}