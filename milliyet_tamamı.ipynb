{
  "nbformat": 4,
  "nbformat_minor": 0,
  "metadata": {
    "colab": {
      "name": "milliyet_tamamı.ipynb",
      "provenance": [],
      "collapsed_sections": [],
      "authorship_tag": "ABX9TyNsrxH7ye84Fuuw0abjSyhd",
      "include_colab_link": true
    },
    "kernelspec": {
      "name": "python3",
      "display_name": "Python 3"
    },
    "language_info": {
      "name": "python"
    }
  },
  "cells": [
    {
      "cell_type": "markdown",
      "metadata": {
        "id": "view-in-github",
        "colab_type": "text"
      },
      "source": [
        "<a href=\"https://colab.research.google.com/github/korayaslaan/artificial_intelligence/blob/main/milliyet_tamam%C4%B1.ipynb\" target=\"_parent\"><img src=\"https://colab.research.google.com/assets/colab-badge.svg\" alt=\"Open In Colab\"/></a>"
      ]
    },
    {
      "cell_type": "code",
      "metadata": {
        "id": "_-S2VbvqoMnH"
      },
      "source": [
        "import os\n",
        "import bs4\n",
        "import requests\n",
        "from bs4 import BeautifulSoup\n",
        "import pandas as pd\n",
        "import numpy as np\n",
        "import os\n",
        "import time\n",
        "import urllib.request\n",
        "import re\n",
        "import urllib3\n",
        "from pandas import DataFrame\n",
        "import csv\n",
        "import datetime\n",
        "from datetime import datetime, timedelta\n",
        "import concurrent.futures\n",
        "import os\n",
        "import csv\n",
        "import concurrent\n",
        "import multiprocessing\n",
        "from multiprocessing import pool\n",
        "import io\n",
        "from pprint import pprint"
      ],
      "execution_count": 42,
      "outputs": []
    },
    {
      "cell_type": "code",
      "metadata": {
        "id": "QW7l7m1HobLr"
      },
      "source": [
        "def datecreator():\n",
        "  links = []\n",
        "  link = \"https://www.milliyet.com.tr/gundem/yurtlara-giris-parmak-iziyle-\" \n",
        "  for i in range(1000000,1000050,1):\n",
        "    url = \"{}{}\".format(link,i)\n",
        "    links.append(url)\n",
        "    with open(\"milliyet_links.txt\", 'a') as file: \n",
        "        file.write(url+'\\n')\n",
        "  return links"
      ],
      "execution_count": 43,
      "outputs": []
    },
    {
      "cell_type": "code",
      "metadata": {
        "colab": {
          "base_uri": "https://localhost:8080/"
        },
        "id": "De9GbnJPobNu",
        "outputId": "c4e2e077-d719-4853-f46b-b7fb015e3b3b"
      },
      "source": [
        "links = datecreator()\n",
        "print(links)"
      ],
      "execution_count": 44,
      "outputs": [
        {
          "output_type": "stream",
          "text": [
            "['https://www.milliyet.com.tr/gundem/yurtlara-giris-parmak-iziyle-1000000', 'https://www.milliyet.com.tr/gundem/yurtlara-giris-parmak-iziyle-1000001', 'https://www.milliyet.com.tr/gundem/yurtlara-giris-parmak-iziyle-1000002', 'https://www.milliyet.com.tr/gundem/yurtlara-giris-parmak-iziyle-1000003', 'https://www.milliyet.com.tr/gundem/yurtlara-giris-parmak-iziyle-1000004', 'https://www.milliyet.com.tr/gundem/yurtlara-giris-parmak-iziyle-1000005', 'https://www.milliyet.com.tr/gundem/yurtlara-giris-parmak-iziyle-1000006', 'https://www.milliyet.com.tr/gundem/yurtlara-giris-parmak-iziyle-1000007', 'https://www.milliyet.com.tr/gundem/yurtlara-giris-parmak-iziyle-1000008', 'https://www.milliyet.com.tr/gundem/yurtlara-giris-parmak-iziyle-1000009', 'https://www.milliyet.com.tr/gundem/yurtlara-giris-parmak-iziyle-1000010', 'https://www.milliyet.com.tr/gundem/yurtlara-giris-parmak-iziyle-1000011', 'https://www.milliyet.com.tr/gundem/yurtlara-giris-parmak-iziyle-1000012', 'https://www.milliyet.com.tr/gundem/yurtlara-giris-parmak-iziyle-1000013', 'https://www.milliyet.com.tr/gundem/yurtlara-giris-parmak-iziyle-1000014', 'https://www.milliyet.com.tr/gundem/yurtlara-giris-parmak-iziyle-1000015', 'https://www.milliyet.com.tr/gundem/yurtlara-giris-parmak-iziyle-1000016', 'https://www.milliyet.com.tr/gundem/yurtlara-giris-parmak-iziyle-1000017', 'https://www.milliyet.com.tr/gundem/yurtlara-giris-parmak-iziyle-1000018', 'https://www.milliyet.com.tr/gundem/yurtlara-giris-parmak-iziyle-1000019', 'https://www.milliyet.com.tr/gundem/yurtlara-giris-parmak-iziyle-1000020', 'https://www.milliyet.com.tr/gundem/yurtlara-giris-parmak-iziyle-1000021', 'https://www.milliyet.com.tr/gundem/yurtlara-giris-parmak-iziyle-1000022', 'https://www.milliyet.com.tr/gundem/yurtlara-giris-parmak-iziyle-1000023', 'https://www.milliyet.com.tr/gundem/yurtlara-giris-parmak-iziyle-1000024', 'https://www.milliyet.com.tr/gundem/yurtlara-giris-parmak-iziyle-1000025', 'https://www.milliyet.com.tr/gundem/yurtlara-giris-parmak-iziyle-1000026', 'https://www.milliyet.com.tr/gundem/yurtlara-giris-parmak-iziyle-1000027', 'https://www.milliyet.com.tr/gundem/yurtlara-giris-parmak-iziyle-1000028', 'https://www.milliyet.com.tr/gundem/yurtlara-giris-parmak-iziyle-1000029', 'https://www.milliyet.com.tr/gundem/yurtlara-giris-parmak-iziyle-1000030', 'https://www.milliyet.com.tr/gundem/yurtlara-giris-parmak-iziyle-1000031', 'https://www.milliyet.com.tr/gundem/yurtlara-giris-parmak-iziyle-1000032', 'https://www.milliyet.com.tr/gundem/yurtlara-giris-parmak-iziyle-1000033', 'https://www.milliyet.com.tr/gundem/yurtlara-giris-parmak-iziyle-1000034', 'https://www.milliyet.com.tr/gundem/yurtlara-giris-parmak-iziyle-1000035', 'https://www.milliyet.com.tr/gundem/yurtlara-giris-parmak-iziyle-1000036', 'https://www.milliyet.com.tr/gundem/yurtlara-giris-parmak-iziyle-1000037', 'https://www.milliyet.com.tr/gundem/yurtlara-giris-parmak-iziyle-1000038', 'https://www.milliyet.com.tr/gundem/yurtlara-giris-parmak-iziyle-1000039', 'https://www.milliyet.com.tr/gundem/yurtlara-giris-parmak-iziyle-1000040', 'https://www.milliyet.com.tr/gundem/yurtlara-giris-parmak-iziyle-1000041', 'https://www.milliyet.com.tr/gundem/yurtlara-giris-parmak-iziyle-1000042', 'https://www.milliyet.com.tr/gundem/yurtlara-giris-parmak-iziyle-1000043', 'https://www.milliyet.com.tr/gundem/yurtlara-giris-parmak-iziyle-1000044', 'https://www.milliyet.com.tr/gundem/yurtlara-giris-parmak-iziyle-1000045', 'https://www.milliyet.com.tr/gundem/yurtlara-giris-parmak-iziyle-1000046', 'https://www.milliyet.com.tr/gundem/yurtlara-giris-parmak-iziyle-1000047', 'https://www.milliyet.com.tr/gundem/yurtlara-giris-parmak-iziyle-1000048', 'https://www.milliyet.com.tr/gundem/yurtlara-giris-parmak-iziyle-1000049']\n"
          ],
          "name": "stdout"
        }
      ]
    },
    {
      "cell_type": "code",
      "metadata": {
        "id": "YkrSN5OPobPz"
      },
      "source": [
        "def creator(url):\n",
        "    r = requests.get(url)   \n",
        "    soup = BeautifulSoup(r.content, 'html5lib')\n",
        "    title = soup.find(\"h1\").getText()\n",
        "    # print(title)\n",
        "    content_array = soup.find(\"div\", attrs = {\"class\":\"nd-content-column\"}).getText()\n",
        "    category = soup.find(\"div\", attrs = {\"class\":\"breadcrumb \"}).getText()\n",
        "    category = category.split()\n",
        "    category = category[0] + category[1]\n",
        "    category = category[8:]\n",
        "    # print(category)\n",
        "    date = soup.find(\"div\", attrs = {\"class\":\"nd-article__info-block\"}).getText()\n",
        "    date = date.split()\n",
        "    date = date[0]\n",
        "    # print(date)\n",
        "    content_array = content_array.split()\n",
        "    content_string = \"\"\n",
        "    for w in content_array:\n",
        "       content_string = content_string+\" \"+w\n",
        "    w_data=\"{};{};{};{};{}\".format(url,date,category,title,content_string)\n",
        "    # print(w_data)\n",
        "    with open(\"milliyet_content.txt\", 'a') as file: \n",
        "        file.write(w_data+'\\n')"
      ],
      "execution_count": 45,
      "outputs": []
    },
    {
      "cell_type": "code",
      "metadata": {
        "id": "fJu0EX9-obSN"
      },
      "source": [
        "# creator('https://www.milliyet.com.tr/cadde/asinin-yildizi-tuba-buyukustunun-yatak-sahnesi-babasini-cileden-cikardi-1004105')"
      ],
      "execution_count": 46,
      "outputs": []
    },
    {
      "cell_type": "code",
      "metadata": {
        "id": "Udi_npCTu-mm"
      },
      "source": [
        "links=[]\n",
        "with open(\"milliyet_links.txt\",'r',newline='') as f:\n",
        "  for i in f.readlines():    \n",
        "    links.append(i)"
      ],
      "execution_count": 47,
      "outputs": []
    },
    {
      "cell_type": "code",
      "metadata": {
        "colab": {
          "base_uri": "https://localhost:8080/"
        },
        "id": "jameEM7vu-ot",
        "outputId": "f0780089-22e4-465b-b8c7-817e52ad2c0b"
      },
      "source": [
        "t1=time.time()\n",
        "with concurrent.futures.ProcessPoolExecutor() as execut:\n",
        "  b_res=[execut.submit(creator,i.strip()) for i in links]\n",
        "\n",
        "print(time.time()-t1)"
      ],
      "execution_count": 48,
      "outputs": [
        {
          "output_type": "stream",
          "text": [
            "22.254148483276367\n"
          ],
          "name": "stdout"
        }
      ]
    }
  ]
}