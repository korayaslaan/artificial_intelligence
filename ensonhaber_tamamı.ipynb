{
  "nbformat": 4,
  "nbformat_minor": 0,
  "metadata": {
    "colab": {
      "name": "ensonhaber_tamamı.ipynb",
      "provenance": [],
      "authorship_tag": "ABX9TyNryRRa5iNSCeLZVAF/LOJJ",
      "include_colab_link": true
    },
    "kernelspec": {
      "name": "python3",
      "display_name": "Python 3"
    },
    "language_info": {
      "name": "python"
    }
  },
  "cells": [
    {
      "cell_type": "markdown",
      "metadata": {
        "id": "view-in-github",
        "colab_type": "text"
      },
      "source": [
        "<a href=\"https://colab.research.google.com/github/korayaslaan/artificial_intelligence/blob/main/ensonhaber_tamam%C4%B1.ipynb\" target=\"_parent\"><img src=\"https://colab.research.google.com/assets/colab-badge.svg\" alt=\"Open In Colab\"/></a>"
      ]
    },
    {
      "cell_type": "code",
      "metadata": {
        "id": "uqtweA5q-Z4H"
      },
      "source": [
        "import os\n",
        "import bs4\n",
        "import requests\n",
        "from bs4 import BeautifulSoup\n",
        "import pandas as pd\n",
        "import numpy as np\n",
        "import os\n",
        "import time\n",
        "import urllib.request\n",
        "import re\n",
        "import urllib3\n",
        "from pandas import DataFrame\n",
        "import csv\n",
        "import datetime\n",
        "from datetime import datetime, timedelta"
      ],
      "execution_count": 78,
      "outputs": []
    },
    {
      "cell_type": "code",
      "metadata": {
        "id": "60ZZECq--wPz"
      },
      "source": [
        "def datecreator():\n",
        "  t1=datetime(2019,4,3)#en son 1999 05 01 e kadar çalışıyo\n",
        "  t2=datetime(2019,4,5)\n",
        "  t = timedelta(days = 1)\n",
        "  dates = np.arange(t1, t2, t).astype(datetime)\n",
        "  links=[]\n",
        "  link =\"https://www.ensonhaber.com/mansetler.htm?tarih=\" #146 e kadar sayfa var kanser\n",
        "  for i in dates:\n",
        "    newdate=i.strftime('%Y-%m-%d')\n",
        "    links.append(\"{}{}\".format(link,newdate))\n",
        "\n",
        "\n",
        "  return links"
      ],
      "execution_count": 99,
      "outputs": []
    },
    {
      "cell_type": "code",
      "metadata": {
        "id": "Tp-B3thNL8BI"
      },
      "source": [
        "def get_link(i):\n",
        "    r = requests.get(i)   \n",
        "    soup = BeautifulSoup(r.content, 'html5lib')\n",
        "    url = 'https://www.ensonhaber.com' \n",
        "    for a in soup.find_all('a', href=True):\n",
        "        link = a['href']\n",
        "        result = link.startswith('/')\n",
        "        if result == True:\n",
        "          if len(link)>28:\n",
        "            result2 = link.startswith('//')\n",
        "            if result2 == False :\n",
        "              data=\"{}{}\".format(url,link)\n",
        "              with open(\"all_links.txt\", 'a') as file:\n",
        "                 file.write(data+'\\n')\n",
        "              "
      ],
      "execution_count": 92,
      "outputs": []
    },
    {
      "cell_type": "code",
      "metadata": {
        "id": "NyyaesoH_yYm"
      },
      "source": [
        "def creator(url):\n",
        "    r = requests.get(url)   \n",
        "    soup = BeautifulSoup(r.content, 'html5lib')\n",
        "    title = soup.find(\"h1\").getText()\n",
        "    content_array = soup.find(\"article\", attrs = {\"class\":\"content\"}).getText()\n",
        "    category = soup.find(\"span\", attrs = {\"itemprop\":\"name\"}).getText()\n",
        "    date = soup.find(\"div\", attrs = {\"class\":\"c-date\"}).getText()\n",
        "    date = date.split()\n",
        "    if date[0] =='AA' or date[0] =='İHA' or date[0] =='DHA' or date[0] =='REUTERS':\n",
        "        date = date[1]\n",
        "    else:\n",
        "        date = date[2] \n",
        "    title = title.split()\n",
        "    content_array = content_array.split()\n",
        "    content_string = \"\"\n",
        "    title_string = \"\"\n",
        "    for w in title:\n",
        "      title_string = title_string+\" \"+w\n",
        "    for w in content_array:\n",
        "      content_string = content_string+\" \"+w\n",
        "      #w_data = url+\";\"+date+\";\"+title+\";\"+content_string\n",
        "    w_data=\"{};{};{};{};{}\".format(url,date,category,title_string,content_string)\n",
        "    # write_to_txt(w_data)\n",
        "    with open(\"content.txt\", 'a') as file: \n",
        "        file.write(w_data+'\\n')"
      ],
      "execution_count": 130,
      "outputs": []
    },
    {
      "cell_type": "code",
      "metadata": {
        "colab": {
          "base_uri": "https://localhost:8080/"
        },
        "id": "TPrRs6xqQ-AX",
        "outputId": "47a7233d-b2a8-449a-8464-cc68d2a2bc8a"
      },
      "source": [
        "t1=time.time()\n",
        "with concurrent.futures.ProcessPoolExecutor() as execut:\n",
        "  b_res=[execut.submit(creator,i.strip()) for i in content2]\n",
        "\n",
        "print(time.time()-t1)"
      ],
      "execution_count": 131,
      "outputs": [
        {
          "output_type": "stream",
          "text": [
            "30.865543365478516\n"
          ],
          "name": "stdout"
        }
      ]
    },
    {
      "cell_type": "code",
      "metadata": {
        "id": "1RXdCM14QhEp"
      },
      "source": [
        "import concurrent.futures\n",
        "import os\n",
        "import csv\n",
        "import concurrent\n",
        "import multiprocessing\n",
        "from multiprocessing import pool\n",
        "import io\n",
        "from pprint import pprint"
      ],
      "execution_count": 96,
      "outputs": []
    },
    {
      "cell_type": "code",
      "metadata": {
        "id": "nCVGHaJk_yV1"
      },
      "source": [
        "links = datecreator()\n",
        "\n",
        "with concurrent.futures.ProcessPoolExecutor() as execut:\n",
        "  b_res=[execut.submit(get_link,i.strip()) for i in links]\n"
      ],
      "execution_count": 101,
      "outputs": []
    },
    {
      "cell_type": "code",
      "metadata": {
        "id": "0h9JpQsqQ083"
      },
      "source": [
        "content2=[]\n",
        "with open(\"all_links.txt\",'r',newline='') as f:\n",
        "  for i in f.readlines():    \n",
        "  # reader=csv.reader(f)\n",
        "    content2.append(i)"
      ],
      "execution_count": 105,
      "outputs": []
    }
  ]
}