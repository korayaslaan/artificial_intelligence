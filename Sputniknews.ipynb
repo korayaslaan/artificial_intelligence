{
  "nbformat": 4,
  "nbformat_minor": 0,
  "metadata": {
    "colab": {
      "name": "Sputniknews.ipynb",
      "provenance": [],
      "collapsed_sections": [],
      "authorship_tag": "ABX9TyN70o7WD7oJiwSMgNeMPkP+",
      "include_colab_link": true
    },
    "kernelspec": {
      "name": "python3",
      "display_name": "Python 3"
    },
    "language_info": {
      "name": "python"
    }
  },
  "cells": [
    {
      "cell_type": "markdown",
      "metadata": {
        "id": "view-in-github",
        "colab_type": "text"
      },
      "source": [
        "<a href=\"https://colab.research.google.com/github/korayaslaan/artificial_intelligence/blob/main/Sputniknews.ipynb\" target=\"_parent\"><img src=\"https://colab.research.google.com/assets/colab-badge.svg\" alt=\"Open In Colab\"/></a>"
      ]
    },
    {
      "cell_type": "code",
      "execution_count": 127,
      "metadata": {
        "id": "dmC5cZWWmIdz"
      },
      "outputs": [],
      "source": [
        "import os\n",
        "import bs4\n",
        "import requests\n",
        "from bs4 import BeautifulSoup\n",
        "import pandas as pd\n",
        "import numpy as np\n",
        "import os\n",
        "import time\n",
        "import urllib.request\n",
        "import re\n",
        "import urllib3\n",
        "from pandas import DataFrame\n",
        "import csv\n",
        "import datetime\n",
        "from datetime import datetime, timedelta\n",
        "import os\n",
        "import csv\n",
        "import concurrent\n",
        "import multiprocessing\n",
        "from multiprocessing import pool\n",
        "import io\n",
        "from pprint import pprint"
      ]
    },
    {
      "cell_type": "code",
      "source": [
        "def dateCreator():\n",
        "  science = []\n",
        "  tech = []\n",
        "  #https://sputniknews.com/services/search/getmore/?query=science&tags_limit=20&tags=0&interval=period&date_from=2021-12-01&date_to=2021-12-01   2005-02-01\n",
        "  ser_date = pd.Series(pd.date_range('20050201', periods=6180))\n",
        "  linkscience = \"https://sputniknews.com/services/search/getmore/?query=science&tags_limit=20&tags=0&interval=period&date_from=\"\n",
        "  linktech = \"https://sputniknews.com/services/search/getmore/?query=tech&tags_limit=20&tags=0&interval=period&date_from=\"\n",
        "  link2 = \"&date_to=\"\n",
        "  a = 6120\n",
        "  b = 6179  #6179 son 0 dan başlicak\n",
        "  for j in range(a,b):\n",
        "    dateEnd  = ser_date[j].strftime(\"%Y-%m-%d\")\n",
        "    science.append(\"{}{}{}{}\".format(linkscience,dateEnd,link2,dateEnd))\n",
        "\n",
        "  for j in range(a,b):#6179 son 0 dan başlicak\n",
        "    dateEnd  = ser_date[j].strftime(\"%Y-%m-%d\")\n",
        "    tech.append(\"{}{}{}{}\".format(linktech,dateEnd,link2,dateEnd))\n",
        "    \n",
        "  return science,tech "
      ],
      "metadata": {
        "id": "EtVzTHqzmOvN"
      },
      "execution_count": 128,
      "outputs": []
    },
    {
      "cell_type": "code",
      "source": [
        "def get_link_tech(i):\n",
        "     count = 0\n",
        "     r = requests.get(i)   \n",
        "     soup = BeautifulSoup(r.content, 'html5lib')\n",
        "     for a in soup.find_all('a', href=True):\n",
        "       count+=1\n",
        "       link = a['href']\n",
        "       result = link.endswith(\"ml\")\n",
        "       if(result == True):\n",
        "         if(count % 2 == 0):\n",
        "           url  =   \"https://sputniknews.com/\"\n",
        "           linkson = \"{}{}\".format(url,link)\n",
        "           with open(\"TechLink.txt\", 'a') as file: \n",
        "               file.write(linkson+'\\n')"
      ],
      "metadata": {
        "id": "z1J1Hos-0A4s"
      },
      "execution_count": 129,
      "outputs": []
    },
    {
      "cell_type": "code",
      "source": [
        "def get_link_science(i):\n",
        "     count = 0\n",
        "     r = requests.get(i)   \n",
        "     soup = BeautifulSoup(r.content, 'html5lib')\n",
        "     for a in soup.find_all('a', href=True):\n",
        "       count+=1\n",
        "       link = a['href']\n",
        "       result = link.endswith(\"ml\")\n",
        "       if(result == True):\n",
        "         if(count % 2 == 0):\n",
        "           url  =   \"https://sputniknews.com/\"\n",
        "           linkson = \"{}{}\".format(url,link)\n",
        "           with open(\"ScienceLink.txt\", 'a') as file: \n",
        "               file.write(linkson+'\\n')"
      ],
      "metadata": {
        "id": "IYKcimuyA2V5"
      },
      "execution_count": 130,
      "outputs": []
    },
    {
      "cell_type": "code",
      "source": [
        "def creator_tech(url):\n",
        "    r = requests.get(url)   \n",
        "    soup = BeautifulSoup(r.content, 'html5lib')\n",
        "    title = soup.find(\"h1\").getText()\n",
        "    content = \"\"\n",
        "    for wrapper in soup.find_all('div', {\"data-type\":\"text\"}):\n",
        "       content = content + wrapper.text\n",
        "    category = \"tech\"\n",
        "    date = soup.find(\"a\", attrs = {\"class\":\"convert-date\"}).getText()\n",
        "    date = date.split()\n",
        "    date =  date[2]\n",
        "    w_data=\"{};{};{};{};{}\".format(url,date,category,title,content)\n",
        "    with open(\"Creator2.txt\", 'a') as file: \n",
        "      file.write(w_data+'\\n')"
      ],
      "metadata": {
        "id": "Bkr31P0hBRvl"
      },
      "execution_count": 131,
      "outputs": []
    },
    {
      "cell_type": "code",
      "source": [
        "def creator_science(url):\n",
        "    r = requests.get(url)   \n",
        "    soup = BeautifulSoup(r.content, 'html5lib')\n",
        "    title = soup.find(\"h1\").getText()\n",
        "    content = \"\"\n",
        "    for wrapper in soup.find_all('div', {\"data-type\":\"text\"}):\n",
        "       content = content + wrapper.text\n",
        "    category = \"science\"\n",
        "    date = soup.find(\"a\", attrs = {\"class\":\"convert-date\"}).getText()\n",
        "    date = date.split()\n",
        "    date =  date[2]\n",
        "    w_data=\"{};{};{};{};{}\".format(url,date,category,title,content)\n",
        "    with open(\"Creator2.txt\", 'a') as file: \n",
        "        file.write(w_data+'\\n')"
      ],
      "metadata": {
        "id": "XONdKtOi3qFI"
      },
      "execution_count": 132,
      "outputs": []
    },
    {
      "cell_type": "code",
      "source": [
        "creator_science(\"https://sputniknews.com/20211231/so-that-was-2021-trump-leaves-white-house-taliban-retakes-kabul-but-mostly-that-infernal-virus-1091725615.html\")"
      ],
      "metadata": {
        "id": "Cs3rMxXiV_-9"
      },
      "execution_count": 133,
      "outputs": []
    },
    {
      "cell_type": "code",
      "source": [
        "science,tech= dateCreator()\n",
        "\n",
        "with concurrent.futures.ProcessPoolExecutor() as execut:\n",
        "  b_res=[execut.submit(get_link_science,i.strip()) for i in science]\n",
        "\n",
        "with concurrent.futures.ProcessPoolExecutor() as execut:\n",
        "  b_res=[execut.submit(get_link_tech,i.strip()) for i in tech]"
      ],
      "metadata": {
        "id": "v7hg825Q-t2v"
      },
      "execution_count": 134,
      "outputs": []
    },
    {
      "cell_type": "code",
      "source": [
        "SputnikNewsScience=[]\n",
        "with open(\"ScienceLink.txt\",'r',newline='') as f:\n",
        "  for i in f.readlines():    \n",
        "    SputnikNewsScience.append(i)\n",
        "\n",
        "t1=time.time()\n",
        "with concurrent.futures.ProcessPoolExecutor() as execut:\n",
        "  b_res=[execut.submit(creator_science,i.strip()) for i in SputnikNewsScience]\n",
        "\n",
        "print(time.time()-t1)\n",
        "\n",
        "SputnikNewsTech=[]\n",
        "with open(\"TechLink.txt\",'r',newline='') as f:\n",
        "  for i in f.readlines():    \n",
        "    SputnikNewsTech.append(i)\n",
        "\n",
        "t1=time.time()\n",
        "with concurrent.futures.ProcessPoolExecutor() as execut:\n",
        "  b_res=[execut.submit(creator_tech,i.strip()) for i in SputnikNewsTech]\n",
        "\n",
        "print(time.time()-t1)"
      ],
      "metadata": {
        "id": "3ZGafnSc3p-t",
        "colab": {
          "base_uri": "https://localhost:8080/"
        },
        "outputId": "ef781054-34f2-470c-b30a-08eee2cbc79b"
      },
      "execution_count": 135,
      "outputs": [
        {
          "output_type": "stream",
          "name": "stdout",
          "text": [
            "132.4708218574524\n",
            "171.53177976608276\n"
          ]
        }
      ]
    },
    {
      "cell_type": "code",
      "source": [
        ""
      ],
      "metadata": {
        "id": "IN1D7N1IBbrd"
      },
      "execution_count": 135,
      "outputs": []
    }
  ]
}