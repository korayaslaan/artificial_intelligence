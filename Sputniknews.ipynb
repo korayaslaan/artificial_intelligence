{
  "nbformat": 4,
  "nbformat_minor": 0,
  "metadata": {
    "colab": {
      "name": "Sputniknews.ipynb",
      "provenance": [],
      "collapsed_sections": [],
      "authorship_tag": "ABX9TyPfKItsCJLr4aS5h438voNZ",
      "include_colab_link": true
    },
    "kernelspec": {
      "name": "python3",
      "display_name": "Python 3"
    },
    "language_info": {
      "name": "python"
    }
  },
  "cells": [
    {
      "cell_type": "markdown",
      "metadata": {
        "id": "view-in-github",
        "colab_type": "text"
      },
      "source": [
        "<a href=\"https://colab.research.google.com/github/korayaslaan/artificial_intelligence/blob/main/Sputniknews.ipynb\" target=\"_parent\"><img src=\"https://colab.research.google.com/assets/colab-badge.svg\" alt=\"Open In Colab\"/></a>"
      ]
    },
    {
      "cell_type": "code",
      "execution_count": 55,
      "metadata": {
        "id": "dmC5cZWWmIdz"
      },
      "outputs": [],
      "source": [
        "import os\n",
        "import bs4\n",
        "import requests\n",
        "from bs4 import BeautifulSoup\n",
        "import pandas as pd\n",
        "import numpy as np\n",
        "import os\n",
        "import time\n",
        "import urllib.request\n",
        "import re\n",
        "import urllib3\n",
        "from pandas import DataFrame\n",
        "import csv\n",
        "import datetime\n",
        "from datetime import datetime, timedelta\n",
        "import os\n",
        "import csv\n",
        "import concurrent\n",
        "import multiprocessing\n",
        "from multiprocessing import pool\n",
        "import io\n",
        "from pprint import pprint"
      ]
    },
    {
      "cell_type": "code",
      "source": [
        "def dateCreator():\n",
        "  science = []\n",
        "  tech = []\n",
        "  #https://sputniknews.com/services/search/getmore/?query=science&tags_limit=20&tags=0&interval=period&date_from=2021-12-01&date_to=2021-12-01   2005-02-01\n",
        "  ser_date = pd.Series(pd.date_range('20050201', periods=6180))\n",
        "  linkscience = \"https://sputniknews.com/services/search/getmore/?query=science&tags_limit=20&tags=0&interval=period&date_from=\"\n",
        "  linktech = \"https://sputniknews.com/services/search/getmore/?query=tech&tags_limit=20&tags=0&interval=period&date_from=\"\n",
        "  link2 = \"&date_to=\"\n",
        "  a = 6150\n",
        "  b = 6179  #6179 son 0 dan başlicak\n",
        "  for j in range(a,b):\n",
        "    dateEnd  = ser_date[j].strftime(\"%Y-%m-%d\")\n",
        "    science.append(\"{}{}{}{}\".format(linkscience,dateEnd,link2,dateEnd))\n",
        "\n",
        "  for j in range(a,b):#6179 son 0 dan başlicak\n",
        "    dateEnd  = ser_date[j].strftime(\"%Y-%m-%d\")\n",
        "    tech.append(\"{}{}{}{}\".format(linktech,dateEnd,link2,dateEnd))\n",
        "    \n",
        "  return science,tech "
      ],
      "metadata": {
        "id": "EtVzTHqzmOvN"
      },
      "execution_count": 56,
      "outputs": []
    },
    {
      "cell_type": "code",
      "source": [
        "dateCreator()"
      ],
      "metadata": {
        "id": "LUA3hQpymOtB",
        "colab": {
          "base_uri": "https://localhost:8080/"
        },
        "outputId": "5b5bac0e-b1b3-400e-8f50-4903f29ad971"
      },
      "execution_count": 57,
      "outputs": [
        {
          "output_type": "execute_result",
          "data": {
            "text/plain": [
              "(['https://sputniknews.com/services/search/getmore/?query=science&tags_limit=20&tags=0&interval=period&date_from=2021-12-04&date_to=2021-12-04',\n",
              "  'https://sputniknews.com/services/search/getmore/?query=science&tags_limit=20&tags=0&interval=period&date_from=2021-12-05&date_to=2021-12-05',\n",
              "  'https://sputniknews.com/services/search/getmore/?query=science&tags_limit=20&tags=0&interval=period&date_from=2021-12-06&date_to=2021-12-06',\n",
              "  'https://sputniknews.com/services/search/getmore/?query=science&tags_limit=20&tags=0&interval=period&date_from=2021-12-07&date_to=2021-12-07',\n",
              "  'https://sputniknews.com/services/search/getmore/?query=science&tags_limit=20&tags=0&interval=period&date_from=2021-12-08&date_to=2021-12-08',\n",
              "  'https://sputniknews.com/services/search/getmore/?query=science&tags_limit=20&tags=0&interval=period&date_from=2021-12-09&date_to=2021-12-09',\n",
              "  'https://sputniknews.com/services/search/getmore/?query=science&tags_limit=20&tags=0&interval=period&date_from=2021-12-10&date_to=2021-12-10',\n",
              "  'https://sputniknews.com/services/search/getmore/?query=science&tags_limit=20&tags=0&interval=period&date_from=2021-12-11&date_to=2021-12-11',\n",
              "  'https://sputniknews.com/services/search/getmore/?query=science&tags_limit=20&tags=0&interval=period&date_from=2021-12-12&date_to=2021-12-12',\n",
              "  'https://sputniknews.com/services/search/getmore/?query=science&tags_limit=20&tags=0&interval=period&date_from=2021-12-13&date_to=2021-12-13',\n",
              "  'https://sputniknews.com/services/search/getmore/?query=science&tags_limit=20&tags=0&interval=period&date_from=2021-12-14&date_to=2021-12-14',\n",
              "  'https://sputniknews.com/services/search/getmore/?query=science&tags_limit=20&tags=0&interval=period&date_from=2021-12-15&date_to=2021-12-15',\n",
              "  'https://sputniknews.com/services/search/getmore/?query=science&tags_limit=20&tags=0&interval=period&date_from=2021-12-16&date_to=2021-12-16',\n",
              "  'https://sputniknews.com/services/search/getmore/?query=science&tags_limit=20&tags=0&interval=period&date_from=2021-12-17&date_to=2021-12-17',\n",
              "  'https://sputniknews.com/services/search/getmore/?query=science&tags_limit=20&tags=0&interval=period&date_from=2021-12-18&date_to=2021-12-18',\n",
              "  'https://sputniknews.com/services/search/getmore/?query=science&tags_limit=20&tags=0&interval=period&date_from=2021-12-19&date_to=2021-12-19',\n",
              "  'https://sputniknews.com/services/search/getmore/?query=science&tags_limit=20&tags=0&interval=period&date_from=2021-12-20&date_to=2021-12-20',\n",
              "  'https://sputniknews.com/services/search/getmore/?query=science&tags_limit=20&tags=0&interval=period&date_from=2021-12-21&date_to=2021-12-21',\n",
              "  'https://sputniknews.com/services/search/getmore/?query=science&tags_limit=20&tags=0&interval=period&date_from=2021-12-22&date_to=2021-12-22',\n",
              "  'https://sputniknews.com/services/search/getmore/?query=science&tags_limit=20&tags=0&interval=period&date_from=2021-12-23&date_to=2021-12-23',\n",
              "  'https://sputniknews.com/services/search/getmore/?query=science&tags_limit=20&tags=0&interval=period&date_from=2021-12-24&date_to=2021-12-24',\n",
              "  'https://sputniknews.com/services/search/getmore/?query=science&tags_limit=20&tags=0&interval=period&date_from=2021-12-25&date_to=2021-12-25',\n",
              "  'https://sputniknews.com/services/search/getmore/?query=science&tags_limit=20&tags=0&interval=period&date_from=2021-12-26&date_to=2021-12-26',\n",
              "  'https://sputniknews.com/services/search/getmore/?query=science&tags_limit=20&tags=0&interval=period&date_from=2021-12-27&date_to=2021-12-27',\n",
              "  'https://sputniknews.com/services/search/getmore/?query=science&tags_limit=20&tags=0&interval=period&date_from=2021-12-28&date_to=2021-12-28',\n",
              "  'https://sputniknews.com/services/search/getmore/?query=science&tags_limit=20&tags=0&interval=period&date_from=2021-12-29&date_to=2021-12-29',\n",
              "  'https://sputniknews.com/services/search/getmore/?query=science&tags_limit=20&tags=0&interval=period&date_from=2021-12-30&date_to=2021-12-30',\n",
              "  'https://sputniknews.com/services/search/getmore/?query=science&tags_limit=20&tags=0&interval=period&date_from=2021-12-31&date_to=2021-12-31',\n",
              "  'https://sputniknews.com/services/search/getmore/?query=science&tags_limit=20&tags=0&interval=period&date_from=2022-01-01&date_to=2022-01-01'],\n",
              " ['https://sputniknews.com/services/search/getmore/?query=tech&tags_limit=20&tags=0&interval=period&date_from=2021-12-04&date_to=2021-12-04',\n",
              "  'https://sputniknews.com/services/search/getmore/?query=tech&tags_limit=20&tags=0&interval=period&date_from=2021-12-05&date_to=2021-12-05',\n",
              "  'https://sputniknews.com/services/search/getmore/?query=tech&tags_limit=20&tags=0&interval=period&date_from=2021-12-06&date_to=2021-12-06',\n",
              "  'https://sputniknews.com/services/search/getmore/?query=tech&tags_limit=20&tags=0&interval=period&date_from=2021-12-07&date_to=2021-12-07',\n",
              "  'https://sputniknews.com/services/search/getmore/?query=tech&tags_limit=20&tags=0&interval=period&date_from=2021-12-08&date_to=2021-12-08',\n",
              "  'https://sputniknews.com/services/search/getmore/?query=tech&tags_limit=20&tags=0&interval=period&date_from=2021-12-09&date_to=2021-12-09',\n",
              "  'https://sputniknews.com/services/search/getmore/?query=tech&tags_limit=20&tags=0&interval=period&date_from=2021-12-10&date_to=2021-12-10',\n",
              "  'https://sputniknews.com/services/search/getmore/?query=tech&tags_limit=20&tags=0&interval=period&date_from=2021-12-11&date_to=2021-12-11',\n",
              "  'https://sputniknews.com/services/search/getmore/?query=tech&tags_limit=20&tags=0&interval=period&date_from=2021-12-12&date_to=2021-12-12',\n",
              "  'https://sputniknews.com/services/search/getmore/?query=tech&tags_limit=20&tags=0&interval=period&date_from=2021-12-13&date_to=2021-12-13',\n",
              "  'https://sputniknews.com/services/search/getmore/?query=tech&tags_limit=20&tags=0&interval=period&date_from=2021-12-14&date_to=2021-12-14',\n",
              "  'https://sputniknews.com/services/search/getmore/?query=tech&tags_limit=20&tags=0&interval=period&date_from=2021-12-15&date_to=2021-12-15',\n",
              "  'https://sputniknews.com/services/search/getmore/?query=tech&tags_limit=20&tags=0&interval=period&date_from=2021-12-16&date_to=2021-12-16',\n",
              "  'https://sputniknews.com/services/search/getmore/?query=tech&tags_limit=20&tags=0&interval=period&date_from=2021-12-17&date_to=2021-12-17',\n",
              "  'https://sputniknews.com/services/search/getmore/?query=tech&tags_limit=20&tags=0&interval=period&date_from=2021-12-18&date_to=2021-12-18',\n",
              "  'https://sputniknews.com/services/search/getmore/?query=tech&tags_limit=20&tags=0&interval=period&date_from=2021-12-19&date_to=2021-12-19',\n",
              "  'https://sputniknews.com/services/search/getmore/?query=tech&tags_limit=20&tags=0&interval=period&date_from=2021-12-20&date_to=2021-12-20',\n",
              "  'https://sputniknews.com/services/search/getmore/?query=tech&tags_limit=20&tags=0&interval=period&date_from=2021-12-21&date_to=2021-12-21',\n",
              "  'https://sputniknews.com/services/search/getmore/?query=tech&tags_limit=20&tags=0&interval=period&date_from=2021-12-22&date_to=2021-12-22',\n",
              "  'https://sputniknews.com/services/search/getmore/?query=tech&tags_limit=20&tags=0&interval=period&date_from=2021-12-23&date_to=2021-12-23',\n",
              "  'https://sputniknews.com/services/search/getmore/?query=tech&tags_limit=20&tags=0&interval=period&date_from=2021-12-24&date_to=2021-12-24',\n",
              "  'https://sputniknews.com/services/search/getmore/?query=tech&tags_limit=20&tags=0&interval=period&date_from=2021-12-25&date_to=2021-12-25',\n",
              "  'https://sputniknews.com/services/search/getmore/?query=tech&tags_limit=20&tags=0&interval=period&date_from=2021-12-26&date_to=2021-12-26',\n",
              "  'https://sputniknews.com/services/search/getmore/?query=tech&tags_limit=20&tags=0&interval=period&date_from=2021-12-27&date_to=2021-12-27',\n",
              "  'https://sputniknews.com/services/search/getmore/?query=tech&tags_limit=20&tags=0&interval=period&date_from=2021-12-28&date_to=2021-12-28',\n",
              "  'https://sputniknews.com/services/search/getmore/?query=tech&tags_limit=20&tags=0&interval=period&date_from=2021-12-29&date_to=2021-12-29',\n",
              "  'https://sputniknews.com/services/search/getmore/?query=tech&tags_limit=20&tags=0&interval=period&date_from=2021-12-30&date_to=2021-12-30',\n",
              "  'https://sputniknews.com/services/search/getmore/?query=tech&tags_limit=20&tags=0&interval=period&date_from=2021-12-31&date_to=2021-12-31',\n",
              "  'https://sputniknews.com/services/search/getmore/?query=tech&tags_limit=20&tags=0&interval=period&date_from=2022-01-01&date_to=2022-01-01'])"
            ]
          },
          "metadata": {},
          "execution_count": 57
        }
      ]
    },
    {
      "cell_type": "code",
      "source": [
        "def get_link_tech(i):\n",
        "     count = 0\n",
        "     r = requests.get(i)   \n",
        "     soup = BeautifulSoup(r.content, 'html5lib')\n",
        "     for a in soup.find_all('a', href=True):\n",
        "       count+=1\n",
        "       link = a['href']\n",
        "       result = link.endswith(\"ml\")\n",
        "       if(result == True):\n",
        "         if(count % 2 == 0):\n",
        "           url  =   \"https://sputniknews.com/\"\n",
        "           linkson = \"{}{}\".format(url,link)\n",
        "           with open(\"TechLink.txt\", 'a') as file: \n",
        "               file.write(linkson+'\\n')"
      ],
      "metadata": {
        "id": "z1J1Hos-0A4s"
      },
      "execution_count": 58,
      "outputs": []
    },
    {
      "cell_type": "code",
      "source": [
        "def get_link_science(i):\n",
        "     count = 0\n",
        "     r = requests.get(i)   \n",
        "     soup = BeautifulSoup(r.content, 'html5lib')\n",
        "     for a in soup.find_all('a', href=True):\n",
        "       count+=1\n",
        "       link = a['href']\n",
        "       result = link.endswith(\"ml\")\n",
        "       if(result == True):\n",
        "         if(count % 2 == 0):\n",
        "           url  =   \"https://sputniknews.com/\"\n",
        "           linkson = \"{}{}\".format(url,link)\n",
        "           with open(\"ScienceLink.txt\", 'a') as file: \n",
        "               file.write(linkson+'\\n')"
      ],
      "metadata": {
        "id": "IYKcimuyA2V5"
      },
      "execution_count": 59,
      "outputs": []
    },
    {
      "cell_type": "code",
      "source": [
        "def creator_science(url):\n",
        "    r = requests.get(url)   \n",
        "    soup = BeautifulSoup(r.content, 'html5lib')\n",
        "    title = soup.find(\"h1\").getText()\n",
        "    content_array = soup.find(\"div\", attrs = {\"class\":\"article__body\"}).getText()\n",
        "    # category = soup.find(\"a\", attrs = {\"class\":\"dcr-yx39j8\"}).getText()\n",
        "    category = \"science\"\n",
        "    date = soup.find(\"a\", attrs = {\"class\":\"convert-date\"}).getText()\n",
        "    date = date.split()\n",
        "    date =  date[2]\n",
        "    content_array = content_array.split()\n",
        "    content_string = \"\"\n",
        "    for w in content_array:\n",
        "       content_string = content_string+\" \"+w\n",
        "    w_data=\"{};{};{};{};{}\".format(url,date,category,title,content_string)\n",
        "    with open(\"Creator.txt\", 'a') as file: \n",
        "        file.write(w_data+'\\n')"
      ],
      "metadata": {
        "id": "XONdKtOi3qFI"
      },
      "execution_count": 60,
      "outputs": []
    },
    {
      "cell_type": "code",
      "source": [
        "def creator_tech(url):\n",
        "    r = requests.get(url)   \n",
        "    soup = BeautifulSoup(r.content, 'html5lib')\n",
        "    title = soup.find(\"h1\").getText()\n",
        "    content_array = soup.find(\"div\", attrs = {\"class\":\"article__body\"}).getText()\n",
        "    # category = soup.find(\"a\", attrs = {\"class\":\"dcr-yx39j8\"}).getText()\n",
        "    category = \"tech\"\n",
        "    date = soup.find(\"a\", attrs = {\"class\":\"convert-date\"}).getText()\n",
        "    date = date.split()\n",
        "    date =  date[2]\n",
        "    content_array = content_array.split()\n",
        "    content_string = \"\"\n",
        "    for w in content_array:\n",
        "       content_string = content_string+\" \"+w\n",
        "    w_data=\"{};{};{};{};{}\".format(url,date,category,title,content_string)\n",
        "    with open(\"Creator.txt\", 'a') as file: \n",
        "        file.write(w_data+'\\n')"
      ],
      "metadata": {
        "id": "Bkr31P0hBRvl"
      },
      "execution_count": 61,
      "outputs": []
    },
    {
      "cell_type": "code",
      "source": [
        "science,tech= dateCreator()\n",
        "\n",
        "with concurrent.futures.ProcessPoolExecutor() as execut:\n",
        "  b_res=[execut.submit(get_link_science,i.strip()) for i in science]\n",
        "\n",
        "with concurrent.futures.ProcessPoolExecutor() as execut:\n",
        "  b_res=[execut.submit(get_link_tech,i.strip()) for i in tech]"
      ],
      "metadata": {
        "id": "v7hg825Q-t2v"
      },
      "execution_count": 62,
      "outputs": []
    },
    {
      "cell_type": "code",
      "source": [
        "SputnikNewsScience=[]\n",
        "with open(\"ScienceLink.txt\",'r',newline='') as f:\n",
        "  for i in f.readlines():    \n",
        "    SputnikNewsScience.append(i)\n",
        "\n",
        "t1=time.time()\n",
        "with concurrent.futures.ProcessPoolExecutor() as execut:\n",
        "  b_res=[execut.submit(creator_science,i.strip()) for i in SputnikNewsScience]\n",
        "\n",
        "print(time.time()-t1)"
      ],
      "metadata": {
        "id": "3ZGafnSc3p-t",
        "colab": {
          "base_uri": "https://localhost:8080/"
        },
        "outputId": "e2ee115d-22f6-4303-ab1d-1840a1196180"
      },
      "execution_count": 63,
      "outputs": [
        {
          "output_type": "stream",
          "name": "stdout",
          "text": [
            "63.62505626678467\n"
          ]
        }
      ]
    },
    {
      "cell_type": "code",
      "source": [
        "SputnikNewsTech=[]\n",
        "with open(\"TechLink.txt\",'r',newline='') as f:\n",
        "  for i in f.readlines():    \n",
        "    SputnikNewsTech.append(i)\n",
        "\n",
        "t1=time.time()\n",
        "with concurrent.futures.ProcessPoolExecutor() as execut:\n",
        "  b_res=[execut.submit(creator_tech,i.strip()) for i in SputnikNewsTech]\n",
        "\n",
        "print(time.time()-t1)"
      ],
      "metadata": {
        "colab": {
          "base_uri": "https://localhost:8080/"
        },
        "id": "IN1D7N1IBbrd",
        "outputId": "14dfaea3-a1dd-4280-b613-ebdc16f9c8ed"
      },
      "execution_count": 64,
      "outputs": [
        {
          "output_type": "stream",
          "name": "stdout",
          "text": [
            "82.20865845680237\n"
          ]
        }
      ]
    }
  ]
}