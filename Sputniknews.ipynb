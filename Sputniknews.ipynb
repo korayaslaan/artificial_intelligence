{
  "nbformat": 4,
  "nbformat_minor": 0,
  "metadata": {
    "colab": {
      "name": "Sputniknews.ipynb",
      "provenance": [],
      "collapsed_sections": [],
      "authorship_tag": "ABX9TyP+NObrMifWnrA9PAeV3Mqj",
      "include_colab_link": true
    },
    "kernelspec": {
      "name": "python3",
      "display_name": "Python 3"
    },
    "language_info": {
      "name": "python"
    }
  },
  "cells": [
    {
      "cell_type": "markdown",
      "metadata": {
        "id": "view-in-github",
        "colab_type": "text"
      },
      "source": [
        "<a href=\"https://colab.research.google.com/github/korayaslaan/artificial_intelligence/blob/main/Sputniknews.ipynb\" target=\"_parent\"><img src=\"https://colab.research.google.com/assets/colab-badge.svg\" alt=\"Open In Colab\"/></a>"
      ]
    },
    {
      "cell_type": "code",
      "execution_count": null,
      "metadata": {
        "id": "dmC5cZWWmIdz"
      },
      "outputs": [],
      "source": [
        "import os\n",
        "import bs4\n",
        "import requests\n",
        "from bs4 import BeautifulSoup\n",
        "import pandas as pd\n",
        "import numpy as np\n",
        "import os\n",
        "import time\n",
        "import urllib.request\n",
        "import re\n",
        "import urllib3\n",
        "from pandas import DataFrame\n",
        "import csv\n",
        "import datetime\n",
        "from datetime import datetime, timedelta\n",
        "import os\n",
        "import csv\n",
        "import concurrent\n",
        "import multiprocessing\n",
        "from multiprocessing import pool\n",
        "import io\n",
        "from pprint import pprint"
      ]
    },
    {
      "cell_type": "code",
      "source": [
        "def dateCreator():\n",
        "  links = []\n",
        "  #https://sputniknews.com/services/search/getmore/?query=science&tags_limit=20&tags=0&interval=period&date_from=2021-12-01&date_to=2021-12-01   2005-02-01\n",
        "  ser_date = pd.Series(pd.date_range('20050201', periods=6180))\n",
        "  link = \"https://sputniknews.com/services/search/getmore/?query=science&tags_limit=20&tags=0&interval=period&date_from=\"\n",
        "  link2 = \"&date_to=\"\n",
        "  for j in range(6150,6179):#6179 son 0 dan başlicak\n",
        "    dateEnd  = ser_date[j].strftime(\"%Y-%m-%d\")\n",
        "    links.append(\"{}{}{}{}\".format(link,dateEnd,link2,dateEnd))\n",
        "  return links"
      ],
      "metadata": {
        "id": "EtVzTHqzmOvN"
      },
      "execution_count": 83,
      "outputs": []
    },
    {
      "cell_type": "code",
      "source": [
        "dateCreator()"
      ],
      "metadata": {
        "id": "LUA3hQpymOtB",
        "colab": {
          "base_uri": "https://localhost:8080/"
        },
        "outputId": "9e686694-9d36-4d8c-857e-85afa9bc0018"
      },
      "execution_count": 84,
      "outputs": [
        {
          "output_type": "execute_result",
          "data": {
            "text/plain": [
              "['https://sputniknews.com/services/search/getmore/?query=science&tags_limit=20&tags=0&interval=period&date_from=2021-12-04&date_to=2021-12-04',\n",
              " 'https://sputniknews.com/services/search/getmore/?query=science&tags_limit=20&tags=0&interval=period&date_from=2021-12-05&date_to=2021-12-05',\n",
              " 'https://sputniknews.com/services/search/getmore/?query=science&tags_limit=20&tags=0&interval=period&date_from=2021-12-06&date_to=2021-12-06',\n",
              " 'https://sputniknews.com/services/search/getmore/?query=science&tags_limit=20&tags=0&interval=period&date_from=2021-12-07&date_to=2021-12-07',\n",
              " 'https://sputniknews.com/services/search/getmore/?query=science&tags_limit=20&tags=0&interval=period&date_from=2021-12-08&date_to=2021-12-08',\n",
              " 'https://sputniknews.com/services/search/getmore/?query=science&tags_limit=20&tags=0&interval=period&date_from=2021-12-09&date_to=2021-12-09',\n",
              " 'https://sputniknews.com/services/search/getmore/?query=science&tags_limit=20&tags=0&interval=period&date_from=2021-12-10&date_to=2021-12-10',\n",
              " 'https://sputniknews.com/services/search/getmore/?query=science&tags_limit=20&tags=0&interval=period&date_from=2021-12-11&date_to=2021-12-11',\n",
              " 'https://sputniknews.com/services/search/getmore/?query=science&tags_limit=20&tags=0&interval=period&date_from=2021-12-12&date_to=2021-12-12',\n",
              " 'https://sputniknews.com/services/search/getmore/?query=science&tags_limit=20&tags=0&interval=period&date_from=2021-12-13&date_to=2021-12-13',\n",
              " 'https://sputniknews.com/services/search/getmore/?query=science&tags_limit=20&tags=0&interval=period&date_from=2021-12-14&date_to=2021-12-14',\n",
              " 'https://sputniknews.com/services/search/getmore/?query=science&tags_limit=20&tags=0&interval=period&date_from=2021-12-15&date_to=2021-12-15',\n",
              " 'https://sputniknews.com/services/search/getmore/?query=science&tags_limit=20&tags=0&interval=period&date_from=2021-12-16&date_to=2021-12-16',\n",
              " 'https://sputniknews.com/services/search/getmore/?query=science&tags_limit=20&tags=0&interval=period&date_from=2021-12-17&date_to=2021-12-17',\n",
              " 'https://sputniknews.com/services/search/getmore/?query=science&tags_limit=20&tags=0&interval=period&date_from=2021-12-18&date_to=2021-12-18',\n",
              " 'https://sputniknews.com/services/search/getmore/?query=science&tags_limit=20&tags=0&interval=period&date_from=2021-12-19&date_to=2021-12-19',\n",
              " 'https://sputniknews.com/services/search/getmore/?query=science&tags_limit=20&tags=0&interval=period&date_from=2021-12-20&date_to=2021-12-20',\n",
              " 'https://sputniknews.com/services/search/getmore/?query=science&tags_limit=20&tags=0&interval=period&date_from=2021-12-21&date_to=2021-12-21',\n",
              " 'https://sputniknews.com/services/search/getmore/?query=science&tags_limit=20&tags=0&interval=period&date_from=2021-12-22&date_to=2021-12-22',\n",
              " 'https://sputniknews.com/services/search/getmore/?query=science&tags_limit=20&tags=0&interval=period&date_from=2021-12-23&date_to=2021-12-23',\n",
              " 'https://sputniknews.com/services/search/getmore/?query=science&tags_limit=20&tags=0&interval=period&date_from=2021-12-24&date_to=2021-12-24',\n",
              " 'https://sputniknews.com/services/search/getmore/?query=science&tags_limit=20&tags=0&interval=period&date_from=2021-12-25&date_to=2021-12-25',\n",
              " 'https://sputniknews.com/services/search/getmore/?query=science&tags_limit=20&tags=0&interval=period&date_from=2021-12-26&date_to=2021-12-26',\n",
              " 'https://sputniknews.com/services/search/getmore/?query=science&tags_limit=20&tags=0&interval=period&date_from=2021-12-27&date_to=2021-12-27',\n",
              " 'https://sputniknews.com/services/search/getmore/?query=science&tags_limit=20&tags=0&interval=period&date_from=2021-12-28&date_to=2021-12-28',\n",
              " 'https://sputniknews.com/services/search/getmore/?query=science&tags_limit=20&tags=0&interval=period&date_from=2021-12-29&date_to=2021-12-29',\n",
              " 'https://sputniknews.com/services/search/getmore/?query=science&tags_limit=20&tags=0&interval=period&date_from=2021-12-30&date_to=2021-12-30',\n",
              " 'https://sputniknews.com/services/search/getmore/?query=science&tags_limit=20&tags=0&interval=period&date_from=2021-12-31&date_to=2021-12-31',\n",
              " 'https://sputniknews.com/services/search/getmore/?query=science&tags_limit=20&tags=0&interval=period&date_from=2022-01-01&date_to=2022-01-01']"
            ]
          },
          "metadata": {},
          "execution_count": 84
        }
      ]
    },
    {
      "cell_type": "code",
      "source": [
        "def get_link(i):\n",
        "     links = []\n",
        "     page_one = 0\n",
        "     count = 0\n",
        "     r = requests.get(i)   \n",
        "     soup = BeautifulSoup(r.content, 'html5lib')\n",
        "     for a in soup.find_all('a', href=True):\n",
        "       count+=1\n",
        "       link = a['href']\n",
        "       result = link.endswith(\"ml\")\n",
        "       if(result == True):\n",
        "         if(count % 2 == 0):\n",
        "           url  =   \"https://sputniknews.com/\"\n",
        "           links.append(\"{}{}\".format(url,link))\n",
        "     return links"
      ],
      "metadata": {
        "id": "z1J1Hos-0A4s"
      },
      "execution_count": 64,
      "outputs": []
    },
    {
      "cell_type": "code",
      "source": [
        "a = get_link(\"https://sputniknews.com/services/search/getmore/?query=science&tags_limit=20&tags=0&interval=period&date_from=2021-12-26&date_to=2021-12-26\")\n",
        "for i in a:\n",
        "  print(i)"
      ],
      "metadata": {
        "colab": {
          "base_uri": "https://localhost:8080/"
        },
        "id": "tcCJ5Pw70A25",
        "outputId": "51628db4-66c4-44ee-ff68-c3ba59b3ab18"
      },
      "execution_count": 85,
      "outputs": [
        {
          "output_type": "stream",
          "name": "stdout",
          "text": [
            "https://sputniknews.com//20211226/journo-mocked-online-for-saying-selfish-people-like-desantis-are-the-reason-for-omicron-outbreak-1091822251.html\n",
            "https://sputniknews.com//20211226/james-webb-telescope-antenna-released-assembly-tested-nasa-says-1091822042.html\n",
            "https://sputniknews.com//20211226/lg-electronics-is-up-to-develop-6g-technology-1091814047.html\n",
            "https://sputniknews.com//20211226/amid-rising-cases-of-omicron-india-approves-booster-dose-vaccine-for-children-1091808161.html\n",
            "https://sputniknews.com//20211226/scientists-explain-phenomenon-of-glowing-snow-in-the-russian-arctic---photos-1091811754.html\n"
          ]
        }
      ]
    },
    {
      "cell_type": "code",
      "source": [
        "def creator(url):\n",
        "    r = requests.get(url)   \n",
        "    soup = BeautifulSoup(r.content, 'html5lib')\n",
        "    title = soup.find(\"h1\").getText()\n",
        "    print(title)\n",
        "    content_array = soup.find(\"div\", attrs = {\"class\":\"article__body\"}).getText()\n",
        "    # category = soup.find(\"a\", attrs = {\"class\":\"dcr-yx39j8\"}).getText()\n",
        "    category = \"science\"\n",
        "    print(category)\n",
        "    date = soup.find(\"a\", attrs = {\"class\":\"convert-date\"}).getText()\n",
        "    date = date.split()\n",
        "    date =  date[2]\n",
        "    print(date)\n",
        "    content_array = content_array.split()\n",
        "    content_string = \"\"\n",
        "    for w in content_array:\n",
        "       content_string = content_string+\" \"+w\n",
        "    w_data=\"{};{};{};{};{}\".format(url,date,category,title,content_string)\n",
        "    print(w_data)\n",
        "    with open(\"Sputniknews.txt\", 'a') as file: \n",
        "        file.write(w_data+'\\n')"
      ],
      "metadata": {
        "id": "XONdKtOi3qFI"
      },
      "execution_count": 82,
      "outputs": []
    },
    {
      "cell_type": "code",
      "source": [
        "creator(\"https://sputniknews.com/20211226/journo-mocked-online-for-saying-selfish-people-like-desantis-are-the-reason-for-omicron-outbreak-1091822251.html\")"
      ],
      "metadata": {
        "colab": {
          "base_uri": "https://localhost:8080/"
        },
        "id": "w00X_x6j3qBE",
        "outputId": "341453e5-4512-4e46-cb9e-424497e87634"
      },
      "execution_count": 81,
      "outputs": [
        {
          "output_type": "stream",
          "name": "stdout",
          "text": [
            "Journo Mocked Online for Saying 'Selfish' People Like DeSantis Are the Reason for Omicron Outbreak\n",
            "science\n",
            "26.12.2021\n",
            "https://sputniknews.com/20211226/journo-mocked-online-for-saying-selfish-people-like-desantis-are-the-reason-for-omicron-outbreak-1091822251.html;26.12.2021;science;Journo Mocked Online for Saying 'Selfish' People Like DeSantis Are the Reason for Omicron Outbreak; A Miami Herald journalist has put the blame for the omicron COVID-19 strain emergence in Florida on Governor Ron DeSantis, claiming the outbreak was caused by his own selfish acts in a recent op-ed.In a story titled \"Last lesson of 2021, Florida: Omicron happens when we act selfishly, like Gov. DeSantis\" and published earlier in the week, columnist Fabiola Santiago suggested that surging infection rates are all due to Floridians \"giddily taking risks.\" Currently, the state is seeing a resurgence of hours-long COVID-19 testing lines and an increase in deaths, according to the report.\"Omicron is what happens when we act selfishly and reject that we’re interconnected with the rest of the world in our common humanity,\" Santiago wrote about those who practice \"freedom of choice\" in regard to vaccinations. \"The me, me, me attitude only heightens our vulnerability to disease.\" Fabiola Santiago of the Miami Herald says that only selfish people catch COVID, and apparently believes that Omicron is a Florida thing. https://t.co/Pgwy8vs2bA— Max (American Jew) (@MaxNordau) December 25, 2021 Social media users did not appear to side with the columnist, with many joking about how DeSantis has also intentionally “spread” Omicron in other US states, and that the reasoning behind her suggestion was obviously flawed. I'm not from the US. Is this a satire/parody?— Hendriksson (@spacleus) December 25, 2021 Nice ratio— Christina Pushaw 🐊 (@ChristinaPushaw) December 25, 2021 He has been really busy. Besides Omicron in November he caused Delta to spike in the northeast!— Bill Hartmann (@Billhart46) December 25, 2021 How is this a real headline pic.twitter.com/2ooAxmJDQS— unlimitedcredit.eth (@sheeptweetZ) December 25, 2021 I just don’t understand how DeSantis just continues to do this to New York City, DC, New Jersey, Rhode Island, Connecticut….— Negative Nelly (@TryingToSmile3) December 25, 2021 Why do these articles always ignore Florida when things there are going absolutely fine?— Nick Challis (@NickChallis92) December 25, 2021 Governor desantis personally infected 44,000 people in New York yesterday. On unnamed, non-denominational holiday eve of all days.— brian (@joeg528) December 25, 2021 According to independent analyses done by the New York Times and Florida authorities, while the state is indeed seeing a sharp spike in new cases of COVID-19, the death rate has declined 52% on average over the past two weeks, according to NYT. window._taboola = window._taboola || []; _taboola.push({ mode: 'thumbnails-a-mid-article', container: 'taboola-mid-article-reco-reel-desktop', placement: 'Mid Article Reco Reel Desktop', target_type: 'mix' }); window._taboola = window._taboola || []; _taboola.push({ mode: 'thumbnails-mid-article-rec-reel', container: 'taboola-mid-article-reco-reel-mobile', placement: 'Mid Article Reco Reel Mobile', target_type: 'mix' }); Santiago claimed that DeSantis \"is still busy peddling treatment instead of prevention\" and \"calls giving a damn about the science of contamination 'Faucism, adding that the governor's dispute with top US epidemiologist Dr. Fauci is merely a diversion from his own political aspirations.\"The governor [is]… governing with such authoritarianism that he comes perilously close to Fascism with every move,\" she wrote. \"So many of us wish he would put politics aside, at least for the coronavirus.\"According to the journalist, even extremely transmissible omicron has not changed how \"vaccine-stagnant, mask-rejecting\" Floridians have dealt with the pandemic, as Santiago called this attitude as \"contagious as the virus.\"Santiago concluded by naming the omicron strain \"the last lesson of 2021,\" urging Americans to \"heed it, and wear the holiday smile behind the mask.\"Last week, DeSantis told Fox News that his fellow Floridians \"know we will not let anybody lock them down,\" or \"let anyone take their jobs.\" \"We will not let anyone ruin their businesses, and we will not let anyone close their schools, so people are going to be able to live life,\" DeSantis said. \"They're going to be able to make their own decisions.\"\n"
          ]
        }
      ]
    },
    {
      "cell_type": "code",
      "source": [
        ""
      ],
      "metadata": {
        "id": "3ZGafnSc3p-t"
      },
      "execution_count": null,
      "outputs": []
    }
  ]
}