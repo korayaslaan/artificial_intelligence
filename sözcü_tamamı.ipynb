{
  "nbformat": 4,
  "nbformat_minor": 0,
  "metadata": {
    "colab": {
      "name": "sözcü_tamamı.ipynb  ",
      "provenance": [],
      "collapsed_sections": [],
      "include_colab_link": true
    },
    "kernelspec": {
      "name": "python3",
      "display_name": "Python 3"
    },
    "language_info": {
      "name": "python"
    }
  },
  "cells": [
    {
      "cell_type": "markdown",
      "metadata": {
        "id": "view-in-github",
        "colab_type": "text"
      },
      "source": [
        "<a href=\"https://colab.research.google.com/github/korayaslaan/artificial_intelligence/blob/main/s%C3%B6zc%C3%BC_tamam%C4%B1.ipynb\" target=\"_parent\"><img src=\"https://colab.research.google.com/assets/colab-badge.svg\" alt=\"Open In Colab\"/></a>"
      ]
    },
    {
      "cell_type": "code",
      "metadata": {
        "id": "llD6fFXgYQvv"
      },
      "source": [
        "import os\n",
        "import bs4\n",
        "import requests\n",
        "from bs4 import BeautifulSoup\n",
        "import pandas as pd\n",
        "import numpy as np\n",
        "import os\n",
        "import time\n",
        "import urllib.request\n",
        "import re\n",
        "import urllib3\n",
        "from pandas import DataFrame\n",
        "import csv\n",
        "import datetime\n",
        "from datetime import datetime, timedelta"
      ],
      "execution_count": 115,
      "outputs": []
    },
    {
      "cell_type": "code",
      "metadata": {
        "id": "83k781ssYm3P"
      },
      "source": [
        "def datecreator():\n",
        "  gundem_links = []\n",
        "  dunya_links = []\n",
        "  ekonomi_links=[]\n",
        "  otomotiv_links = []\n",
        "  saglik_links = []\n",
        "  egitim_links=[]\n",
        "  teknoloji_links=[]\n",
        "  gundem =\"https://www.sozcu.com.tr/ajax/list-load/bGVDNFhmdTJXNEc2S1E2MzFJZDh5NDlFNkgzMzI3VzdZVG95T250ek9qRXpPaUpqWVhSbFoyOXllVjl1WVcxbElqdHpPalk2SW1kMWJtUmxiU0k3Y3pvNU9pSndiM04wWDNSNWNHVWlPM002TkRvaWNHOXpkQ0k3ZlE9PQ==/\" #8146 sayfa\n",
        "  dunya =\"https://www.sozcu.com.tr/ajax/list-load/bGVDNFhmdTJXNEc2S1E2MzFJZDh5NDlFNkgzMzI3VzdZVG95T250ek9qRXpPaUpqWVhSbFoyOXllVjl1WVcxbElqdHpPalU2SW1SMWJubGhJanR6T2prNkluQnZjM1JmZEhsd1pTSTdjem8wT2lKd2IzTjBJanQ5/\" #1895\n",
        "  ekonomi =\"https://www.sozcu.com.tr/ajax/list-load/bGVDNFhmdTJXNEc2S1E2MzFJZDh5NDlFNkgzMzI3VzdZVG95T250ek9qRXpPaUpqWVhSbFoyOXllVjl1WVcxbElqdHpPamM2SW1WcmIyNXZiV2tpTzNNNk9Ub2ljRzl6ZEY5MGVYQmxJanR6T2pRNkluQnZjM1FpTzMwPQ==/\" #1474\n",
        "  otomotiv =\"https://www.sozcu.com.tr/ajax/list-load/bGVDNFhmdTJXNEc2S1E2MzFJZDh5NDlFNkgzMzI3VzdZVG95T250ek9qRXpPaUpqWVhSbFoyOXllVjl1WVcxbElqdHpPamc2SW05MGIyMXZkR2wySWp0ek9qazZJbkJ2YzNSZmRIbHdaU0k3Y3pvME9pSndiM04wSWp0OQ==/\" #175\n",
        "  saglik =\"\" #hatalı sayfa ama açık bıraktım aşağıdaki yorum satırında olan prosesleri açıp doğru bi link girilince çalışır\n",
        "  egitim =\"https://www.sozcu.com.tr/ajax/list-load/bGVDNFhmdTJXNEc2S1E2MzFJZDh5NDlFNkgzMzI3VzdZVG95T250ek9qRXpPaUpqWVhSbFoyOXllVjl1WVcxbElqdHpPalk2SW1WbmFYUnBiU0k3Y3pvNU9pSndiM04wWDNSNWNHVWlPM002TkRvaWNHOXpkQ0k3ZlE9PQ==/\" #295\n",
        "  teknoloji =\"https://www.sozcu.com.tr/ajax/list-load/bGVDNFhmdTJXNEc2S1E2MzFJZDh5NDlFNkgzMzI3VzdZVG95T250ek9qRXpPaUpqWVhSbFoyOXllVjl1WVcxbElqdHpPams2SW5SbGEyNXZiRzlxYVNJN2N6bzVPaUp3YjNOMFgzUjVjR1VpTzNNNk5Eb2ljRzl6ZENJN2ZRPT0=/\" #321\n",
        "  for i in range(1,2,1):\n",
        "    gundem_links.append(\"{}{}\".format(gundem,i))\n",
        "\n",
        "  for i in range(1,2,1):\n",
        "    dunya_links.append(\"{}{}\".format(dunya,i))\n",
        "\n",
        "  for i in range(1,2,1):\n",
        "    ekonomi_links.append(\"{}{}\".format(ekonomi,i))\n",
        "\n",
        "  for i in range(1,2,1):\n",
        "    otomotiv_links.append(\"{}{}\".format(otomotiv,i))\n",
        "\n",
        "  for i in range(1,2,1):\n",
        "    saglik_links.append(\"{}{}\".format(saglik,i))\n",
        "\n",
        "  for i in range(1,2,1):\n",
        "    egitim_links.append(\"{}{}\".format(egitim,i))\n",
        "\n",
        "  for i in range(1,2,1):\n",
        "    teknoloji_links.append(\"{}{}\".format(teknoloji,i))\n",
        "\n",
        "  return gundem_links,dunya_links,ekonomi_links,otomotiv_links,saglik_links,egitim_links,teknoloji_links"
      ],
      "execution_count": 116,
      "outputs": []
    },
    {
      "cell_type": "code",
      "metadata": {
        "colab": {
          "base_uri": "https://localhost:8080/"
        },
        "id": "5DFfLhnPYm5S",
        "outputId": "de36080e-ca34-487d-cb58-05ebcd072571"
      },
      "source": [
        "gundem_links,dunya_links,ekonomi_links,otomotiv_links,saglik_links,egitim_links,teknoloji_links = datecreator()\n",
        "print(gundem_links)\n",
        "print(dunya_links)\n",
        "print(ekonomi_links)\n",
        "print(otomotiv_links)\n",
        "print(saglik_links)\n",
        "print(saglik_links)\n",
        "print(teknoloji_links)"
      ],
      "execution_count": 117,
      "outputs": [
        {
          "output_type": "stream",
          "text": [
            "['https://www.sozcu.com.tr/ajax/list-load/bGVDNFhmdTJXNEc2S1E2MzFJZDh5NDlFNkgzMzI3VzdZVG95T250ek9qRXpPaUpqWVhSbFoyOXllVjl1WVcxbElqdHpPalk2SW1kMWJtUmxiU0k3Y3pvNU9pSndiM04wWDNSNWNHVWlPM002TkRvaWNHOXpkQ0k3ZlE9PQ==/1']\n",
            "['https://www.sozcu.com.tr/ajax/list-load/bGVDNFhmdTJXNEc2S1E2MzFJZDh5NDlFNkgzMzI3VzdZVG95T250ek9qRXpPaUpqWVhSbFoyOXllVjl1WVcxbElqdHpPalU2SW1SMWJubGhJanR6T2prNkluQnZjM1JmZEhsd1pTSTdjem8wT2lKd2IzTjBJanQ5/1']\n",
            "['https://www.sozcu.com.tr/ajax/list-load/bGVDNFhmdTJXNEc2S1E2MzFJZDh5NDlFNkgzMzI3VzdZVG95T250ek9qRXpPaUpqWVhSbFoyOXllVjl1WVcxbElqdHpPamM2SW1WcmIyNXZiV2tpTzNNNk9Ub2ljRzl6ZEY5MGVYQmxJanR6T2pRNkluQnZjM1FpTzMwPQ==/1']\n",
            "['https://www.sozcu.com.tr/ajax/list-load/bGVDNFhmdTJXNEc2S1E2MzFJZDh5NDlFNkgzMzI3VzdZVG95T250ek9qRXpPaUpqWVhSbFoyOXllVjl1WVcxbElqdHpPamc2SW05MGIyMXZkR2wySWp0ek9qazZJbkJ2YzNSZmRIbHdaU0k3Y3pvME9pSndiM04wSWp0OQ==/1']\n",
            "['1']\n",
            "['1']\n",
            "['https://www.sozcu.com.tr/ajax/list-load/bGVDNFhmdTJXNEc2S1E2MzFJZDh5NDlFNkgzMzI3VzdZVG95T250ek9qRXpPaUpqWVhSbFoyOXllVjl1WVcxbElqdHpPams2SW5SbGEyNXZiRzlxYVNJN2N6bzVPaUp3YjNOMFgzUjVjR1VpTzNNNk5Eb2ljRzl6ZENJN2ZRPT0=/1']\n"
          ],
          "name": "stdout"
        }
      ]
    },
    {
      "cell_type": "code",
      "metadata": {
        "id": "JhX3U6s5Ym7n"
      },
      "source": [
        "def get_link_gundem(i):\n",
        "    count=1\n",
        "    count2=0\n",
        "    r = requests.get(i)   \n",
        "    soup = BeautifulSoup(r.content, 'html5lib')\n",
        "    dizi = []\n",
        "    for a in soup.find_all('a', href=True):\n",
        "      link = a['href']\n",
        "      if count%2 == 1:\n",
        "        with open(\"link_gundem.txt\", 'a') as file: \n",
        "             file.write(link+'\\n')\n",
        "             dizi.append(link)\n",
        "      count+=1"
      ],
      "execution_count": 118,
      "outputs": []
    },
    {
      "cell_type": "code",
      "metadata": {
        "id": "HaEev32i6hPR"
      },
      "source": [
        "get_link_gundem('https://www.sozcu.com.tr/ajax/list-load/bGVDNFhmdTJXNEc2S1E2MzFJZDh5NDlFNkgzMzI3VzdZVG95T250ek9qRXpPaUpqWVhSbFoyOXllVjl1WVcxbElqdHpPalk2SW1kMWJtUmxiU0k3Y3pvNU9pSndiM04wWDNSNWNHVWlPM002TkRvaWNHOXpkQ0k3ZlE9PQ==/1')"
      ],
      "execution_count": 119,
      "outputs": []
    },
    {
      "cell_type": "code",
      "metadata": {
        "id": "kGS-03q-Wsn6"
      },
      "source": [
        "def get_link_dunya(i):\n",
        "    count=1\n",
        "    count2=0\n",
        "    r = requests.get(i)   \n",
        "    soup = BeautifulSoup(r.content, 'html5lib')\n",
        "    dizi = []\n",
        "    for a in soup.find_all('a', href=True):\n",
        "      link = a['href']\n",
        "      if count%2 == 1:\n",
        "        with open(\"link_dunya.txt\", 'a') as file: \n",
        "             file.write(link+'\\n')\n",
        "             dizi.append(link)\n",
        "      count+=1"
      ],
      "execution_count": 120,
      "outputs": []
    },
    {
      "cell_type": "code",
      "metadata": {
        "id": "StmPpT7SWsto"
      },
      "source": [
        "def get_link_ekonomi(i):\n",
        "    count=1\n",
        "    count2=0\n",
        "    r = requests.get(i)   \n",
        "    soup = BeautifulSoup(r.content, 'html5lib')\n",
        "    dizi = []\n",
        "    for a in soup.find_all('a', href=True):\n",
        "      link = a['href']\n",
        "      if count%2 == 1:\n",
        "        with open(\"link_ekonomi.txt\", 'a') as file: \n",
        "             file.write(link+'\\n')\n",
        "             dizi.append(link)\n",
        "      count+=1"
      ],
      "execution_count": 121,
      "outputs": []
    },
    {
      "cell_type": "code",
      "metadata": {
        "id": "NrWV7aeEWszu"
      },
      "source": [
        "def get_link_otomotiv(i):\n",
        "    count=1\n",
        "    count2=0\n",
        "    r = requests.get(i)   \n",
        "    soup = BeautifulSoup(r.content, 'html5lib')\n",
        "    dizi = []\n",
        "    for a in soup.find_all('a', href=True):\n",
        "      link = a['href']\n",
        "      if count%2 == 1:\n",
        "        with open(\"link_otomotiv.txt\", 'a') as file: \n",
        "             file.write(link+'\\n')\n",
        "             dizi.append(link)\n",
        "      count+=1"
      ],
      "execution_count": 122,
      "outputs": []
    },
    {
      "cell_type": "code",
      "metadata": {
        "id": "lenWbaruWs5-"
      },
      "source": [
        "def get_link_saglik(i):\n",
        "    count=1\n",
        "    count2=0\n",
        "    r = requests.get(i)   \n",
        "    soup = BeautifulSoup(r.content, 'html5lib')\n",
        "    dizi = []\n",
        "    for a in soup.find_all('a', href=True):\n",
        "      link = a['href']\n",
        "      if count%2 == 1:\n",
        "        with open(\"link_saglik.txt\", 'a') as file: \n",
        "             file.write(link+'\\n')\n",
        "             dizi.append(link)\n",
        "      count+=1"
      ],
      "execution_count": 123,
      "outputs": []
    },
    {
      "cell_type": "code",
      "metadata": {
        "id": "qbFS6rcgWtAz"
      },
      "source": [
        "def get_link_egitim(i):\n",
        "    count=1\n",
        "    count2=0\n",
        "    r = requests.get(i)   \n",
        "    soup = BeautifulSoup(r.content, 'html5lib')\n",
        "    dizi = []\n",
        "    for a in soup.find_all('a', href=True):\n",
        "      link = a['href']\n",
        "      if count%2 == 1:\n",
        "        with open(\"link_egitim.txt\", 'a') as file: \n",
        "             file.write(link+'\\n')\n",
        "             dizi.append(link)\n",
        "      count+=1"
      ],
      "execution_count": 124,
      "outputs": []
    },
    {
      "cell_type": "code",
      "metadata": {
        "id": "hGQxnEZjWtHU"
      },
      "source": [
        "def get_link_teknoloji(i):\n",
        "    count=1\n",
        "    count2=0\n",
        "    r = requests.get(i)   \n",
        "    soup = BeautifulSoup(r.content, 'html5lib')\n",
        "    dizi = []\n",
        "    for a in soup.find_all('a', href=True):\n",
        "      link = a['href']\n",
        "      if count%2 == 1:\n",
        "        with open(\"link_teknoloji.txt\", 'a') as file: \n",
        "             file.write(link+'\\n')\n",
        "             dizi.append(link)\n",
        "      count+=1"
      ],
      "execution_count": 125,
      "outputs": []
    },
    {
      "cell_type": "code",
      "metadata": {
        "id": "yllnKPhkYnBV"
      },
      "source": [
        "def creator_gundem(url):\n",
        "    r = requests.get(url)   \n",
        "    soup = BeautifulSoup(r.content, 'html5lib')\n",
        "    title = soup.find(\"h1\").getText()\n",
        "    content_array = soup.find(\"div\", attrs = {\"class\":\"content\"}).getText()\n",
        "    category_array = soup.find(\"a\", attrs = {\"class\":\"text-muted small\"}).getText()\n",
        "    category_array = category_array.split()\n",
        "    date = soup.find(\"time\").getText()\n",
        "    date = date.split()\n",
        "    date = date[2]+date[3]+date[4]\n",
        "    content_array = content_array.split()\n",
        "    content_string = \"\"\n",
        "    stop = \"aip2('pageStructure',\"\n",
        "    for w in content_array:\n",
        "      if stop == w:\n",
        "        break\n",
        "      else:\n",
        "        content_string = content_string+\" \"+w\n",
        "        #w_data = url+\";\"+date+\";\"+title+\";\"+content_string\n",
        "    w_data=\"{};{};{};{};{}\".format(url,category_array[0],date,title,content_string)\n",
        "    # write_to_txt(w_data)\n",
        "    with open(\"content.txt\", 'a') as file: \n",
        "        file.write(w_data+'\\n')"
      ],
      "execution_count": 126,
      "outputs": []
    },
    {
      "cell_type": "code",
      "metadata": {
        "id": "rWaNutBUR99J"
      },
      "source": [
        "def creator_dunya(url):\n",
        "    r = requests.get(url)   \n",
        "    soup = BeautifulSoup(r.content, 'html5lib')\n",
        "    title = soup.find(\"h1\").getText()\n",
        "    content_array = soup.find(\"div\", attrs = {\"class\":\"content\"}).getText()\n",
        "    category_array = soup.find(\"a\", attrs = {\"class\":\"text-muted small\"}).getText()\n",
        "    category_array = category_array.split()\n",
        "    date = soup.find(\"time\").getText()\n",
        "    date = date.split()\n",
        "    date = date[2]+date[3]+date[4]\n",
        "    content_array = content_array.split()\n",
        "    content_string = \"\"\n",
        "    stop = \"aip2('pageStructure',\"\n",
        "    for w in content_array:\n",
        "      if stop == w:\n",
        "        break\n",
        "      else:\n",
        "        content_string = content_string+\" \"+w\n",
        "        #w_data = url+\";\"+date+\";\"+title+\";\"+content_string\n",
        "    w_data=\"{};{};{};{};{}\".format(url,category_array[0],date,title,content_string)\n",
        "    # write_to_txt(w_data)\n",
        "    with open(\"content.txt\", 'a') as file: \n",
        "        file.write(w_data+'\\n')"
      ],
      "execution_count": 127,
      "outputs": []
    },
    {
      "cell_type": "code",
      "metadata": {
        "id": "86riHsRB8x9J"
      },
      "source": [
        "creator_dunya('https://www.sozcu.com.tr/2021/dunya/corona-virusu-4-32-milyon-insani-oldurdu-6570422/')"
      ],
      "execution_count": 128,
      "outputs": []
    },
    {
      "cell_type": "code",
      "metadata": {
        "id": "Ov2RI2dnZD0h"
      },
      "source": [
        "def creator_ekonomi(url):\n",
        "    r = requests.get(url)   \n",
        "    soup = BeautifulSoup(r.content, 'html5lib')\n",
        "    title = soup.find(\"h1\").getText()\n",
        "    content_array = soup.find(\"div\", attrs = {\"class\":\"content\"}).getText()\n",
        "    category_array = soup.find(\"a\", attrs = {\"class\":\"text-muted small\"}).getText()\n",
        "    category_array = category_array.split()\n",
        "    date = soup.find(\"time\").getText()\n",
        "    date = date.split()\n",
        "    date = date[2]+date[3]+date[4]\n",
        "    content_array = content_array.split()\n",
        "    content_string = \"\"\n",
        "    stop = \"aip2('pageStructure',\"\n",
        "    for w in content_array:\n",
        "      if stop == w:\n",
        "        break\n",
        "      else:\n",
        "        content_string = content_string+\" \"+w\n",
        "        #w_data = url+\";\"+date+\";\"+title+\";\"+content_string\n",
        "    w_data=\"{};{};{};{};{}\".format(url,category_array[0],date,title,content_string)\n",
        "    # write_to_txt(w_data)\n",
        "    with open(\"content.txt\", 'a') as file: \n",
        "        file.write(w_data+'\\n')"
      ],
      "execution_count": 129,
      "outputs": []
    },
    {
      "cell_type": "code",
      "metadata": {
        "id": "VvIO-ICTZD2z"
      },
      "source": [
        "def creator_otomotiv(url):\n",
        "    r = requests.get(url)   \n",
        "    soup = BeautifulSoup(r.content, 'html5lib')\n",
        "    title = soup.find(\"h1\").getText()\n",
        "    content_array = soup.find(\"div\", attrs = {\"class\":\"content\"}).getText()\n",
        "    category_array = soup.find(\"a\", attrs = {\"class\":\"text-muted small\"}).getText()\n",
        "    category_array = category_array.split()\n",
        "    date = soup.find(\"time\").getText()\n",
        "    date = date.split()\n",
        "    date = date[2]+date[3]+date[4]\n",
        "    content_array = content_array.split()\n",
        "    content_string = \"\"\n",
        "    stop = \"aip2('pageStructure',\"\n",
        "    for w in content_array:\n",
        "      if stop == w:\n",
        "        break\n",
        "      else:\n",
        "        content_string = content_string+\" \"+w\n",
        "        #w_data = url+\";\"+date+\";\"+title+\";\"+content_string\n",
        "    w_data=\"{};{};{};{};{}\".format(url,category_array[0],date,title,content_string)\n",
        "    # write_to_txt(w_data)\n",
        "    with open(\"content.txt\", 'a') as file: \n",
        "        file.write(w_data+'\\n')"
      ],
      "execution_count": 130,
      "outputs": []
    },
    {
      "cell_type": "code",
      "metadata": {
        "id": "Fy1gB4o9VOv7"
      },
      "source": [
        "def creator_saglik(url):\n",
        "    r = requests.get(url)   \n",
        "    soup = BeautifulSoup(r.content, 'html5lib')\n",
        "    title = soup.find(\"h1\").getText()\n",
        "    content_array = soup.find(\"div\", attrs = {\"class\":\"content\"}).getText()\n",
        "    category_array = soup.find(\"a\", attrs = {\"class\":\"text-muted small\"}).getText()\n",
        "    category_array = category_array.split()\n",
        "    date = soup.find(\"time\").getText()\n",
        "    date = date.split()\n",
        "    date = date[2]+date[3]+date[4]\n",
        "    content_array = content_array.split()\n",
        "    content_string = \"\"\n",
        "    stop = \"aip2('pageStructure',\"\n",
        "    for w in content_array:\n",
        "      if stop == w:\n",
        "        break\n",
        "      else:\n",
        "        content_string = content_string+\" \"+w\n",
        "        #w_data = url+\";\"+date+\";\"+title+\";\"+content_string\n",
        "    w_data=\"{};{};{};{};{}\".format(url,category_array[0],date,title,content_string)\n",
        "    # write_to_txt(w_data)\n",
        "    with open(\"content.txt\", 'a') as file: \n",
        "        file.write(w_data+'\\n')"
      ],
      "execution_count": 131,
      "outputs": []
    },
    {
      "cell_type": "code",
      "metadata": {
        "id": "bebWAMqKVO2N"
      },
      "source": [
        "def creator_egitim(url):\n",
        "    r = requests.get(url)   \n",
        "    soup = BeautifulSoup(r.content, 'html5lib')\n",
        "    title = soup.find(\"h1\").getText()\n",
        "    content_array = soup.find(\"div\", attrs = {\"class\":\"content\"}).getText()\n",
        "    category_array = soup.find(\"a\", attrs = {\"class\":\"text-muted small\"}).getText()\n",
        "    category_array = category_array.split()\n",
        "    date = soup.find(\"time\").getText()\n",
        "    date = date.split()\n",
        "    date = date[2]+date[3]+date[4]\n",
        "    content_array = content_array.split()\n",
        "    content_string = \"\"\n",
        "    stop = \"aip2('pageStructure',\"\n",
        "    for w in content_array:\n",
        "      if stop == w:\n",
        "        break\n",
        "      else:\n",
        "        content_string = content_string+\" \"+w\n",
        "        #w_data = url+\";\"+date+\";\"+title+\";\"+content_string\n",
        "    w_data=\"{};{};{};{};{}\".format(url,category_array[0],date,title,content_string)\n",
        "    # write_to_txt(w_data)\n",
        "    with open(\"content.txt\", 'a') as file: \n",
        "        file.write(w_data+'\\n')"
      ],
      "execution_count": 132,
      "outputs": []
    },
    {
      "cell_type": "code",
      "metadata": {
        "id": "um0tEjnNVO8S"
      },
      "source": [
        "def creator_teknoloji(url):\n",
        "    r = requests.get(url)   \n",
        "    soup = BeautifulSoup(r.content, 'html5lib')\n",
        "    title = soup.find(\"h1\").getText()\n",
        "    content_array = soup.find(\"div\", attrs = {\"class\":\"content\"}).getText()\n",
        "    category_array = soup.find(\"a\", attrs = {\"class\":\"text-muted small\"}).getText()\n",
        "    category_array = category_array.split()\n",
        "    date = soup.find(\"time\").getText()\n",
        "    date = date.split()\n",
        "    date = date[2]+date[3]+date[4]\n",
        "    content_array = content_array.split()\n",
        "    content_string = \"\"\n",
        "    stop = \"aip2('pageStructure',\"\n",
        "    for w in content_array:\n",
        "      if stop == w:\n",
        "        break\n",
        "      else:\n",
        "        content_string = content_string+\" \"+w\n",
        "        #w_data = url+\";\"+date+\";\"+title+\";\"+content_string\n",
        "    w_data=\"{};{};{};{};{}\".format(url,category_array[0],date,title,content_string)\n",
        "    # write_to_txt(w_data)\n",
        "    with open(\"content.txt\", 'a') as file: \n",
        "        file.write(w_data+'\\n')"
      ],
      "execution_count": 133,
      "outputs": []
    },
    {
      "cell_type": "code",
      "metadata": {
        "id": "AxEQXLKgZD5B",
        "colab": {
          "base_uri": "https://localhost:8080/"
        },
        "outputId": "d1042ea4-fd9d-4929-868b-b894d66d8b75"
      },
      "source": [
        "gundem_links,dunya_links,ekonomi_links,otomotiv_links,saglik_links,egitim_links,teknoloji_links = datecreator()\n",
        "\n",
        "t1=time.time()\n",
        "with concurrent.futures.ProcessPoolExecutor() as execut:\n",
        "  b_res=[execut.submit(get_link_gundem,i.strip()) for i in gundem_links]\n",
        "\n",
        "print(time.time()-t1)\n",
        "\n",
        "t1=time.time()\n",
        "with concurrent.futures.ProcessPoolExecutor() as execut:\n",
        "  b_res=[execut.submit(get_link_dunya,i.strip()) for i in dunya_links]\n",
        "\n",
        "print(time.time()-t1)\n",
        "\n",
        "t1=time.time()\n",
        "with concurrent.futures.ProcessPoolExecutor() as execut:\n",
        "  b_res=[execut.submit(get_link_ekonomi,i.strip()) for i in ekonomi_links]\n",
        "\n",
        "print(time.time()-t1)\n",
        "\n",
        "t1=time.time()\n",
        "with concurrent.futures.ProcessPoolExecutor() as execut:\n",
        "  b_res=[execut.submit(get_link_otomotiv,i.strip()) for i in otomotiv_links]\n",
        "\n",
        "print(time.time()-t1)\n",
        "\n",
        "t1=time.time()\n",
        "with concurrent.futures.ProcessPoolExecutor() as execut:\n",
        "  b_res=[execut.submit(get_link_saglik,i.strip()) for i in saglik_links]\n",
        "\n",
        "print(time.time()-t1)\n",
        "\n",
        "t1=time.time()\n",
        "with concurrent.futures.ProcessPoolExecutor() as execut:\n",
        "  b_res=[execut.submit(get_link_egitim,i.strip()) for i in egitim_links]\n",
        "\n",
        "print(time.time()-t1)\n",
        "\n",
        "t1=time.time()\n",
        "with concurrent.futures.ProcessPoolExecutor() as execut:\n",
        "  b_res=[execut.submit(get_link_teknoloji,i.strip()) for i in teknoloji_links]\n",
        "\n",
        "print(time.time()-t1)\n",
        "\n",
        "\n",
        "\n",
        "\n"
      ],
      "execution_count": 134,
      "outputs": [
        {
          "output_type": "stream",
          "text": [
            "0.3408219814300537\n",
            "0.5295844078063965\n",
            "0.5235505104064941\n",
            "0.46278905868530273\n",
            "0.029703617095947266\n",
            "0.48868656158447266\n",
            "0.49770641326904297\n"
          ],
          "name": "stdout"
        }
      ]
    },
    {
      "cell_type": "code",
      "metadata": {
        "id": "SiIuBTuxZD69"
      },
      "source": [
        "import os\n",
        "import csv\n",
        "import concurrent\n",
        "import multiprocessing\n",
        "from multiprocessing import pool\n",
        "import io\n",
        "from pprint import pprint\n",
        "link_gundems=[]\n",
        "with open(\"link_gundem.txt\",'r',newline='') as f:\n",
        "  for i in f.readlines():    \n",
        "  # reader=csv.reader(f)\n",
        "    link_gundems.append(i)"
      ],
      "execution_count": 135,
      "outputs": []
    },
    {
      "cell_type": "code",
      "metadata": {
        "colab": {
          "base_uri": "https://localhost:8080/",
          "height": 374
        },
        "id": "vduB9eHSm512",
        "outputId": "d47ef686-2b80-4e32-e497-6c699959868b"
      },
      "source": [
        "t1=time.time()\n",
        "with concurrent.futures.ProcessPoolExecutor() as execut:\n",
        "  b_res=[execut.submit(creator_gundem,i.strip()) for i in link_gundems]\n",
        "\n",
        "print(time.time()-t1)"
      ],
      "execution_count": 136,
      "outputs": [
        {
          "output_type": "error",
          "ename": "KeyboardInterrupt",
          "evalue": "ignored",
          "traceback": [
            "\u001b[0;31m---------------------------------------------------------------------------\u001b[0m",
            "\u001b[0;31mKeyboardInterrupt\u001b[0m                         Traceback (most recent call last)",
            "\u001b[0;32m<ipython-input-136-77eb39973620>\u001b[0m in \u001b[0;36m<module>\u001b[0;34m()\u001b[0m\n\u001b[1;32m      1\u001b[0m \u001b[0mt1\u001b[0m\u001b[0;34m=\u001b[0m\u001b[0mtime\u001b[0m\u001b[0;34m.\u001b[0m\u001b[0mtime\u001b[0m\u001b[0;34m(\u001b[0m\u001b[0;34m)\u001b[0m\u001b[0;34m\u001b[0m\u001b[0;34m\u001b[0m\u001b[0m\n\u001b[1;32m      2\u001b[0m \u001b[0;32mwith\u001b[0m \u001b[0mconcurrent\u001b[0m\u001b[0;34m.\u001b[0m\u001b[0mfutures\u001b[0m\u001b[0;34m.\u001b[0m\u001b[0mProcessPoolExecutor\u001b[0m\u001b[0;34m(\u001b[0m\u001b[0;34m)\u001b[0m \u001b[0;32mas\u001b[0m \u001b[0mexecut\u001b[0m\u001b[0;34m:\u001b[0m\u001b[0;34m\u001b[0m\u001b[0;34m\u001b[0m\u001b[0m\n\u001b[0;32m----> 3\u001b[0;31m   \u001b[0mb_res\u001b[0m\u001b[0;34m=\u001b[0m\u001b[0;34m[\u001b[0m\u001b[0mexecut\u001b[0m\u001b[0;34m.\u001b[0m\u001b[0msubmit\u001b[0m\u001b[0;34m(\u001b[0m\u001b[0mcreator_gundem\u001b[0m\u001b[0;34m,\u001b[0m\u001b[0mi\u001b[0m\u001b[0;34m.\u001b[0m\u001b[0mstrip\u001b[0m\u001b[0;34m(\u001b[0m\u001b[0;34m)\u001b[0m\u001b[0;34m)\u001b[0m \u001b[0;32mfor\u001b[0m \u001b[0mi\u001b[0m \u001b[0;32min\u001b[0m \u001b[0mlink_gundems\u001b[0m\u001b[0;34m]\u001b[0m\u001b[0;34m\u001b[0m\u001b[0;34m\u001b[0m\u001b[0m\n\u001b[0m\u001b[1;32m      4\u001b[0m \u001b[0;34m\u001b[0m\u001b[0m\n\u001b[1;32m      5\u001b[0m \u001b[0mprint\u001b[0m\u001b[0;34m(\u001b[0m\u001b[0mtime\u001b[0m\u001b[0;34m.\u001b[0m\u001b[0mtime\u001b[0m\u001b[0;34m(\u001b[0m\u001b[0;34m)\u001b[0m\u001b[0;34m-\u001b[0m\u001b[0mt1\u001b[0m\u001b[0;34m)\u001b[0m\u001b[0;34m\u001b[0m\u001b[0;34m\u001b[0m\u001b[0m\n",
            "\u001b[0;32m/usr/lib/python3.7/concurrent/futures/_base.py\u001b[0m in \u001b[0;36m__exit__\u001b[0;34m(self, exc_type, exc_val, exc_tb)\u001b[0m\n\u001b[1;32m    621\u001b[0m \u001b[0;34m\u001b[0m\u001b[0m\n\u001b[1;32m    622\u001b[0m     \u001b[0;32mdef\u001b[0m \u001b[0m__exit__\u001b[0m\u001b[0;34m(\u001b[0m\u001b[0mself\u001b[0m\u001b[0;34m,\u001b[0m \u001b[0mexc_type\u001b[0m\u001b[0;34m,\u001b[0m \u001b[0mexc_val\u001b[0m\u001b[0;34m,\u001b[0m \u001b[0mexc_tb\u001b[0m\u001b[0;34m)\u001b[0m\u001b[0;34m:\u001b[0m\u001b[0;34m\u001b[0m\u001b[0;34m\u001b[0m\u001b[0m\n\u001b[0;32m--> 623\u001b[0;31m         \u001b[0mself\u001b[0m\u001b[0;34m.\u001b[0m\u001b[0mshutdown\u001b[0m\u001b[0;34m(\u001b[0m\u001b[0mwait\u001b[0m\u001b[0;34m=\u001b[0m\u001b[0;32mTrue\u001b[0m\u001b[0;34m)\u001b[0m\u001b[0;34m\u001b[0m\u001b[0;34m\u001b[0m\u001b[0m\n\u001b[0m\u001b[1;32m    624\u001b[0m         \u001b[0;32mreturn\u001b[0m \u001b[0;32mFalse\u001b[0m\u001b[0;34m\u001b[0m\u001b[0;34m\u001b[0m\u001b[0m\n\u001b[1;32m    625\u001b[0m \u001b[0;34m\u001b[0m\u001b[0m\n",
            "\u001b[0;32m/usr/lib/python3.7/concurrent/futures/process.py\u001b[0m in \u001b[0;36mshutdown\u001b[0;34m(self, wait)\u001b[0m\n\u001b[1;32m    679\u001b[0m             \u001b[0mself\u001b[0m\u001b[0;34m.\u001b[0m\u001b[0m_queue_management_thread_wakeup\u001b[0m\u001b[0;34m.\u001b[0m\u001b[0mwakeup\u001b[0m\u001b[0;34m(\u001b[0m\u001b[0;34m)\u001b[0m\u001b[0;34m\u001b[0m\u001b[0;34m\u001b[0m\u001b[0m\n\u001b[1;32m    680\u001b[0m             \u001b[0;32mif\u001b[0m \u001b[0mwait\u001b[0m\u001b[0;34m:\u001b[0m\u001b[0;34m\u001b[0m\u001b[0;34m\u001b[0m\u001b[0m\n\u001b[0;32m--> 681\u001b[0;31m                 \u001b[0mself\u001b[0m\u001b[0;34m.\u001b[0m\u001b[0m_queue_management_thread\u001b[0m\u001b[0;34m.\u001b[0m\u001b[0mjoin\u001b[0m\u001b[0;34m(\u001b[0m\u001b[0;34m)\u001b[0m\u001b[0;34m\u001b[0m\u001b[0;34m\u001b[0m\u001b[0m\n\u001b[0m\u001b[1;32m    682\u001b[0m         \u001b[0;31m# To reduce the risk of opening too many files, remove references to\u001b[0m\u001b[0;34m\u001b[0m\u001b[0;34m\u001b[0m\u001b[0;34m\u001b[0m\u001b[0m\n\u001b[1;32m    683\u001b[0m         \u001b[0;31m# objects that use file descriptors.\u001b[0m\u001b[0;34m\u001b[0m\u001b[0;34m\u001b[0m\u001b[0;34m\u001b[0m\u001b[0m\n",
            "\u001b[0;32m/usr/lib/python3.7/threading.py\u001b[0m in \u001b[0;36mjoin\u001b[0;34m(self, timeout)\u001b[0m\n\u001b[1;32m   1042\u001b[0m \u001b[0;34m\u001b[0m\u001b[0m\n\u001b[1;32m   1043\u001b[0m         \u001b[0;32mif\u001b[0m \u001b[0mtimeout\u001b[0m \u001b[0;32mis\u001b[0m \u001b[0;32mNone\u001b[0m\u001b[0;34m:\u001b[0m\u001b[0;34m\u001b[0m\u001b[0;34m\u001b[0m\u001b[0m\n\u001b[0;32m-> 1044\u001b[0;31m             \u001b[0mself\u001b[0m\u001b[0;34m.\u001b[0m\u001b[0m_wait_for_tstate_lock\u001b[0m\u001b[0;34m(\u001b[0m\u001b[0;34m)\u001b[0m\u001b[0;34m\u001b[0m\u001b[0;34m\u001b[0m\u001b[0m\n\u001b[0m\u001b[1;32m   1045\u001b[0m         \u001b[0;32melse\u001b[0m\u001b[0;34m:\u001b[0m\u001b[0;34m\u001b[0m\u001b[0;34m\u001b[0m\u001b[0m\n\u001b[1;32m   1046\u001b[0m             \u001b[0;31m# the behavior of a negative timeout isn't documented, but\u001b[0m\u001b[0;34m\u001b[0m\u001b[0;34m\u001b[0m\u001b[0;34m\u001b[0m\u001b[0m\n",
            "\u001b[0;32m/usr/lib/python3.7/threading.py\u001b[0m in \u001b[0;36m_wait_for_tstate_lock\u001b[0;34m(self, block, timeout)\u001b[0m\n\u001b[1;32m   1058\u001b[0m         \u001b[0;32mif\u001b[0m \u001b[0mlock\u001b[0m \u001b[0;32mis\u001b[0m \u001b[0;32mNone\u001b[0m\u001b[0;34m:\u001b[0m  \u001b[0;31m# already determined that the C code is done\u001b[0m\u001b[0;34m\u001b[0m\u001b[0;34m\u001b[0m\u001b[0m\n\u001b[1;32m   1059\u001b[0m             \u001b[0;32massert\u001b[0m \u001b[0mself\u001b[0m\u001b[0;34m.\u001b[0m\u001b[0m_is_stopped\u001b[0m\u001b[0;34m\u001b[0m\u001b[0;34m\u001b[0m\u001b[0m\n\u001b[0;32m-> 1060\u001b[0;31m         \u001b[0;32melif\u001b[0m \u001b[0mlock\u001b[0m\u001b[0;34m.\u001b[0m\u001b[0macquire\u001b[0m\u001b[0;34m(\u001b[0m\u001b[0mblock\u001b[0m\u001b[0;34m,\u001b[0m \u001b[0mtimeout\u001b[0m\u001b[0;34m)\u001b[0m\u001b[0;34m:\u001b[0m\u001b[0;34m\u001b[0m\u001b[0;34m\u001b[0m\u001b[0m\n\u001b[0m\u001b[1;32m   1061\u001b[0m             \u001b[0mlock\u001b[0m\u001b[0;34m.\u001b[0m\u001b[0mrelease\u001b[0m\u001b[0;34m(\u001b[0m\u001b[0;34m)\u001b[0m\u001b[0;34m\u001b[0m\u001b[0;34m\u001b[0m\u001b[0m\n\u001b[1;32m   1062\u001b[0m             \u001b[0mself\u001b[0m\u001b[0;34m.\u001b[0m\u001b[0m_stop\u001b[0m\u001b[0;34m(\u001b[0m\u001b[0;34m)\u001b[0m\u001b[0;34m\u001b[0m\u001b[0;34m\u001b[0m\u001b[0m\n",
            "\u001b[0;31mKeyboardInterrupt\u001b[0m: "
          ]
        }
      ]
    },
    {
      "cell_type": "code",
      "metadata": {
        "id": "Z_ouc1ulm54J"
      },
      "source": [
        "link_dunya=[]\n",
        "with open(\"link_dunya.txt\",'r',newline='') as f:\n",
        "  for i in f.readlines():    \n",
        "  # reader=csv.reader(f)\n",
        "    link_dunya.append(i)"
      ],
      "execution_count": null,
      "outputs": []
    },
    {
      "cell_type": "code",
      "metadata": {
        "id": "XunLfaUqm56W"
      },
      "source": [
        "t1=time.time()\n",
        "with concurrent.futures.ProcessPoolExecutor() as execut:\n",
        "  b_res=[execut.submit(creator_dunya,i.strip()) for i in link_dunya]\n",
        "\n",
        "print(time.time()-t1)"
      ],
      "execution_count": null,
      "outputs": []
    },
    {
      "cell_type": "code",
      "metadata": {
        "id": "rNXmeL3noKSn"
      },
      "source": [
        "link_ekonomi=[]\n",
        "with open(\"link_ekonomi.txt\",'r',newline='') as f:\n",
        "  for i in f.readlines():    \n",
        "  # reader=csv.reader(f)\n",
        "    link_ekonomi.append(i)"
      ],
      "execution_count": null,
      "outputs": []
    },
    {
      "cell_type": "code",
      "metadata": {
        "id": "GokvbESQoKVf"
      },
      "source": [
        "t1=time.time()\n",
        "with concurrent.futures.ProcessPoolExecutor() as execut:\n",
        "  b_res=[execut.submit(creator_ekonomi,i.strip()) for i in link_ekonomi]\n",
        "\n",
        "print(time.time()-t1)"
      ],
      "execution_count": null,
      "outputs": []
    },
    {
      "cell_type": "code",
      "metadata": {
        "id": "OV529ISYY9Fy"
      },
      "source": [
        "link_otomotiv=[]\n",
        "with open(\"link_otomotiv.txt\",'r',newline='') as f:\n",
        "  for i in f.readlines():    \n",
        "  # reader=csv.reader(f)\n",
        "    link_otomotiv.append(i)"
      ],
      "execution_count": null,
      "outputs": []
    },
    {
      "cell_type": "code",
      "metadata": {
        "id": "UPsjDU3_Y9Nr"
      },
      "source": [
        "t1=time.time()\n",
        "with concurrent.futures.ProcessPoolExecutor() as execut:\n",
        "  b_res=[execut.submit(creator_otomotiv,i.strip()) for i in link_otomotiv]\n",
        "\n",
        "print(time.time()-t1)"
      ],
      "execution_count": null,
      "outputs": []
    },
    {
      "cell_type": "code",
      "metadata": {
        "id": "DfwNAdq5Y9UP"
      },
      "source": [
        "# link_saglik=[]\n",
        "# with open(\"link_saglik.txt\",'r',newline='') as f:\n",
        "#   for i in f.readlines():    \n",
        "#   # reader=csv.reader(f)\n",
        "#     link_saglik.append(i)"
      ],
      "execution_count": null,
      "outputs": []
    },
    {
      "cell_type": "code",
      "metadata": {
        "id": "jLupatRhY9bg"
      },
      "source": [
        "# t1=time.time()\n",
        "# with concurrent.futures.ProcessPoolExecutor() as execut:\n",
        "#   b_res=[execut.submit(creator_saglik,i.strip()) for i in link_saglik]\n",
        "\n",
        "# print(time.time()-t1)"
      ],
      "execution_count": null,
      "outputs": []
    },
    {
      "cell_type": "code",
      "metadata": {
        "id": "ZNPRWTrtY9hZ"
      },
      "source": [
        "link_egitim=[]\n",
        "with open(\"link_egitim.txt\",'r',newline='') as f:\n",
        "  for i in f.readlines():    \n",
        "  # reader=csv.reader(f)\n",
        "    link_egitim.append(i)"
      ],
      "execution_count": null,
      "outputs": []
    },
    {
      "cell_type": "code",
      "metadata": {
        "id": "bxYSDmkUY9mL"
      },
      "source": [
        "t1=time.time()\n",
        "with concurrent.futures.ProcessPoolExecutor() as execut:\n",
        "  b_res=[execut.submit(creator_egitim,i.strip()) for i in link_egitim]\n",
        "\n",
        "print(time.time()-t1)"
      ],
      "execution_count": null,
      "outputs": []
    },
    {
      "cell_type": "code",
      "metadata": {
        "id": "amQncQAgZIgq"
      },
      "source": [
        "link_teknoloji=[]\n",
        "with open(\"link_teknoloji.txt\",'r',newline='') as f:\n",
        "  for i in f.readlines():    \n",
        "  # reader=csv.reader(f)\n",
        "    link_teknoloji.append(i)"
      ],
      "execution_count": null,
      "outputs": []
    },
    {
      "cell_type": "code",
      "metadata": {
        "id": "yDfgvdXWZIiv"
      },
      "source": [
        "t1=time.time()\n",
        "with concurrent.futures.ProcessPoolExecutor() as execut:\n",
        "  b_res=[execut.submit(creator_teknoloji,i.strip()) for i in link_teknoloji]\n",
        "\n",
        "print(time.time()-t1)"
      ],
      "execution_count": null,
      "outputs": []
    }
  ]
}