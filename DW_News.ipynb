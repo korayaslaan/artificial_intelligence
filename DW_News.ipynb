{
  "nbformat": 4,
  "nbformat_minor": 0,
  "metadata": {
    "colab": {
      "name": "DW News.ipynb",
      "provenance": [],
      "collapsed_sections": [],
      "authorship_tag": "ABX9TyMGrrVda6RDKyEPgpoMFuTQ",
      "include_colab_link": true
    },
    "kernelspec": {
      "name": "python3",
      "display_name": "Python 3"
    },
    "language_info": {
      "name": "python"
    }
  },
  "cells": [
    {
      "cell_type": "markdown",
      "metadata": {
        "id": "view-in-github",
        "colab_type": "text"
      },
      "source": [
        "<a href=\"https://colab.research.google.com/github/korayaslaan/artificial_intelligence/blob/main/DW_News.ipynb\" target=\"_parent\"><img src=\"https://colab.research.google.com/assets/colab-badge.svg\" alt=\"Open In Colab\"/></a>"
      ]
    },
    {
      "cell_type": "code",
      "source": [
        "import os\n",
        "import bs4\n",
        "import requests\n",
        "from bs4 import BeautifulSoup\n",
        "import pandas as pd\n",
        "import numpy as np\n",
        "import os\n",
        "import time\n",
        "import urllib.request\n",
        "import re\n",
        "import urllib3\n",
        "from pandas import DataFrame\n",
        "import csv\n",
        "import datetime\n",
        "from datetime import datetime, timedelta\n",
        "import os\n",
        "import csv\n",
        "import concurrent\n",
        "import multiprocessing\n",
        "from multiprocessing import pool\n",
        "import io\n",
        "from pprint import pprint"
      ],
      "metadata": {
        "id": "YVzUJl8cQrYN"
      },
      "execution_count": 321,
      "outputs": []
    },
    {
      "cell_type": "code",
      "source": [
        "def dateCreator():\n",
        "  links = []  \n",
        "\n",
        "  ser_date = pd.Series(pd.date_range('20011001', periods=8400)) #01.10.2001 bu\n",
        "  link1 = \"https://www.dw.com/search/?languageCode=en&item=\"\n",
        "  link2 = \"&searchNavigationId=9097&from=\"\n",
        "  link3 = \"&to=\"\n",
        "  link4 = \"&sort=DATE&resultsCounter=50\"\n",
        "  category  = ['science','technology']\n",
        "  a=5000\n",
        "  b=5100  #7407 son\n",
        "  for i in category:\n",
        "    for j in range(a,b):\n",
        "      dateEnd  = ser_date[j].strftime(\"%d.%m.%Y\")\n",
        "      links.append(\"{}{}{}{}{}{}{}\".format(link1,i,link2,dateEnd,link3,dateEnd,link4))\n",
        "  return links"
      ],
      "metadata": {
        "id": "JPDX-5BaQrWY"
      },
      "execution_count": 322,
      "outputs": []
    },
    {
      "cell_type": "code",
      "execution_count": 323,
      "metadata": {
        "id": "CZ3ovlFxOxOi"
      },
      "outputs": [],
      "source": [
        "# https://www.dw.com/search/?languageCode=en&item=science&searchNavigationId=9097&from=06.10.2021&to=06.10.2021&sort=DATE&resultsCounter=13"
      ]
    },
    {
      "cell_type": "code",
      "source": [
        "# dateCreator()"
      ],
      "metadata": {
        "id": "Dk5AaRmXQrUP"
      },
      "execution_count": 324,
      "outputs": []
    },
    {
      "cell_type": "code",
      "source": [
        "def get_link(i):\n",
        "     r = requests.get(i)   \n",
        "     soup = BeautifulSoup(r.content, 'html5lib')\n",
        "     for a in soup.find_all('a', href=True):\n",
        "       link = a['href']\n",
        "       result = link.startswith(\"/en\")\n",
        "       if(result == True):\n",
        "         control = link[len(link)-11:len(link)-9]\n",
        "         if(control == \"av\" or control == \"/a\"):\n",
        "           result2 = link.startswith(\"/en/travel/\") or link.startswith(\"/en/european-union-general-data-protection-regulationgdpr-valid-may-25-2018/a-18265246\") or link.startswith(\"/en/accessibility-statement/a-54925999\")\n",
        "           if(result2 == False ):\n",
        "             w_data = \"{}{}\".format(\"https://www.dw.com\",link)\n",
        "             with open(\"NewsLinks.txt\", 'a') as file: \n",
        "               file.write(w_data + '\\n')\n"
      ],
      "metadata": {
        "id": "yWkxc8SNQrR8"
      },
      "execution_count": 325,
      "outputs": []
    },
    {
      "cell_type": "code",
      "source": [
        "# get_link(\"https://www.dw.com/search/?languageCode=en&item=science&searchNavigationId=9097&from=15.04.2021&to=05.05.2021&sort=DATE&resultsCounter=50\")"
      ],
      "metadata": {
        "id": "TcehUlbLQrPk"
      },
      "execution_count": 326,
      "outputs": []
    },
    {
      "cell_type": "code",
      "source": [
        "links = dateCreator()\n",
        "with concurrent.futures.ProcessPoolExecutor() as execut:\n",
        "  b_res=[execut.submit(get_link,i.strip()) for i in links]"
      ],
      "metadata": {
        "id": "zf87mbY5eaOk"
      },
      "execution_count": 327,
      "outputs": []
    },
    {
      "cell_type": "code",
      "source": [
        "def creator(url):\n",
        "    r = requests.get(url)   \n",
        "    soup = BeautifulSoup(r.content, 'html5lib')\n",
        "    title = soup.find(\"h1\").getText()\n",
        "    content_array = soup.find(\"div\", attrs = {\"class\":\"longText\"})\n",
        "    content_array2 = \"\"\n",
        "    for a in content_array.find_all('p'):\n",
        "      content_array2 = content_array2 + a.getText()\n",
        "    category = soup.find(\"h4\", attrs = {\"class\":\"artikel\"}).getText()\n",
        "    date = soup.find(\"div\", attrs = {\"class\":\"dim\"}).getText()\n",
        "    date = re.sub(\"^\\s+|\\s+$\", \"\", date, flags=re.UNICODE)\n",
        "    date = date.split(\"\\n\")\n",
        "    date = date[1]\n",
        "    content_string = \"\"\n",
        "    content_array2 = content_array2.split(\" \")\n",
        "    for m in content_array2:\n",
        "       content_string = content_string+\" \"+m\n",
        "    w_data=\"{};{};{};{};{}\".format(url,date,category,title,content_string)\n",
        "    with open(\"contentAll.txt\", 'a') as file: \n",
        "      file.write(w_data+'\\n')"
      ],
      "metadata": {
        "id": "DBQbjww6ezM-"
      },
      "execution_count": 328,
      "outputs": []
    },
    {
      "cell_type": "code",
      "source": [
        "# creator(\"https://www.dw.com/en/covid-19-india-braces-for-third-wave-due-to-omicron-variant/a-60328059\")"
      ],
      "metadata": {
        "id": "kBMrEt93ezKx"
      },
      "execution_count": 329,
      "outputs": []
    },
    {
      "cell_type": "code",
      "source": [
        "NewsLinksAll=[]\n",
        "with open(\"NewsLinks.txt\",'r',newline='') as f:\n",
        "  for i in f.readlines():    \n",
        "    NewsLinksAll.append(i)\n",
        "\n",
        "t1=time.time()\n",
        "with concurrent.futures.ProcessPoolExecutor() as execut:\n",
        "  b_res=[execut.submit(creator,i.strip()) for i in NewsLinksAll]\n",
        "\n",
        "print(time.time()-t1)"
      ],
      "metadata": {
        "id": "gHJfuJivezIU",
        "colab": {
          "base_uri": "https://localhost:8080/"
        },
        "outputId": "7a7cc875-3f80-444a-82e0-5da6d186ede5"
      },
      "execution_count": 330,
      "outputs": [
        {
          "output_type": "stream",
          "name": "stdout",
          "text": [
            "216.67664623260498\n"
          ]
        }
      ]
    }
  ]
}