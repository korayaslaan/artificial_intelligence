{
  "nbformat": 4,
  "nbformat_minor": 0,
  "metadata": {
    "colab": {
      "name": "trthaber_tamamı.ipynb",
      "provenance": [],
      "authorship_tag": "ABX9TyMRr1P9iRQSz+LlcsQbhYLb",
      "include_colab_link": true
    },
    "kernelspec": {
      "name": "python3",
      "display_name": "Python 3"
    },
    "language_info": {
      "name": "python"
    }
  },
  "cells": [
    {
      "cell_type": "markdown",
      "metadata": {
        "id": "view-in-github",
        "colab_type": "text"
      },
      "source": [
        "<a href=\"https://colab.research.google.com/github/korayaslaan/artificial_intelligence/blob/main/trthaber_tamam%C4%B1.ipynb\" target=\"_parent\"><img src=\"https://colab.research.google.com/assets/colab-badge.svg\" alt=\"Open In Colab\"/></a>"
      ]
    },
    {
      "cell_type": "code",
      "metadata": {
        "id": "D5OypY0o-Xkx"
      },
      "source": [
        "from bs4 import BeautifulSoup\n",
        "import requests\n",
        "import time\n",
        "import csv\n",
        "import pandas as pd\n",
        "import datetime\n",
        "from datetime import datetime, timedelta\n",
        "import numpy as np\n",
        "import os\n",
        "import csv\n",
        "import concurrent\n",
        "import multiprocessing\n",
        "from multiprocessing import pool\n",
        "import io\n",
        "from pprint import pprint"
      ],
      "execution_count": 44,
      "outputs": []
    },
    {
      "cell_type": "code",
      "metadata": {
        "id": "kgBr2HT_-b0R"
      },
      "source": [
        "def datecreator():\n",
        "  date_list=[]\n",
        "  txt=\"\"\n",
        "  newdate=\"\"\n",
        "  url_in=\"\"\n",
        "  url1=\"https://www.trthaber.com/haber/gundem/\"\n",
        "  url2=\"https://www.trthaber.com/haber/turkiye/\"\n",
        "  url3=\"https://www.trthaber.com/haber/dunya/\"\n",
        "  url4=\"https://www.trthaber.com/haber/ekonomi/\"\n",
        "  url5=\"https://www.trthaber.com/haber/spor/\"\n",
        "  url6=\"https://www.trthaber.com/haber/yasam/\"\n",
        "  url7=\"https://www.trthaber.com/ozel-haberler/\"\n",
        "  url8=\"https://www.trthaber.com/dosya-haberler/\"\n",
        "  url9=\"https://www.trthaber.com/haber/kultur-sanat/\"\n",
        "  url10=\"https://www.trthaber.com/haber/saglik/\"\n",
        "  url11=\"https://www.trthaber.com/haber/bilim-teknoloji/\"\n",
        "  url12=\"https://www.trthaber.com/haber/egitim/\"\n",
        "  url13=\"https://www.trthaber.com/haber/guncel/\"\n",
        " \n",
        " \n",
        "  for i in range(2): #2427 sayfa var\n",
        "      url_in=\"{}{}{}\".format(url1,i+1,\".sayfa.html\")\n",
        "      date_list.append(url_in)\n",
        "  for i in range(2): #4815 sayfa var\n",
        "      url_in=\"{}{}{}\".format(url2,i+1,\".sayfa.html\")\n",
        "      date_list.append(url_in)\n",
        "  for i in range(2): #4280 sayfa var\n",
        "      url_in=\"{}{}{}\".format(url3,i+1,\".sayfa.html\")\n",
        "      date_list.append(url_in)\n",
        "  for i in range(2): #1561 sayfa var\n",
        "      url_in=\"{}{}{}\".format(url4,i+1,\".sayfa.html\")\n",
        "      date_list.append(url_in)\n",
        "  for i in range(2): #2386 sayfa var\n",
        "      url_in=\"{}{}{}\".format(url5,i+1,\".sayfa.html\")\n",
        "      date_list.append(url_in)\n",
        "  for i in range(2): #788 sayfa var\n",
        "      url_in=\"{}{}{}\".format(url6,i+1,\".sayfa.html\")\n",
        "      date_list.append(url_in)\n",
        "  for i in range(2): #64 sayfa var\n",
        "      url_in=\"{}{}{}\".format(url7,i+1,\".sayfa.html\")\n",
        "      date_list.append(url_in)\n",
        "  for i in range(2): #32 sayfa var\n",
        "      url_in=\"{}{}{}\".format(url8,i+1,\".sayfa.html\")\n",
        "      date_list.append(url_in)\n",
        "  for i in range(2): #408 sayfa var\n",
        "      url_in=\"{}{}{}\".format(url9,i+1,\".sayfa.html\")\n",
        "      date_list.append(url_in)\n",
        "  for i in range(2): #367 sayfa var\n",
        "      url_in=\"{}{}{}\".format(url10,i+1,\".sayfa.html\")\n",
        "      date_list.append(url_in)\n",
        "  for i in range(2): #261 sayfa var\n",
        "      url_in=\"{}{}{}\".format(url11,i+1,\".sayfa.html\")\n",
        "      date_list.append(url_in)\n",
        "  for i in range(2): #201 sayfa var\n",
        "      url_in=\"{}{}{}\".format(url12,i+1,\".sayfa.html\")\n",
        "      date_list.append(url_in)\n",
        "  for i in range(2): #947 sayfa var\n",
        "      url_in=\"{}{}{}\".format(url13,i+1,\".sayfa.html\")\n",
        "      date_list.append(url_in)\n",
        "\n",
        " \n",
        " \n",
        "  return date_list"
      ],
      "execution_count": 45,
      "outputs": []
    },
    {
      "cell_type": "code",
      "metadata": {
        "colab": {
          "base_uri": "https://localhost:8080/"
        },
        "id": "iEjGio4rm0R1",
        "outputId": "aa734a0d-3ff4-41fd-fadf-43c133de68ae"
      },
      "source": [
        "datecreator()"
      ],
      "execution_count": 46,
      "outputs": [
        {
          "output_type": "execute_result",
          "data": {
            "text/plain": [
              "['https://www.trthaber.com/haber/gundem/1.sayfa.html',\n",
              " 'https://www.trthaber.com/haber/gundem/2.sayfa.html',\n",
              " 'https://www.trthaber.com/haber/turkiye/1.sayfa.html',\n",
              " 'https://www.trthaber.com/haber/turkiye/2.sayfa.html',\n",
              " 'https://www.trthaber.com/haber/dunya/1.sayfa.html',\n",
              " 'https://www.trthaber.com/haber/dunya/2.sayfa.html',\n",
              " 'https://www.trthaber.com/haber/ekonomi/1.sayfa.html',\n",
              " 'https://www.trthaber.com/haber/ekonomi/2.sayfa.html',\n",
              " 'https://www.trthaber.com/haber/spor/1.sayfa.html',\n",
              " 'https://www.trthaber.com/haber/spor/2.sayfa.html',\n",
              " 'https://www.trthaber.com/haber/yasam/1.sayfa.html',\n",
              " 'https://www.trthaber.com/haber/yasam/2.sayfa.html',\n",
              " 'https://www.trthaber.com/ozel-haberler/1.sayfa.html',\n",
              " 'https://www.trthaber.com/ozel-haberler/2.sayfa.html',\n",
              " 'https://www.trthaber.com/dosya-haberler/1.sayfa.html',\n",
              " 'https://www.trthaber.com/dosya-haberler/2.sayfa.html',\n",
              " 'https://www.trthaber.com/haber/kultur-sanat/1.sayfa.html',\n",
              " 'https://www.trthaber.com/haber/kultur-sanat/2.sayfa.html',\n",
              " 'https://www.trthaber.com/haber/saglik/1.sayfa.html',\n",
              " 'https://www.trthaber.com/haber/saglik/2.sayfa.html',\n",
              " 'https://www.trthaber.com/haber/bilim-teknoloji/1.sayfa.html',\n",
              " 'https://www.trthaber.com/haber/bilim-teknoloji/2.sayfa.html',\n",
              " 'https://www.trthaber.com/haber/egitim/1.sayfa.html',\n",
              " 'https://www.trthaber.com/haber/egitim/2.sayfa.html',\n",
              " 'https://www.trthaber.com/haber/guncel/1.sayfa.html',\n",
              " 'https://www.trthaber.com/haber/guncel/2.sayfa.html']"
            ]
          },
          "metadata": {
            "tags": []
          },
          "execution_count": 46
        }
      ]
    },
    {
      "cell_type": "code",
      "metadata": {
        "id": "7q2VHHVNaGyL"
      },
      "source": [
        "def get_link(link):\n",
        "  r = requests.get(link)   \n",
        "  soup = BeautifulSoup(r.content, 'html5lib')\n",
        "  content = soup.find(\"div\", attrs = {\"class\":\"katListe2\"})\n",
        "  url_in=\"\"\n",
        "  url = \"https://www.trthaber.com/\"\n",
        "  for a in content.find_all('a', href=True):\n",
        "    link =a[\"href\"]\n",
        "    url_in=\"{}{}\".format(url,link)\n",
        "    with open(\"trt_tamamı_links.txt\", 'a') as file: \n",
        "        file.write(url_in+'\\n')\n"
      ],
      "execution_count": 47,
      "outputs": []
    },
    {
      "cell_type": "code",
      "metadata": {
        "id": "DzRSfVB4mv7R"
      },
      "source": [
        "get_link('https://www.trthaber.com/haber/gundem/1.sayfa.html')"
      ],
      "execution_count": 48,
      "outputs": []
    },
    {
      "cell_type": "code",
      "metadata": {
        "id": "Fd1yXrdieW3v"
      },
      "source": [
        "def creator(link):\n",
        "   r = requests.get(link)   \n",
        "   soup = BeautifulSoup(r.content, 'html5lib')\n",
        "   date = soup.find(\"span\", attrs = {\"class\":\"detTarih\"})\n",
        "   title = soup.find(\"h1\").getText()\n",
        "   date = date.span.getText().split()\n",
        "   date = date[2] + date[3] + date[4]\n",
        "   content = soup.find(\"div\", attrs = {\"class\":\"editorPart\"}).getText()\n",
        "   category = soup.find(\"div\", attrs = {\"class\":\"cat-page-name\"}).span.getText()\n",
        "   content_array = content.split()\n",
        "   content_string = \"\"\n",
        "   for w in content_array:\n",
        "     content_string = content_string+\" \"+w\n",
        "   data=\"{};{};{};{};{}\".format(link,date,category,title,content_string)\n",
        "  #  print(data)\n",
        "   with open(\"trthaber_content.txt\", 'a') as file: \n",
        "       file.write(data+'\\n')"
      ],
      "execution_count": 58,
      "outputs": []
    },
    {
      "cell_type": "code",
      "metadata": {
        "id": "mzq8hIiYpzFb",
        "colab": {
          "base_uri": "https://localhost:8080/"
        },
        "outputId": "19a2efba-d9b9-430b-ebb9-2b8da002ec50"
      },
      "source": [
        "links = datecreator()\n",
        "t1=time.time()\n",
        "with concurrent.futures.ProcessPoolExecutor() as execut:\n",
        "  b_res=[execut.submit(get_link,i.strip()) for i in links]\n",
        "\n",
        "print(time.time()-t1)\n"
      ],
      "execution_count": 50,
      "outputs": [
        {
          "output_type": "stream",
          "text": [
            "12.272293329238892\n"
          ],
          "name": "stdout"
        }
      ]
    },
    {
      "cell_type": "code",
      "metadata": {
        "id": "p_LfJg_Vlw04"
      },
      "source": [
        "trthabertamamı=[]\n",
        "with open(\"trt_tamamı_links.txt\",'r',newline='') as f:\n",
        "  for i in f.readlines():    \n",
        "  # reader=csv.reader(f)\n",
        "    trthabertamamı.append(i)"
      ],
      "execution_count": 53,
      "outputs": []
    },
    {
      "cell_type": "code",
      "metadata": {
        "id": "Nh1eEOIClw3L",
        "colab": {
          "base_uri": "https://localhost:8080/"
        },
        "outputId": "fba4f4a1-56d3-4b74-bfec-819f73afaf4f"
      },
      "source": [
        "t1=time.time()\n",
        "with concurrent.futures.ProcessPoolExecutor() as execut:\n",
        "  b_res=[execut.submit(creator,i.strip()) for i in trthabertamamı]\n",
        "\n",
        "print(time.time()-t1)"
      ],
      "execution_count": 59,
      "outputs": [
        {
          "output_type": "stream",
          "text": [
            "432.1514277458191\n"
          ],
          "name": "stdout"
        }
      ]
    }
  ]
}