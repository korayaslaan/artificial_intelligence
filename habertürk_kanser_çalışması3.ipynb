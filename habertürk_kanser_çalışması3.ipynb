{
  "nbformat": 4,
  "nbformat_minor": 5,
  "metadata": {
    "kernelspec": {
      "display_name": "Python 3",
      "language": "python",
      "name": "python3"
    },
    "language_info": {
      "codemirror_mode": {
        "name": "ipython",
        "version": 3
      },
      "file_extension": ".py",
      "mimetype": "text/x-python",
      "name": "python",
      "nbconvert_exporter": "python",
      "pygments_lexer": "ipython3",
      "version": "3.8.8"
    },
    "colab": {
      "name": "habertürk_kanser_çalışması3.ipynb ",
      "provenance": [],
      "collapsed_sections": [],
      "include_colab_link": true
    }
  },
  "cells": [
    {
      "cell_type": "markdown",
      "metadata": {
        "id": "view-in-github",
        "colab_type": "text"
      },
      "source": [
        "<a href=\"https://colab.research.google.com/github/korayaslaan/artificial_intelligence/blob/main/habert%C3%BCrk_kanser_%C3%A7al%C4%B1%C5%9Fmas%C4%B13.ipynb\" target=\"_parent\"><img src=\"https://colab.research.google.com/assets/colab-badge.svg\" alt=\"Open In Colab\"/></a>"
      ]
    },
    {
      "cell_type": "code",
      "metadata": {
        "id": "30WTA-lu9nA7",
        "colab": {
          "base_uri": "https://localhost:8080/"
        },
        "outputId": "ca2e68cb-c92c-4d30-d6df-7b63d9dc95cb"
      },
      "source": [
        "!pip install selenium "
      ],
      "id": "30WTA-lu9nA7",
      "execution_count": 1,
      "outputs": [
        {
          "output_type": "stream",
          "text": [
            "Collecting selenium\n",
            "  Downloading selenium-3.141.0-py2.py3-none-any.whl (904 kB)\n",
            "\u001b[K     |████████████████████████████████| 904 kB 2.1 MB/s \n",
            "\u001b[?25hRequirement already satisfied: urllib3 in /usr/local/lib/python3.7/dist-packages (from selenium) (1.24.3)\n",
            "Installing collected packages: selenium\n",
            "Successfully installed selenium-3.141.0\n"
          ],
          "name": "stdout"
        }
      ]
    },
    {
      "cell_type": "code",
      "metadata": {
        "id": "6de85e54"
      },
      "source": [
        "from bs4 import BeautifulSoup\n",
        "import requests\n",
        "from selenium import webdriver\n",
        "from selenium.webdriver.common.keys import Keys\n",
        "import time\n",
        "import csv\n",
        "import pandas as pd\n",
        "import datetime\n",
        "from datetime import datetime, timedelta\n",
        "import numpy as np"
      ],
      "id": "6de85e54",
      "execution_count": 2,
      "outputs": []
    },
    {
      "cell_type": "code",
      "metadata": {
        "id": "tqLcUJBzINNz",
        "colab": {
          "base_uri": "https://localhost:8080/"
        },
        "outputId": "2ccf1192-6026-49a8-9623-d7ac9d666554"
      },
      "source": [
        "pip install kora -q"
      ],
      "id": "tqLcUJBzINNz",
      "execution_count": 3,
      "outputs": [
        {
          "output_type": "stream",
          "text": [
            "\u001b[?25l\r\u001b[K     |█████▊                          | 10 kB 19.5 MB/s eta 0:00:01\r\u001b[K     |███████████▍                    | 20 kB 8.2 MB/s eta 0:00:01\r\u001b[K     |█████████████████               | 30 kB 5.5 MB/s eta 0:00:01\r\u001b[K     |██████████████████████▊         | 40 kB 5.2 MB/s eta 0:00:01\r\u001b[K     |████████████████████████████▍   | 51 kB 2.2 MB/s eta 0:00:01\r\u001b[K     |████████████████████████████████| 57 kB 1.6 MB/s \n",
            "\u001b[?25h\u001b[?25l\r\u001b[K     |██████                          | 10 kB 29.6 MB/s eta 0:00:01\r\u001b[K     |████████████▏                   | 20 kB 20.3 MB/s eta 0:00:01\r\u001b[K     |██████████████████▎             | 30 kB 10.3 MB/s eta 0:00:01\r\u001b[K     |████████████████████████▍       | 40 kB 8.2 MB/s eta 0:00:01\r\u001b[K     |██████████████████████████████▌ | 51 kB 7.5 MB/s eta 0:00:01\r\u001b[K     |████████████████████████████████| 53 kB 1.9 MB/s \n",
            "\u001b[?25h"
          ],
          "name": "stdout"
        }
      ]
    },
    {
      "cell_type": "code",
      "metadata": {
        "id": "gCtSt4wNIRvh"
      },
      "source": [
        "from kora.selenium import wd\n",
        "# wd.get(uss)"
      ],
      "id": "gCtSt4wNIRvh",
      "execution_count": 4,
      "outputs": []
    },
    {
      "cell_type": "code",
      "metadata": {
        "id": "pgQrrwwyT0p5"
      },
      "source": [
        "def datecreator():\n",
        "  keys = [\"kanser\",\"prostat kanseri\",\"meme kanseri\"]\n",
        "  kanser_links = []\n",
        "  prostat_links = []\n",
        "  memekanseri_links=[]\n",
        "  kan_link =\"&key=kanser&where=/&how=Article,NewsPhotoGallery,Column&isDetail=false\" #1000 e kadar sayfa var kanser\n",
        "  pros_link = \"&key=prostat%20kanseri&where=/&how=Article,NewsPhotoGallery,Column&and=prostat%20kanseri&isDetail=false\" #75 e kadar sayfa var prostat kanseri\n",
        "  mem_link = \"&key=meme%20kanseri&where=/&how=Article,NewsPhotoGallery,Column&isDetail=false\" #266 ya kadar sayfa var meme kanseri\n",
        "\n",
        "  url=\"https://www.hurriyet.com.tr/arama#/?page=\" \n",
        "\n",
        "  for i in range(1,11,1):\n",
        "    kanser_links.append(\"{}{}{}\".format(url,i,kan_link))\n",
        "\n",
        "  for i in range(1,11,1):\n",
        "    prostat_links.append(\"{}{}{}\".format(url,i,pros_link))\n",
        "\n",
        "  for i in range(1,11,1):\n",
        "    memekanseri_links.append(\"{}{}{}\".format(url,i,mem_link))\n",
        "  return kanser_links,memekanseri_links,prostat_links"
      ],
      "id": "pgQrrwwyT0p5",
      "execution_count": 5,
      "outputs": []
    },
    {
      "cell_type": "code",
      "metadata": {
        "id": "tc3U5417Uz5M",
        "colab": {
          "base_uri": "https://localhost:8080/"
        },
        "outputId": "395b5a63-dfaf-4daf-acb4-2a3c1f06ed7c"
      },
      "source": [
        "page_kanser_links,page_memekanseri_links,page_prostat_links = datecreator()\n",
        "print(page_kanser_links)\n",
        "print(page_memekanseri_links)\n",
        "print(page_prostat_links)"
      ],
      "id": "tc3U5417Uz5M",
      "execution_count": 6,
      "outputs": [
        {
          "output_type": "stream",
          "text": [
            "['https://www.hurriyet.com.tr/arama#/?page=1&key=kanser&where=/&how=Article,NewsPhotoGallery,Column&isDetail=false', 'https://www.hurriyet.com.tr/arama#/?page=2&key=kanser&where=/&how=Article,NewsPhotoGallery,Column&isDetail=false', 'https://www.hurriyet.com.tr/arama#/?page=3&key=kanser&where=/&how=Article,NewsPhotoGallery,Column&isDetail=false', 'https://www.hurriyet.com.tr/arama#/?page=4&key=kanser&where=/&how=Article,NewsPhotoGallery,Column&isDetail=false', 'https://www.hurriyet.com.tr/arama#/?page=5&key=kanser&where=/&how=Article,NewsPhotoGallery,Column&isDetail=false', 'https://www.hurriyet.com.tr/arama#/?page=6&key=kanser&where=/&how=Article,NewsPhotoGallery,Column&isDetail=false', 'https://www.hurriyet.com.tr/arama#/?page=7&key=kanser&where=/&how=Article,NewsPhotoGallery,Column&isDetail=false', 'https://www.hurriyet.com.tr/arama#/?page=8&key=kanser&where=/&how=Article,NewsPhotoGallery,Column&isDetail=false', 'https://www.hurriyet.com.tr/arama#/?page=9&key=kanser&where=/&how=Article,NewsPhotoGallery,Column&isDetail=false', 'https://www.hurriyet.com.tr/arama#/?page=10&key=kanser&where=/&how=Article,NewsPhotoGallery,Column&isDetail=false']\n",
            "['https://www.hurriyet.com.tr/arama#/?page=1&key=meme%20kanseri&where=/&how=Article,NewsPhotoGallery,Column&isDetail=false', 'https://www.hurriyet.com.tr/arama#/?page=2&key=meme%20kanseri&where=/&how=Article,NewsPhotoGallery,Column&isDetail=false', 'https://www.hurriyet.com.tr/arama#/?page=3&key=meme%20kanseri&where=/&how=Article,NewsPhotoGallery,Column&isDetail=false', 'https://www.hurriyet.com.tr/arama#/?page=4&key=meme%20kanseri&where=/&how=Article,NewsPhotoGallery,Column&isDetail=false', 'https://www.hurriyet.com.tr/arama#/?page=5&key=meme%20kanseri&where=/&how=Article,NewsPhotoGallery,Column&isDetail=false', 'https://www.hurriyet.com.tr/arama#/?page=6&key=meme%20kanseri&where=/&how=Article,NewsPhotoGallery,Column&isDetail=false', 'https://www.hurriyet.com.tr/arama#/?page=7&key=meme%20kanseri&where=/&how=Article,NewsPhotoGallery,Column&isDetail=false', 'https://www.hurriyet.com.tr/arama#/?page=8&key=meme%20kanseri&where=/&how=Article,NewsPhotoGallery,Column&isDetail=false', 'https://www.hurriyet.com.tr/arama#/?page=9&key=meme%20kanseri&where=/&how=Article,NewsPhotoGallery,Column&isDetail=false', 'https://www.hurriyet.com.tr/arama#/?page=10&key=meme%20kanseri&where=/&how=Article,NewsPhotoGallery,Column&isDetail=false']\n",
            "['https://www.hurriyet.com.tr/arama#/?page=1&key=prostat%20kanseri&where=/&how=Article,NewsPhotoGallery,Column&and=prostat%20kanseri&isDetail=false', 'https://www.hurriyet.com.tr/arama#/?page=2&key=prostat%20kanseri&where=/&how=Article,NewsPhotoGallery,Column&and=prostat%20kanseri&isDetail=false', 'https://www.hurriyet.com.tr/arama#/?page=3&key=prostat%20kanseri&where=/&how=Article,NewsPhotoGallery,Column&and=prostat%20kanseri&isDetail=false', 'https://www.hurriyet.com.tr/arama#/?page=4&key=prostat%20kanseri&where=/&how=Article,NewsPhotoGallery,Column&and=prostat%20kanseri&isDetail=false', 'https://www.hurriyet.com.tr/arama#/?page=5&key=prostat%20kanseri&where=/&how=Article,NewsPhotoGallery,Column&and=prostat%20kanseri&isDetail=false', 'https://www.hurriyet.com.tr/arama#/?page=6&key=prostat%20kanseri&where=/&how=Article,NewsPhotoGallery,Column&and=prostat%20kanseri&isDetail=false', 'https://www.hurriyet.com.tr/arama#/?page=7&key=prostat%20kanseri&where=/&how=Article,NewsPhotoGallery,Column&and=prostat%20kanseri&isDetail=false', 'https://www.hurriyet.com.tr/arama#/?page=8&key=prostat%20kanseri&where=/&how=Article,NewsPhotoGallery,Column&and=prostat%20kanseri&isDetail=false', 'https://www.hurriyet.com.tr/arama#/?page=9&key=prostat%20kanseri&where=/&how=Article,NewsPhotoGallery,Column&and=prostat%20kanseri&isDetail=false', 'https://www.hurriyet.com.tr/arama#/?page=10&key=prostat%20kanseri&where=/&how=Article,NewsPhotoGallery,Column&and=prostat%20kanseri&isDetail=false']\n"
          ],
          "name": "stdout"
        }
      ]
    },
    {
      "cell_type": "code",
      "metadata": {
        "id": "d0988801"
      },
      "source": [
        "# def write_to_txt(data):\n",
        "#     with open(\"hürriyetcontent.txt\", 'a') as file: \n",
        "#         file.write(data+'\\n')\n",
        "#         file.truncate()"
      ],
      "id": "d0988801",
      "execution_count": null,
      "outputs": []
    },
    {
      "cell_type": "code",
      "metadata": {
        "id": "a7d68a23"
      },
      "source": [
        "def get_link_kanser(i):\n",
        "    \n",
        "    sayfa =i\n",
        "    browser = wd\n",
        "    # driver_path = \"C:/Users/koray/Desktop/chromedriver.exe\"\n",
        "    # browser = webdriver.Chrome(driver_path)\n",
        "    browser.get(sayfa)\n",
        "    test = []\n",
        "    dizi = []\n",
        "    sayfa_kaynağı = browser.page_source\n",
        "    soup = BeautifulSoup(sayfa_kaynağı, \"html.parser\")\n",
        "    for a in soup.find_all('a', href=True):\n",
        "        test.append(a['href'])\n",
        "\n",
        "    for i in test:\n",
        "        if not i in dizi:           #çekilen linklerde aynı olan verileri teke düşürüyor \n",
        "            result = i.startswith(('http://www.hurriyet.com.tr/egitim','http://www.hurriyet.com.tr/gundem','http://www.hurriyet.com.tr/yazarlar','http://www.hurriyet.com.tr/avrupa','http://www.hurriyet.com.tr/kelebek','http://www.hurriyet.com.tr/gundem','http://www.hurriyet.com.tr/yerel-haberler'), 0, 35) #standartlara uygun linkleri çekiyor \n",
        "            link = i\n",
        "            if result == True:\n",
        "                if len(link)>50:\n",
        "                    with open(\"hürriyet_link_kanser.txt\", 'a') as file: \n",
        "                        file.write(link+'\\n')\n",
        "                        dizi.append(link)\n",
        "               #print(\"**\")\n",
        "               #ilk sayfa 40 haber çekiyo\n",
        "    return dizi"
      ],
      "id": "a7d68a23",
      "execution_count": 7,
      "outputs": []
    },
    {
      "cell_type": "code",
      "metadata": {
        "id": "JAEpEBuBW9vg"
      },
      "source": [
        "def get_link_prostatkanseri(i):\n",
        "    sayfa =i\n",
        "    print(sayfa)\n",
        "    browser = wd\n",
        "    # driver_path = \"C:/Users/koray/Desktop/chromedriver.exe\"\n",
        "    # browser = webdriver.Chrome(driver_path)\n",
        "    browser.get(sayfa)\n",
        "    test = []\n",
        "    dizi = []\n",
        "    sayfa_kaynağı = browser.page_source\n",
        "    soup = BeautifulSoup(sayfa_kaynağı, \"html.parser\")\n",
        "    for a in soup.find_all('a', href=True):\n",
        "        test.append(a['href'])\n",
        "      \n",
        "    for i in test:\n",
        "        if not i in dizi:           #çekilen linklerde aynı olan verileri teke düşürüyor \n",
        "            result = i.startswith(('http://www.hurriyet.com.tr/egitim','http://www.hurriyet.com.tr/gundem','http://www.hurriyet.com.tr/yazarlar','http://www.hurriyet.com.tr/avrupa','http://www.hurriyet.com.tr/kelebek','http://www.hurriyet.com.tr/gundem','http://www.hurriyet.com.tr/yerel-haberler'), 0, 35) #standartlara uygun linkleri çekiyor \n",
        "            link = i\n",
        "            if result == True:\n",
        "                if len(link)>50:\n",
        "                    with open(\"hürriyet_link_prostat_kanser.txt\", 'a') as file: \n",
        "                        file.write(link+'\\n')\n",
        "                        dizi.append(link)\n",
        "               #print(\"**\")\n",
        "               #ilk sayfa 40 haber çekiyo\n",
        "    return dizi"
      ],
      "id": "JAEpEBuBW9vg",
      "execution_count": 8,
      "outputs": []
    },
    {
      "cell_type": "code",
      "metadata": {
        "id": "eGIfuhAuW9tQ"
      },
      "source": [
        "def get_link_memekanseri(i):\n",
        "    sayfa =i\n",
        "    print(sayfa)\n",
        "    browser = wd\n",
        "    # driver_path = \"C:/Users/koray/Desktop/chromedriver.exe\"\n",
        "    # browser = webdriver.Chrome(driver_path)\n",
        "    browser.get(sayfa)\n",
        "    print(sayfa)\n",
        "    test = []\n",
        "    dizi = []\n",
        "    sayfa_kaynağı = browser.page_source\n",
        "    soup = BeautifulSoup(sayfa_kaynağı, \"html.parser\")\n",
        "    for a in soup.find_all('a', href=True):\n",
        "        test.append(a['href'])\n",
        "    for i in test:\n",
        "        if not i in dizi:           #çekilen linklerde aynı olan verileri teke düşürüyor \n",
        "            result = i.startswith(('http://www.hurriyet.com.tr/egitim','http://www.hurriyet.com.tr/gundem','http://www.hurriyet.com.tr/yazarlar','http://www.hurriyet.com.tr/avrupa','http://www.hurriyet.com.tr/kelebek','http://www.hurriyet.com.tr/gundem','http://www.hurriyet.com.tr/yerel-haberler'), 0, 35) #standartlara uygun linkleri çekiyor \n",
        "            link = i\n",
        "            if result == True:\n",
        "                if len(link)>50:\n",
        "                    with open(\"hürriyet_link_meme_kanser.txt\", 'a') as file: \n",
        "                        file.write(link+'\\n')\n",
        "                        dizi.append(link)\n",
        "               #print(\"**\")\n",
        "               #ilk sayfa 40 haber çekiyo\n",
        "    return dizi"
      ],
      "id": "eGIfuhAuW9tQ",
      "execution_count": 9,
      "outputs": []
    },
    {
      "cell_type": "code",
      "metadata": {
        "id": "cfc45150"
      },
      "source": [
        "def creator1(url):\n",
        "    r = requests.get(url)   \n",
        "    soup = BeautifulSoup(r.content, 'html5lib')\n",
        "    title = soup.find(\"h1\", attrs = {\"class\":\"title-news-detail\"}).getText()\n",
        "    content_array = soup.find(\"div\", attrs = {\"class\":\"rhd-all-article-detail\"}).getText()\n",
        "    date = soup.find(\"span\", attrs = {\"class\":\"rhd-time-box-text\"}).getText()\n",
        "    date = date.split()\n",
        "    date = date[2]\n",
        "    content_array = content_array.split()\n",
        "    content_string = \"\"\n",
        "    for w in content_array:\n",
        "        content_string = content_string+\" \"+w\n",
        "        #w_data = url+\";\"+date+\";\"+title+\";\"+content_string\n",
        "    w_data=\"{};{};{};{}\".format(url,date,title,content_string)\n",
        "    #print(w_data)\n",
        "    # write_to_txt(w_data)\n",
        "    with open(\"hürriyet_content_kanser.txt\", 'a') as file: \n",
        "        file.write(w_data+'\\n')"
      ],
      "id": "cfc45150",
      "execution_count": 10,
      "outputs": []
    },
    {
      "cell_type": "code",
      "metadata": {
        "id": "0hYteOgReQl-"
      },
      "source": [
        "def creator2(url):\n",
        "    r = requests.get(url)   \n",
        "    soup = BeautifulSoup(r.content, 'html5lib')\n",
        "    title = soup.find(\"h1\", attrs = {\"class\":\"title-news-detail\"}).getText()\n",
        "    content_array = soup.find(\"div\", attrs = {\"class\":\"rhd-all-article-detail\"}).getText()\n",
        "    date = soup.find(\"span\", attrs = {\"class\":\"rhd-time-box-text\"}).getText()\n",
        "    date = date.split()\n",
        "    date = date[2]\n",
        "    content_array = content_array.split()\n",
        "    content_string = \"\"\n",
        "    for w in content_array:\n",
        "        content_string = content_string+\" \"+w\n",
        "        #w_data = url+\";\"+date+\";\"+title+\";\"+content_string\n",
        "    w_data=\"{};{};{};{}\".format(url,date,title,content_string)\n",
        "    #print(w_data)\n",
        "    # write_to_txt(w_data)\n",
        "    with open(\"hürriyet_content_prostat_kanser.txt\", 'a') as file: \n",
        "        file.write(w_data+'\\n')"
      ],
      "id": "0hYteOgReQl-",
      "execution_count": 11,
      "outputs": []
    },
    {
      "cell_type": "code",
      "metadata": {
        "id": "5PGpSRFoeQjt"
      },
      "source": [
        "def creator3(url):\n",
        "    r = requests.get(url)   \n",
        "    soup = BeautifulSoup(r.content, 'html5lib')\n",
        "    title = soup.find(\"h1\", attrs = {\"class\":\"title-news-detail\"}).getText()\n",
        "    content_array = soup.find(\"div\", attrs = {\"class\":\"rhd-all-article-detail\"}).getText()\n",
        "    date = soup.find(\"span\", attrs = {\"class\":\"rhd-time-box-text\"}).getText()\n",
        "    date = date.split()\n",
        "    date = date[2]\n",
        "    content_array = content_array.split()\n",
        "    content_string = \"\"\n",
        "    for w in content_array:\n",
        "        content_string = content_string+\" \"+w\n",
        "        #w_data = url+\";\"+date+\";\"+title+\";\"+content_string\n",
        "    w_data=\"{};{};{};{}\".format(url,date,title,content_string)\n",
        "    #print(w_data)\n",
        "    # write_to_txt(w_data)\n",
        "    with open(\"hürriyet_content_meme_kanser.txt\", 'a') as file: \n",
        "        file.write(w_data+'\\n')"
      ],
      "id": "5PGpSRFoeQjt",
      "execution_count": 12,
      "outputs": []
    },
    {
      "cell_type": "code",
      "metadata": {
        "id": "26da4348",
        "colab": {
          "base_uri": "https://localhost:8080/"
        },
        "outputId": "add0e214-012c-4f08-b4db-2fe1e7334ba3"
      },
      "source": [
        "page_kanser_links,page_memekanseri_links,page_prostat_links = datecreator()\n",
        "\n",
        "dizi = []\n",
        "count= 0 \n",
        "for i in page_kanser_links:\n",
        "    try:\n",
        "       get_link_kanser(i)\n",
        "    except:\n",
        "        print('Format Dışı Link')\n",
        "\n",
        "\n",
        "for i in page_prostat_links:\n",
        "    try:\n",
        "       get_link_prostatkanseri(i)\n",
        "       \n",
        "    except:\n",
        "        print('Format Dışı Link')\n",
        "\n",
        "\n",
        "for i in page_memekanseri_links:\n",
        "    try:\n",
        "      get_link_memekanseri(i)\n",
        "       \n",
        "    except:\n",
        "        print('Format Dışı Link')\n",
        "\n"
      ],
      "id": "26da4348",
      "execution_count": 13,
      "outputs": [
        {
          "output_type": "stream",
          "text": [
            "https://www.hurriyet.com.tr/arama#/?page=1&key=prostat%20kanseri&where=/&how=Article,NewsPhotoGallery,Column&and=prostat%20kanseri&isDetail=false\n",
            "https://www.hurriyet.com.tr/arama#/?page=2&key=prostat%20kanseri&where=/&how=Article,NewsPhotoGallery,Column&and=prostat%20kanseri&isDetail=false\n",
            "https://www.hurriyet.com.tr/arama#/?page=3&key=prostat%20kanseri&where=/&how=Article,NewsPhotoGallery,Column&and=prostat%20kanseri&isDetail=false\n",
            "https://www.hurriyet.com.tr/arama#/?page=4&key=prostat%20kanseri&where=/&how=Article,NewsPhotoGallery,Column&and=prostat%20kanseri&isDetail=false\n",
            "https://www.hurriyet.com.tr/arama#/?page=5&key=prostat%20kanseri&where=/&how=Article,NewsPhotoGallery,Column&and=prostat%20kanseri&isDetail=false\n",
            "https://www.hurriyet.com.tr/arama#/?page=6&key=prostat%20kanseri&where=/&how=Article,NewsPhotoGallery,Column&and=prostat%20kanseri&isDetail=false\n",
            "https://www.hurriyet.com.tr/arama#/?page=7&key=prostat%20kanseri&where=/&how=Article,NewsPhotoGallery,Column&and=prostat%20kanseri&isDetail=false\n",
            "https://www.hurriyet.com.tr/arama#/?page=8&key=prostat%20kanseri&where=/&how=Article,NewsPhotoGallery,Column&and=prostat%20kanseri&isDetail=false\n",
            "https://www.hurriyet.com.tr/arama#/?page=9&key=prostat%20kanseri&where=/&how=Article,NewsPhotoGallery,Column&and=prostat%20kanseri&isDetail=false\n",
            "https://www.hurriyet.com.tr/arama#/?page=10&key=prostat%20kanseri&where=/&how=Article,NewsPhotoGallery,Column&and=prostat%20kanseri&isDetail=false\n",
            "https://www.hurriyet.com.tr/arama#/?page=1&key=meme%20kanseri&where=/&how=Article,NewsPhotoGallery,Column&isDetail=false\n",
            "https://www.hurriyet.com.tr/arama#/?page=1&key=meme%20kanseri&where=/&how=Article,NewsPhotoGallery,Column&isDetail=false\n",
            "https://www.hurriyet.com.tr/arama#/?page=2&key=meme%20kanseri&where=/&how=Article,NewsPhotoGallery,Column&isDetail=false\n",
            "https://www.hurriyet.com.tr/arama#/?page=2&key=meme%20kanseri&where=/&how=Article,NewsPhotoGallery,Column&isDetail=false\n",
            "https://www.hurriyet.com.tr/arama#/?page=3&key=meme%20kanseri&where=/&how=Article,NewsPhotoGallery,Column&isDetail=false\n",
            "https://www.hurriyet.com.tr/arama#/?page=3&key=meme%20kanseri&where=/&how=Article,NewsPhotoGallery,Column&isDetail=false\n",
            "https://www.hurriyet.com.tr/arama#/?page=4&key=meme%20kanseri&where=/&how=Article,NewsPhotoGallery,Column&isDetail=false\n",
            "https://www.hurriyet.com.tr/arama#/?page=4&key=meme%20kanseri&where=/&how=Article,NewsPhotoGallery,Column&isDetail=false\n",
            "https://www.hurriyet.com.tr/arama#/?page=5&key=meme%20kanseri&where=/&how=Article,NewsPhotoGallery,Column&isDetail=false\n",
            "https://www.hurriyet.com.tr/arama#/?page=5&key=meme%20kanseri&where=/&how=Article,NewsPhotoGallery,Column&isDetail=false\n",
            "https://www.hurriyet.com.tr/arama#/?page=6&key=meme%20kanseri&where=/&how=Article,NewsPhotoGallery,Column&isDetail=false\n",
            "https://www.hurriyet.com.tr/arama#/?page=6&key=meme%20kanseri&where=/&how=Article,NewsPhotoGallery,Column&isDetail=false\n",
            "https://www.hurriyet.com.tr/arama#/?page=7&key=meme%20kanseri&where=/&how=Article,NewsPhotoGallery,Column&isDetail=false\n",
            "https://www.hurriyet.com.tr/arama#/?page=7&key=meme%20kanseri&where=/&how=Article,NewsPhotoGallery,Column&isDetail=false\n",
            "https://www.hurriyet.com.tr/arama#/?page=8&key=meme%20kanseri&where=/&how=Article,NewsPhotoGallery,Column&isDetail=false\n",
            "https://www.hurriyet.com.tr/arama#/?page=8&key=meme%20kanseri&where=/&how=Article,NewsPhotoGallery,Column&isDetail=false\n",
            "https://www.hurriyet.com.tr/arama#/?page=9&key=meme%20kanseri&where=/&how=Article,NewsPhotoGallery,Column&isDetail=false\n",
            "https://www.hurriyet.com.tr/arama#/?page=9&key=meme%20kanseri&where=/&how=Article,NewsPhotoGallery,Column&isDetail=false\n",
            "https://www.hurriyet.com.tr/arama#/?page=10&key=meme%20kanseri&where=/&how=Article,NewsPhotoGallery,Column&isDetail=false\n",
            "https://www.hurriyet.com.tr/arama#/?page=10&key=meme%20kanseri&where=/&how=Article,NewsPhotoGallery,Column&isDetail=false\n"
          ],
          "name": "stdout"
        }
      ]
    },
    {
      "cell_type": "code",
      "metadata": {
        "id": "A0ZDh4vmcDhl"
      },
      "source": [
        "import os\n",
        "import csv\n",
        "import concurrent\n",
        "import multiprocessing\n",
        "from multiprocessing import pool\n",
        "import io\n",
        "from pprint import pprint\n",
        "hurriyet_kanser_links=[]\n",
        "with open(\"hürriyet_link_kanser.txt\",'r',newline='') as f:\n",
        "  for i in f.readlines():    \n",
        "  # reader=csv.reader(f)\n",
        "    hurriyet_kanser_links.append(i)"
      ],
      "id": "A0ZDh4vmcDhl",
      "execution_count": 14,
      "outputs": []
    },
    {
      "cell_type": "code",
      "metadata": {
        "id": "PaxC1rcqcDjr",
        "colab": {
          "base_uri": "https://localhost:8080/"
        },
        "outputId": "eab0c838-746d-40b7-d5b2-080221dd3896"
      },
      "source": [
        "t1=time.time()\n",
        "with concurrent.futures.ProcessPoolExecutor() as execut:\n",
        "  b_res=[execut.submit(creator1,i.strip()) for i in hurriyet_kanser_links]\n",
        "\n",
        "print(time.time()-t1)"
      ],
      "id": "PaxC1rcqcDjr",
      "execution_count": 15,
      "outputs": [
        {
          "output_type": "stream",
          "text": [
            "34.004765033721924\n"
          ],
          "name": "stdout"
        }
      ]
    },
    {
      "cell_type": "code",
      "metadata": {
        "id": "CMnjLVkPecUM"
      },
      "source": [
        "hurriyet_prostat_kanser_links=[]\n",
        "with open(\"hürriyet_link_prostat_kanser.txt\",'r',newline='') as f:\n",
        "  for i in f.readlines():    \n",
        "  # reader=csv.reader(f)\n",
        "    hurriyet_prostat_kanser_links.append(i)"
      ],
      "id": "CMnjLVkPecUM",
      "execution_count": 16,
      "outputs": []
    },
    {
      "cell_type": "code",
      "metadata": {
        "id": "NUKzZEtfecWV",
        "colab": {
          "base_uri": "https://localhost:8080/"
        },
        "outputId": "ece09429-764c-4e5f-fe92-e1556714c624"
      },
      "source": [
        "t1=time.time()\n",
        "with concurrent.futures.ProcessPoolExecutor() as execut:\n",
        "  b_res=[execut.submit(creator2,i.strip()) for i in hurriyet_prostat_kanser_links]\n",
        "\n",
        "print(time.time()-t1)"
      ],
      "id": "NUKzZEtfecWV",
      "execution_count": 17,
      "outputs": [
        {
          "output_type": "stream",
          "text": [
            "44.750099182128906\n"
          ],
          "name": "stdout"
        }
      ]
    },
    {
      "cell_type": "code",
      "metadata": {
        "id": "SXxKsRKyecYl"
      },
      "source": [
        "hurriyet_meme_kanser_links=[]\n",
        "with open(\"hürriyet_link_meme_kanser.txt\",'r',newline='') as f:\n",
        "  for i in f.readlines():    \n",
        "  # reader=csv.reader(f)\n",
        "    hurriyet_meme_kanser_links.append(i)"
      ],
      "id": "SXxKsRKyecYl",
      "execution_count": 18,
      "outputs": []
    },
    {
      "cell_type": "code",
      "metadata": {
        "id": "TJNcOz9wecae",
        "colab": {
          "base_uri": "https://localhost:8080/"
        },
        "outputId": "08c4e1fe-0743-46f8-ed60-309f93a78e25"
      },
      "source": [
        "t1=time.time()\n",
        "with concurrent.futures.ProcessPoolExecutor() as execut:\n",
        "  b_res=[execut.submit(creator3,i.strip()) for i in hurriyet_meme_kanser_links]\n",
        "\n",
        "print(time.time()-t1)"
      ],
      "id": "TJNcOz9wecae",
      "execution_count": 19,
      "outputs": [
        {
          "output_type": "stream",
          "text": [
            "39.816704511642456\n"
          ],
          "name": "stdout"
        }
      ]
    },
    {
      "cell_type": "code",
      "metadata": {
        "id": "MgEfdVGNKyNe"
      },
      "source": [
        ""
      ],
      "id": "MgEfdVGNKyNe",
      "execution_count": null,
      "outputs": []
    },
    {
      "cell_type": "code",
      "metadata": {
        "id": "fM9q5f1KMWWk"
      },
      "source": [
        ""
      ],
      "id": "fM9q5f1KMWWk",
      "execution_count": null,
      "outputs": []
    },
    {
      "cell_type": "code",
      "metadata": {
        "id": "2MNDT8iaKe6y"
      },
      "source": [
        ""
      ],
      "id": "2MNDT8iaKe6y",
      "execution_count": null,
      "outputs": []
    }
  ]
}