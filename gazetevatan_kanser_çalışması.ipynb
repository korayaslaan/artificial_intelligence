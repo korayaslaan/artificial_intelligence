{
  "nbformat": 4,
  "nbformat_minor": 0,
  "metadata": {
    "colab": {
      "name": "gazetevatan_kanser_çalışması.ipynb",
      "provenance": [],
      "collapsed_sections": [],
      "include_colab_link": true
    },
    "kernelspec": {
      "display_name": "Python 3",
      "name": "python3"
    },
    "language_info": {
      "name": "python"
    }
  },
  "cells": [
    {
      "cell_type": "markdown",
      "metadata": {
        "id": "view-in-github",
        "colab_type": "text"
      },
      "source": [
        "<a href=\"https://colab.research.google.com/github/korayaslaan/artificial_intelligence/blob/main/gazetevatan_kanser_%C3%A7al%C4%B1%C5%9Fmas%C4%B1.ipynb\" target=\"_parent\"><img src=\"https://colab.research.google.com/assets/colab-badge.svg\" alt=\"Open In Colab\"/></a>"
      ]
    },
    {
      "cell_type": "code",
      "metadata": {
        "id": "Zgsxn5pp89Pa"
      },
      "source": [
        "import os\n",
        "import bs4\n",
        "import requests\n",
        "from bs4 import BeautifulSoup\n",
        "import pandas as pd\n",
        "import numpy as np\n",
        "import os\n",
        "import time\n",
        "import urllib.request\n",
        "import re\n",
        "import urllib3\n",
        "from pandas import DataFrame\n",
        "import csv\n",
        "import datetime\n",
        "from datetime import datetime, timedelta"
      ],
      "execution_count": 90,
      "outputs": []
    },
    {
      "cell_type": "code",
      "metadata": {
        "id": "WlV81oLM-KPq"
      },
      "source": [
        "def datecreator():\n",
        "  kanser_links = []\n",
        "  prostat_links = []\n",
        "  memekanseri_links=[]\n",
        "  kan_link =\"https://www.gazetevatan.com/arama/?Keyword=kanser&Sayfa=\" #457 e kadar sayfa var kanser\n",
        "  pros_link = \"https://www.gazetevatan.com/arama/?Keyword=prostat%20kanseri&Sayfa=\" #42 e kadar sayfa var prostat kanseri\n",
        "  mem_link = \"https://www.gazetevatan.com/arama/?Keyword=meme%20kanseri&Sayfa=\" #76 ya kadar sayfa var meme kanseri\n",
        "\n",
        "  for i in range(1,4,1):\n",
        "    kanser_links.append(\"{}{}\".format(kan_link,i))\n",
        "\n",
        "  for i in range(1,4,1):\n",
        "    prostat_links.append(\"{}{}\".format(pros_link,i))\n",
        "\n",
        "  for i in range(1,4,1):\n",
        "    memekanseri_links.append(\"{}{}\".format(mem_link,i))\n",
        "  return kanser_links,memekanseri_links,prostat_links"
      ],
      "execution_count": 91,
      "outputs": []
    },
    {
      "cell_type": "code",
      "metadata": {
        "id": "LKT1rKCP5g8x",
        "colab": {
          "base_uri": "https://localhost:8080/"
        },
        "outputId": "d75373ae-22e8-4ba2-ec22-6e957408cc7d"
      },
      "source": [
        "page_kanser_links,page_memekanseri_links,page_prostat_links = datecreator()\n",
        "print(page_kanser_links)\n",
        "print(page_memekanseri_links)\n",
        "print(page_prostat_links)"
      ],
      "execution_count": 92,
      "outputs": [
        {
          "output_type": "stream",
          "text": [
            "['https://www.gazetevatan.com/arama/?Keyword=kanser&Sayfa=1', 'https://www.gazetevatan.com/arama/?Keyword=kanser&Sayfa=2', 'https://www.gazetevatan.com/arama/?Keyword=kanser&Sayfa=3']\n",
            "['https://www.gazetevatan.com/arama/?Keyword=meme%20kanseri&Sayfa=1', 'https://www.gazetevatan.com/arama/?Keyword=meme%20kanseri&Sayfa=2', 'https://www.gazetevatan.com/arama/?Keyword=meme%20kanseri&Sayfa=3']\n",
            "['https://www.gazetevatan.com/arama/?Keyword=prostat%20kanseri&Sayfa=1', 'https://www.gazetevatan.com/arama/?Keyword=prostat%20kanseri&Sayfa=2', 'https://www.gazetevatan.com/arama/?Keyword=prostat%20kanseri&Sayfa=3']\n"
          ],
          "name": "stdout"
        }
      ]
    },
    {
      "cell_type": "code",
      "metadata": {
        "id": "VfQNIUPW5IQ1"
      },
      "source": [
        "def get_link_kanser(i):\n",
        "    r = requests.get(i)   \n",
        "    soup = BeautifulSoup(r.content, 'html5lib')\n",
        "    dizi = []\n",
        "    count = 0\n",
        "    for a in soup.find_all('a', href=True):\n",
        "        link = a['href']\n",
        "        result = link.startswith(\"http://www.gazetevatan.com/\")\n",
        "        if result == True:\n",
        "           if len(link)>57:\n",
        "             count+=1\n",
        "             if count % 4 == 1:\n",
        "                with open(\"gazetevatan_link_kanser.txt\", 'a') as file: \n",
        "                   file.write(link+'\\n')\n",
        "                   dizi.append(link)\n",
        "    return dizi"
      ],
      "execution_count": 93,
      "outputs": []
    },
    {
      "cell_type": "code",
      "metadata": {
        "id": "ALkLbRig-2zh"
      },
      "source": [
        "def get_link_prostatkanseri(i):\n",
        "    r = requests.get(i)   \n",
        "    soup = BeautifulSoup(r.content, 'html5lib')\n",
        "    dizi = []\n",
        "    count = 0\n",
        "    for a in soup.find_all('a', href=True):\n",
        "        link = a['href']\n",
        "        result = link.startswith(\"http://www.gazetevatan.com/\")\n",
        "        if result == True:\n",
        "           if len(link)>57:\n",
        "             count+=1\n",
        "             if count % 4 == 1:\n",
        "                with open(\"gazetevatan_link_prostat_kanser.txt\", 'a') as file: \n",
        "                   file.write(link+'\\n')\n",
        "                   dizi.append(link)\n",
        "    return dizi"
      ],
      "execution_count": 94,
      "outputs": []
    },
    {
      "cell_type": "code",
      "metadata": {
        "id": "TEVoooCK-21o"
      },
      "source": [
        "def get_link_memekanseri(i):\n",
        "    r = requests.get(i)   \n",
        "    soup = BeautifulSoup(r.content, 'html5lib')\n",
        "    dizi = []\n",
        "    count = 0\n",
        "    for a in soup.find_all('a', href=True):\n",
        "        link = a['href']\n",
        "        result = link.startswith(\"http://www.gazetevatan.com/\")\n",
        "        if result == True:\n",
        "           if len(link)>57:\n",
        "             count+=1\n",
        "             if count % 4 == 1:\n",
        "                with open(\"gazetevatan_link_meme_kanser.txt\", 'a') as file: \n",
        "                   file.write(link+'\\n')\n",
        "                   dizi.append(link)\n",
        "    return dizi"
      ],
      "execution_count": 95,
      "outputs": []
    },
    {
      "cell_type": "code",
      "metadata": {
        "id": "QMJarZTg_Ubg"
      },
      "source": [
        "def creator1(url):\n",
        "    r = requests.get(url)   \n",
        "    soup = BeautifulSoup(r.content, 'html5lib')\n",
        "    title = soup.find(\"h1\").getText()\n",
        "    content_array = soup.find(\"div\", attrs = {\"id\":\"divAdnetKeyword\"}).getText()\n",
        "    date = soup.find(\"div\", attrs = {\"class\":\"datesrc\"}).getText()\n",
        "    date = date.split()\n",
        "    date = date[2] + date[3] + date[4] \n",
        "    content_array = content_array.split()\n",
        "    content_string = \"\"\n",
        "    stop = '$(function(){'\n",
        "    for w in content_array:\n",
        "      if w == stop:\n",
        "        break\n",
        "      else:\n",
        "        content_string = content_string+\" \"+w\n",
        "        #w_data = url+\";\"+date+\";\"+title+\";\"+content_string\n",
        "    w_data=\"{};{};{};{}\".format(url,date,title,content_string)\n",
        "    # write_to_txt(w_data)\n",
        "    with open(\"gazetevatan_content_kanser.txt\", 'a') as file: \n",
        "        file.write(w_data+'\\n')"
      ],
      "execution_count": 96,
      "outputs": []
    },
    {
      "cell_type": "code",
      "metadata": {
        "id": "1XAaOO-dNfaa"
      },
      "source": [
        "creator1('http://www.gazetevatan.com/uykusuzluk-bagirsak-ve-mideyi-bozabilir-1399381-saglik/')"
      ],
      "execution_count": 97,
      "outputs": []
    },
    {
      "cell_type": "code",
      "metadata": {
        "id": "XvPJVXSm_Ud_"
      },
      "source": [
        "def creator2(url):\n",
        "    r = requests.get(url)   \n",
        "    soup = BeautifulSoup(r.content, 'html5lib')\n",
        "    title = soup.find(\"h1\").getText()\n",
        "    content_array = soup.find(\"div\", attrs = {\"id\":\"divAdnetKeyword\"}).getText()\n",
        "    date = soup.find(\"div\", attrs = {\"class\":\"datesrc\"}).getText()\n",
        "    date = date.split()\n",
        "    date = date[2] + date[3] + date[4] \n",
        "    content_array = content_array.split()\n",
        "    content_string = \"\"\n",
        "    stop = '$(function(){'\n",
        "    for w in content_array:\n",
        "      if w == stop:\n",
        "        break\n",
        "      else:\n",
        "        content_string = content_string+\" \"+w\n",
        "        #w_data = url+\";\"+date+\";\"+title+\";\"+content_string\n",
        "    w_data=\"{};{};{};{}\".format(url,date,title,content_string)\n",
        "    # write_to_txt(w_data)\n",
        "    with open(\"gazetevatan_content_prostat_kanser.txt\", 'a') as file: \n",
        "        file.write(w_data+'\\n')"
      ],
      "execution_count": 98,
      "outputs": []
    },
    {
      "cell_type": "code",
      "metadata": {
        "id": "eb_5UJ9L_UiG"
      },
      "source": [
        "def creator3(url):\n",
        "    r = requests.get(url)   \n",
        "    soup = BeautifulSoup(r.content, 'html5lib')\n",
        "    title = soup.find(\"h1\").getText()\n",
        "    content_array = soup.find(\"div\", attrs = {\"id\":\"divAdnetKeyword\"}).getText()\n",
        "    date = soup.find(\"div\", attrs = {\"class\":\"datesrc\"}).getText()\n",
        "    date = date.split()\n",
        "    date = date[2] + date[3] + date[4] \n",
        "    content_array = content_array.split()\n",
        "    content_string = \"\"\n",
        "    stop = '$(function(){'\n",
        "    for w in content_array:\n",
        "      if w == stop:\n",
        "        break\n",
        "      else:\n",
        "        content_string = content_string+\" \"+w\n",
        "        #w_data = url+\";\"+date+\";\"+title+\";\"+content_string\n",
        "    w_data=\"{};{};{};{}\".format(url,date,title,content_string)\n",
        "    # write_to_txt(w_data)\n",
        "    with open(\"gazetevatan_content_meme_kanser.txt\", 'a') as file: \n",
        "        file.write(w_data+'\\n')"
      ],
      "execution_count": 99,
      "outputs": []
    },
    {
      "cell_type": "code",
      "metadata": {
        "id": "bOosRmRQ5-c1"
      },
      "source": [
        "page_kanser_links,page_memekanseri_links,page_prostat_links = datecreator()\n",
        "\n",
        "\n",
        "with concurrent.futures.ProcessPoolExecutor() as execut:\n",
        "  b_res=[execut.submit(get_link_kanser,i.strip()) for i in page_kanser_links]\n",
        "\n",
        "with concurrent.futures.ProcessPoolExecutor() as execut:\n",
        "  b_res=[execut.submit(get_link_prostatkanseri,i.strip()) for i in page_prostat_links]\n",
        "  \n",
        "with concurrent.futures.ProcessPoolExecutor() as execut:\n",
        "  b_res=[execut.submit(get_link_memekanseri,i.strip()) for i in page_memekanseri_links]\n",
        "\n",
        "\n"
      ],
      "execution_count": 100,
      "outputs": []
    },
    {
      "cell_type": "code",
      "metadata": {
        "id": "0HQ1CzLl_8QA"
      },
      "source": [
        "import os\n",
        "import csv\n",
        "import concurrent\n",
        "import multiprocessing\n",
        "from multiprocessing import pool\n",
        "import io\n",
        "from pprint import pprint\n",
        "hurriyet_kanser_links=[]\n",
        "with open(\"gazetevatan_link_kanser.txt\",'r',newline='') as f:\n",
        "  for i in f.readlines():    \n",
        "  # reader=csv.reader(f)\n",
        "    hurriyet_kanser_links.append(i)"
      ],
      "execution_count": 101,
      "outputs": []
    },
    {
      "cell_type": "code",
      "metadata": {
        "id": "lYXuFbqm_8ST",
        "colab": {
          "base_uri": "https://localhost:8080/"
        },
        "outputId": "c4a91e8a-211c-40d9-9046-db8adaf1021e"
      },
      "source": [
        "t1=time.time()\n",
        "with concurrent.futures.ProcessPoolExecutor() as execut:\n",
        "  b_res=[execut.submit(creator1,i.strip()) for i in hurriyet_kanser_links]\n",
        "\n",
        "print(time.time()-t1)"
      ],
      "execution_count": 102,
      "outputs": [
        {
          "output_type": "stream",
          "text": [
            "32.00350618362427\n"
          ],
          "name": "stdout"
        }
      ]
    },
    {
      "cell_type": "code",
      "metadata": {
        "id": "DEm_P3SDCM8X"
      },
      "source": [
        "gazeteduvar_prostat_kanser_links=[]\n",
        "with open(\"gazetevatan_link_prostat_kanser.txt\",'r',newline='') as f:\n",
        "  for i in f.readlines():    \n",
        "  # reader=csv.reader(f)\n",
        "    gazeteduvar_prostat_kanser_links.append(i)"
      ],
      "execution_count": 103,
      "outputs": []
    },
    {
      "cell_type": "code",
      "metadata": {
        "id": "7G1GPxaBCM_6",
        "colab": {
          "base_uri": "https://localhost:8080/"
        },
        "outputId": "ff102fe9-8bdc-47b8-d8be-8c0612216b53"
      },
      "source": [
        "t1=time.time()\n",
        "with concurrent.futures.ProcessPoolExecutor() as execut:\n",
        "  b_res=[execut.submit(creator2,i.strip()) for i in gazeteduvar_prostat_kanser_links]\n",
        "\n",
        "print(time.time()-t1)"
      ],
      "execution_count": 104,
      "outputs": [
        {
          "output_type": "stream",
          "text": [
            "26.920014142990112\n"
          ],
          "name": "stdout"
        }
      ]
    },
    {
      "cell_type": "code",
      "metadata": {
        "id": "jT5fc8vkCNCy"
      },
      "source": [
        "gazeteduvar_meme_kanser_links=[]\n",
        "with open(\"gazetevatan_link_meme_kanser.txt\",'r',newline='') as f:\n",
        "  for i in f.readlines():    \n",
        "  # reader=csv.reader(f)\n",
        "    gazeteduvar_meme_kanser_links.append(i)"
      ],
      "execution_count": 105,
      "outputs": []
    },
    {
      "cell_type": "code",
      "metadata": {
        "id": "LcIOWl7zCNF8",
        "colab": {
          "base_uri": "https://localhost:8080/"
        },
        "outputId": "a10bede6-f97e-41e7-b124-5125d88b41cb"
      },
      "source": [
        "\n",
        "t1=time.time()\n",
        "with concurrent.futures.ProcessPoolExecutor() as execut:\n",
        "  b_res=[execut.submit(creator3,i.strip()) for i in gazeteduvar_meme_kanser_links]\n",
        "\n",
        "print(time.time()-t1)"
      ],
      "execution_count": 106,
      "outputs": [
        {
          "output_type": "stream",
          "text": [
            "24.267580270767212\n"
          ],
          "name": "stdout"
        }
      ]
    }
  ]
}