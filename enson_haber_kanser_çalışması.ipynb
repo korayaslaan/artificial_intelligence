{
  "nbformat": 4,
  "nbformat_minor": 0,
  "metadata": {
    "colab": {
      "name": "enson haber_kanser_çalışması.ipynb ",
      "provenance": [],
      "collapsed_sections": [],
      "include_colab_link": true
    },
    "kernelspec": {
      "display_name": "Python 3",
      "name": "python3"
    },
    "language_info": {
      "name": "python"
    }
  },
  "cells": [
    {
      "cell_type": "markdown",
      "metadata": {
        "id": "view-in-github",
        "colab_type": "text"
      },
      "source": [
        "<a href=\"https://colab.research.google.com/github/korayaslaan/artificial_intelligence/blob/main/enson_haber_kanser_%C3%A7al%C4%B1%C5%9Fmas%C4%B1.ipynb\" target=\"_parent\"><img src=\"https://colab.research.google.com/assets/colab-badge.svg\" alt=\"Open In Colab\"/></a>"
      ]
    },
    {
      "cell_type": "code",
      "metadata": {
        "id": "Zgsxn5pp89Pa"
      },
      "source": [
        "import os\n",
        "import bs4\n",
        "import requests\n",
        "from bs4 import BeautifulSoup\n",
        "import pandas as pd\n",
        "import numpy as np\n",
        "import os\n",
        "import time\n",
        "import urllib.request\n",
        "import re\n",
        "import urllib3\n",
        "from pandas import DataFrame\n",
        "import csv\n",
        "import datetime\n",
        "from datetime import datetime, timedelta"
      ],
      "execution_count": 166,
      "outputs": []
    },
    {
      "cell_type": "code",
      "metadata": {
        "id": "WlV81oLM-KPq"
      },
      "source": [
        "def datecreator():\n",
        "  kanser_links = []\n",
        "  prostat_links = []\n",
        "  memekanseri_links=[]\n",
        "  kan_link =\"https://www.ensonhaber.com/arama/?q=kanser&sayfa=\" #146 e kadar sayfa var kanser\n",
        "  pros_link = \"https://www.ensonhaber.com/arama/?q=prostat+kanseri&sayfa=\" #2 e kadar sayfa var prostat kanseri\n",
        "  mem_link = \"https://www.ensonhaber.com/arama/?q=meme+kanseri&sayfa=\" #13 ya kadar sayfa var meme kanseri\n",
        "  for i in range(1,4,1):\n",
        "    kanser_links.append(\"{}{}{}\".format(kan_link,i,'&infinity=1'))\n",
        "\n",
        "  for i in range(1,3,1): # bu kadar sayfa var 2 sayfa \n",
        "    prostat_links.append(\"{}{}{}\".format(pros_link,i,'&infinity=1'))\n",
        "\n",
        "  for i in range(1,4,1):\n",
        "    memekanseri_links.append(\"{}{}{}\".format(mem_link,i,'&infinity=1'))\n",
        "  return kanser_links,memekanseri_links,prostat_links"
      ],
      "execution_count": 167,
      "outputs": []
    },
    {
      "cell_type": "code",
      "metadata": {
        "id": "LKT1rKCP5g8x",
        "colab": {
          "base_uri": "https://localhost:8080/"
        },
        "outputId": "67f12016-2bc3-4725-b669-3a997b7ba492"
      },
      "source": [
        "page_kanser_links,page_memekanseri_links,page_prostat_links = datecreator()\n",
        "print(page_kanser_links)\n",
        "print(page_memekanseri_links)\n",
        "print(page_prostat_links)"
      ],
      "execution_count": 168,
      "outputs": [
        {
          "output_type": "stream",
          "text": [
            "['https://www.ensonhaber.com/arama/?q=kanser&sayfa=1&infinity=1', 'https://www.ensonhaber.com/arama/?q=kanser&sayfa=2&infinity=1', 'https://www.ensonhaber.com/arama/?q=kanser&sayfa=3&infinity=1']\n",
            "['https://www.ensonhaber.com/arama/?q=meme+kanseri&sayfa=1&infinity=1', 'https://www.ensonhaber.com/arama/?q=meme+kanseri&sayfa=2&infinity=1', 'https://www.ensonhaber.com/arama/?q=meme+kanseri&sayfa=3&infinity=1']\n",
            "['https://www.ensonhaber.com/arama/?q=prostat+kanseri&sayfa=1&infinity=1', 'https://www.ensonhaber.com/arama/?q=prostat+kanseri&sayfa=2&infinity=1']\n"
          ],
          "name": "stdout"
        }
      ]
    },
    {
      "cell_type": "code",
      "metadata": {
        "id": "VfQNIUPW5IQ1"
      },
      "source": [
        "def get_link_kanser(i):\n",
        "    r = requests.get(i)   \n",
        "    url='https://www.ensonhaber.com'\n",
        "    soup = BeautifulSoup(r.content, 'html5lib')\n",
        "    count = 0\n",
        "    for a in soup.find_all('a', href=True):\n",
        "        link = a['href']\n",
        "        link = \"{}{}\".format(url,link)\n",
        "        with open(\"ensonhaber_link_kanser.txt\", 'a') as file: \n",
        "            file.write(link+'\\n')\n",
        " "
      ],
      "execution_count": 169,
      "outputs": []
    },
    {
      "cell_type": "code",
      "metadata": {
        "id": "ALkLbRig-2zh"
      },
      "source": [
        "def get_link_prostatkanseri(i):\n",
        "    r = requests.get(i)   \n",
        "    url='https://www.ensonhaber.com'\n",
        "    soup = BeautifulSoup(r.content, 'html5lib')\n",
        "    for a in soup.find_all('a', href=True):\n",
        "        link = a['href']\n",
        "        link = \"{}{}\".format(url,link)\n",
        "        with open(\"ensonhaber_link_prostat_kanser.txt\", 'a') as file: \n",
        "            file.write(link+'\\n')"
      ],
      "execution_count": 170,
      "outputs": []
    },
    {
      "cell_type": "code",
      "metadata": {
        "id": "TEVoooCK-21o"
      },
      "source": [
        "def get_link_memekanseri(i):\n",
        "    r = requests.get(i)   \n",
        "    url='https://www.ensonhaber.com'\n",
        "    soup = BeautifulSoup(r.content, 'html5lib')\n",
        "    print(r)\n",
        "    count = 0\n",
        "    for a in soup.find_all('a', href=True):\n",
        "        link = a['href']\n",
        "        link = \"{}{}\".format(url,link)\n",
        "        with open(\"ensonhaber_link_meme_kanser.txt\", 'a') as file: \n",
        "            file.write(link+'\\n')"
      ],
      "execution_count": 171,
      "outputs": []
    },
    {
      "cell_type": "code",
      "metadata": {
        "id": "bOosRmRQ5-c1",
        "colab": {
          "base_uri": "https://localhost:8080/"
        },
        "outputId": "a12465ab-d4ce-4ccb-a838-59740f79586f"
      },
      "source": [
        "page_kanser_links,page_memekanseri_links,page_prostat_links = datecreator()\n",
        "\n",
        "\n",
        "with concurrent.futures.ProcessPoolExecutor() as execut:\n",
        "  b_res=[execut.submit(get_link_kanser,i.strip()) for i in page_kanser_links]\n",
        "time.sleep(5)\n",
        "with concurrent.futures.ProcessPoolExecutor() as execut:\n",
        "  b_res=[execut.submit(get_link_prostatkanseri,i.strip()) for i in page_prostat_links]\n",
        "time.sleep(5)\n",
        "with concurrent.futures.ProcessPoolExecutor() as execut:\n",
        "  b_res=[execut.submit(get_link_memekanseri,i.strip()) for i in page_memekanseri_links]\n",
        "\n",
        "\n"
      ],
      "execution_count": 172,
      "outputs": [
        {
          "output_type": "stream",
          "text": [
            "<Response [200]>\n",
            "<Response [200]>\n",
            "<Response [200]>\n"
          ],
          "name": "stdout"
        }
      ]
    },
    {
      "cell_type": "code",
      "metadata": {
        "id": "QMJarZTg_Ubg"
      },
      "source": [
        "def creator1(url):\n",
        "    r = requests.get(url)   \n",
        "    soup = BeautifulSoup(r.content, 'html5lib')\n",
        "    title = soup.find(\"h1\").getText()\n",
        "    content_array = soup.find(\"article\", attrs = {\"class\":\"content\"}).getText()\n",
        "    date = soup.find(\"div\", attrs = {\"class\":\"c-date\"}).getText()\n",
        "    date = date.split()\n",
        "    date = date[2]\n",
        "    title = title.split()\n",
        "    content_array = content_array.split()\n",
        "    content_string = \"\"\n",
        "    title_string = \"\"\n",
        "    for w in title:\n",
        "      title_string = title_string+\" \"+w\n",
        "    for w in content_array:\n",
        "      content_string = content_string+\" \"+w\n",
        "      #w_data = url+\";\"+date+\";\"+title+\";\"+content_string\n",
        "    w_data=\"{};{};{};{}\".format(url,date,title_string,content_string)\n",
        "    # write_to_txt(w_data)\n",
        "    with open(\"ensonhaber_content_kanser.txt\", 'a') as file: \n",
        "        file.write(w_data+'\\n')"
      ],
      "execution_count": 173,
      "outputs": []
    },
    {
      "cell_type": "code",
      "metadata": {
        "id": "XvPJVXSm_Ud_"
      },
      "source": [
        "def creator2(url):\n",
        "    r = requests.get(url)   \n",
        "    soup = BeautifulSoup(r.content, 'html5lib')\n",
        "    title = soup.find(\"h1\").getText()\n",
        "    content_array = soup.find(\"article\", attrs = {\"class\":\"content\"}).getText()\n",
        "    date = soup.find(\"div\", attrs = {\"class\":\"c-date\"}).getText()\n",
        "    date = date.split()\n",
        "    date = date[2]\n",
        "    title = title.split()\n",
        "    content_array = content_array.split()\n",
        "    content_string = \"\"\n",
        "    title_string = \"\"\n",
        "    for w in title:\n",
        "      title_string = title_string+\" \"+w\n",
        "    for w in content_array:\n",
        "      content_string = content_string+\" \"+w\n",
        "      #w_data = url+\";\"+date+\";\"+title+\";\"+content_string\n",
        "    w_data=\"{};{};{};{}\".format(url,date,title_string,content_string)\n",
        "    # write_to_txt(w_data)\n",
        "    with open(\"ensonhaber_content_prostat_kanser.txt\", 'a') as file: \n",
        "        file.write(w_data+'\\n')"
      ],
      "execution_count": 174,
      "outputs": []
    },
    {
      "cell_type": "code",
      "metadata": {
        "id": "eb_5UJ9L_UiG"
      },
      "source": [
        "def creator3(url):\n",
        "    r = requests.get(url)   \n",
        "    soup = BeautifulSoup(r.content, 'html5lib')\n",
        "    title = soup.find(\"h1\").getText()\n",
        "    content_array = soup.find(\"article\", attrs = {\"class\":\"content\"}).getText()\n",
        "    date = soup.find(\"div\", attrs = {\"class\":\"c-date\"}).getText()\n",
        "    date = date.split()\n",
        "    date = date[2]\n",
        "    title = title.split()\n",
        "    content_array = content_array.split()\n",
        "    content_string = \"\"\n",
        "    title_string = \"\"\n",
        "    for w in title:\n",
        "      title_string = title_string+\" \"+w\n",
        "    for w in content_array:\n",
        "      content_string = content_string+\" \"+w\n",
        "      #w_data = url+\";\"+date+\";\"+title+\";\"+content_string\n",
        "    w_data=\"{};{};{};{}\".format(url,date,title_string,content_string)\n",
        "    # write_to_txt(w_data)\n",
        "    with open(\"ensonhaber_content_meme_kanser.txt\", 'a') as file: \n",
        "        file.write(w_data+'\\n')"
      ],
      "execution_count": 175,
      "outputs": []
    },
    {
      "cell_type": "code",
      "metadata": {
        "id": "9kdD70lnBMyy"
      },
      "source": [
        "import concurrent.futures"
      ],
      "execution_count": 176,
      "outputs": []
    },
    {
      "cell_type": "code",
      "metadata": {
        "id": "0HQ1CzLl_8QA"
      },
      "source": [
        "import os\n",
        "import csv\n",
        "import concurrent\n",
        "import multiprocessing\n",
        "from multiprocessing import pool\n",
        "import io\n",
        "from pprint import pprint\n",
        "ensonhaber_kanser_links=[]\n",
        "with open(\"ensonhaber_link_kanser.txt\",'r',newline='') as f:\n",
        "  for i in f.readlines():    \n",
        "  # reader=csv.reader(f)\n",
        "    ensonhaber_kanser_links.append(i)"
      ],
      "execution_count": 177,
      "outputs": []
    },
    {
      "cell_type": "code",
      "metadata": {
        "id": "lYXuFbqm_8ST",
        "colab": {
          "base_uri": "https://localhost:8080/"
        },
        "outputId": "ea03d55b-922e-446f-fbaf-d3c86b941a2d"
      },
      "source": [
        "t1=time.time()\n",
        "with concurrent.futures.ProcessPoolExecutor() as execut:\n",
        "  b_res=[execut.submit(creator1,i.strip()) for i in ensonhaber_kanser_links]\n",
        "\n",
        "print(time.time()-t1)"
      ],
      "execution_count": 178,
      "outputs": [
        {
          "output_type": "stream",
          "text": [
            "11.096763372421265\n"
          ],
          "name": "stdout"
        }
      ]
    },
    {
      "cell_type": "code",
      "metadata": {
        "id": "DEm_P3SDCM8X"
      },
      "source": [
        "ensonhaber_prostat_kanser_links=[]\n",
        "with open(\"ensonhaber_link_prostat_kanser.txt\",'r',newline='') as f:\n",
        "  for i in f.readlines():    \n",
        "  # reader=csv.reader(f)\n",
        "    ensonhaber_prostat_kanser_links.append(i)"
      ],
      "execution_count": 179,
      "outputs": []
    },
    {
      "cell_type": "code",
      "metadata": {
        "id": "7G1GPxaBCM_6",
        "colab": {
          "base_uri": "https://localhost:8080/"
        },
        "outputId": "8afc1653-1393-4c17-8399-9d066c7dc2b7"
      },
      "source": [
        "t1=time.time()\n",
        "with concurrent.futures.ProcessPoolExecutor() as execut:\n",
        "  b_res=[execut.submit(creator2,i.strip()) for i in ensonhaber_prostat_kanser_links]\n",
        "\n",
        "print(time.time()-t1)"
      ],
      "execution_count": 180,
      "outputs": [
        {
          "output_type": "stream",
          "text": [
            "4.413941383361816\n"
          ],
          "name": "stdout"
        }
      ]
    },
    {
      "cell_type": "code",
      "metadata": {
        "id": "jT5fc8vkCNCy"
      },
      "source": [
        "ensonhaber_meme_kanser_links=[]\n",
        "with open(\"ensonhaber_link_meme_kanser.txt\",'r',newline='') as f:\n",
        "  for i in f.readlines():    \n",
        "  # reader=csv.reader(f)\n",
        "    ensonhaber_meme_kanser_links.append(i)"
      ],
      "execution_count": 181,
      "outputs": []
    },
    {
      "cell_type": "code",
      "metadata": {
        "id": "LcIOWl7zCNF8",
        "colab": {
          "base_uri": "https://localhost:8080/"
        },
        "outputId": "1be5dace-5b43-40e8-e521-7bdb3249308c"
      },
      "source": [
        "\n",
        "t1=time.time()\n",
        "with concurrent.futures.ProcessPoolExecutor() as execut:\n",
        "  b_res=[execut.submit(creator3,i.strip()) for i in ensonhaber_meme_kanser_links]\n",
        "\n",
        "print(time.time()-t1)"
      ],
      "execution_count": 182,
      "outputs": [
        {
          "output_type": "stream",
          "text": [
            "10.452861547470093\n"
          ],
          "name": "stdout"
        }
      ]
    }
  ]
}