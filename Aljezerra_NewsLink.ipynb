{
  "nbformat": 4,
  "nbformat_minor": 0,
  "metadata": {
    "colab": {
      "name": "Aljezerra NewsLink.ipynb",
      "provenance": [],
      "authorship_tag": "ABX9TyORP9BuZ1lRMoR7eUsmlnHG",
      "include_colab_link": true
    },
    "kernelspec": {
      "name": "python3",
      "display_name": "Python 3"
    },
    "language_info": {
      "name": "python"
    }
  },
  "cells": [
    {
      "cell_type": "markdown",
      "metadata": {
        "id": "view-in-github",
        "colab_type": "text"
      },
      "source": [
        "<a href=\"https://colab.research.google.com/github/korayaslaan/artificial_intelligence/blob/main/Aljezerra_NewsLink.ipynb\" target=\"_parent\"><img src=\"https://colab.research.google.com/assets/colab-badge.svg\" alt=\"Open In Colab\"/></a>"
      ]
    },
    {
      "cell_type": "code",
      "execution_count": null,
      "metadata": {
        "id": "UPsogdUwX658"
      },
      "outputs": [],
      "source": [
        "from bs4 import BeautifulSoup\n",
        "import requests\n",
        "from selenium import webdriver\n",
        "from selenium.webdriver.common.keys import Keys\n",
        "import time\n",
        "import csv\n",
        "import pandas as pd\n",
        "import datetime\n",
        "from datetime import datetime, timedelta\n",
        "import numpy as np\n",
        "import urllib.request\n",
        "import re\n",
        "import concurrent\n",
        "import multiprocessing\n",
        "from multiprocessing import pool\n",
        "import io\n",
        "from pprint import pprint"
      ]
    },
    {
      "cell_type": "code",
      "source": [
        "def get_link(i):\n",
        "    print(i)\n",
        "    driver = webdriver.Chrome (executable_path=\"C:\\\\Users\\\\koray\\\\Desktop\\\\chromedriver.exe\")#masaüstüne \n",
        "    driver.maximize_window()\n",
        "    driver.get(i)\n",
        "    global soup2\n",
        "    last_height = 0\n",
        "    count = 0\n",
        "    get = False\n",
        "    while count<50:\n",
        "        try:\n",
        "            driver.execute_script(\"window.scrollTo(0, document.body.scrollHeight-1000);\")\n",
        "            new_height = driver.execute_script(\"return document.body.scrollHeight-1000\")\n",
        "            a = driver.find_elements_by_class_name(\"show-more-button\")\n",
        "            try:\n",
        "                a[0].click()\n",
        "                count+=1\n",
        "                print(\"Tıklama=\" + str(count))\n",
        "                window.localStorage.clear()\n",
        "                window.sessionStorage.clear()\n",
        "            except:\n",
        "                print(\"Yükleme Bekleniyor\")\n",
        "                time.sleep(1)\n",
        "            \n",
        "        except:\n",
        "            print(\"Hata Tespit Edildi\")\n",
        "            sayfa_kaynağı = driver.page_source\n",
        "            soup2 = BeautifulSoup(sayfa_kaynağı, \"html.parser\")\n",
        "            linkCreator()\n",
        "    sayfa_kaynağı = driver.page_source\n",
        "    soup2 = BeautifulSoup(sayfa_kaynağı, \"html.parser\")\n",
        "    linkCreator()\n",
        "       "
      ],
      "metadata": {
        "id": "1uXoaloUYBsx"
      },
      "execution_count": null,
      "outputs": []
    },
    {
      "cell_type": "code",
      "source": [
        "def linkCreator():\n",
        "    soup = soup2\n",
        "    linkler = []\n",
        "    linklerSon = []\n",
        "    linklerSon2 = []\n",
        "    for a in soup2.find_all('a', href=True):\n",
        "        link = a['href']\n",
        "        if(len(link)>30):\n",
        "            result = link.startswith(\"/\")\n",
        "            result2 = link.startswith(\"/news/2014/11/1/code-of-ethics-2\")\n",
        "            result3 = link.startswith(\"/news/2017/10/15/terms-and-conditions/\")\n",
        "            result4 = link.startswith(\"/news/2011/01/16/community-rules-guidelines/\") #sayfanın sözleşme politikaları\n",
        "            if(result == True and result2 == False and result3 == False and result4 == False):\n",
        "                linkler.append(link)\n",
        "    count2 = 0\n",
        "    for i in linkler:\n",
        "        if i not in linklerSon:\n",
        "            linklerSon.append(i)\n",
        "            count2+=1\n",
        "    print(\"Çekilen Link Sayısı = \" + str(count2))\n",
        "    for k in linklerSon:\n",
        "        EndLink = \"{}{}\".format(\"https://www.aljazeera.com\",k)\n",
        "        with open(\"AljezerraLinks.txt\", 'a') as file: \n",
        "            file.write(EndLink + '\\n')\n",
        "            print(EndLink)\n"
      ],
      "metadata": {
        "id": "2LlCGjNPYBo3"
      },
      "execution_count": null,
      "outputs": []
    }
  ]
}