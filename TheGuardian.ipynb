{
  "nbformat": 4,
  "nbformat_minor": 0,
  "metadata": {
    "colab": {
      "name": "TheGuardian.ipynb",
      "provenance": [],
      "collapsed_sections": [],
      "authorship_tag": "ABX9TyORnLOZ60OkG1tZ2MlSRG70",
      "include_colab_link": true
    },
    "kernelspec": {
      "name": "python3",
      "display_name": "Python 3"
    },
    "language_info": {
      "name": "python"
    }
  },
  "cells": [
    {
      "cell_type": "markdown",
      "metadata": {
        "id": "view-in-github",
        "colab_type": "text"
      },
      "source": [
        "<a href=\"https://colab.research.google.com/github/korayaslaan/artificial_intelligence/blob/main/TheGuardian.ipynb\" target=\"_parent\"><img src=\"https://colab.research.google.com/assets/colab-badge.svg\" alt=\"Open In Colab\"/></a>"
      ]
    },
    {
      "cell_type": "code",
      "execution_count": 1,
      "metadata": {
        "id": "Ds9jarSpw_Pm"
      },
      "outputs": [],
      "source": [
        "import os\n",
        "import bs4\n",
        "import requests\n",
        "from bs4 import BeautifulSoup\n",
        "import pandas as pd\n",
        "import numpy as np\n",
        "import os\n",
        "import time\n",
        "import urllib.request\n",
        "import re\n",
        "import urllib3\n",
        "from pandas import DataFrame\n",
        "import csv\n",
        "import datetime\n",
        "from datetime import datetime, timedelta\n",
        "import os\n",
        "import csv\n",
        "import concurrent\n",
        "import multiprocessing\n",
        "from multiprocessing import pool\n",
        "import io\n",
        "from pprint import pprint"
      ]
    },
    {
      "cell_type": "code",
      "source": [
        "def dateCreator():\n",
        "  technology = []\n",
        "  # uk-news  coronavirus-outbreak   environment/climate-crisis   \n",
        "  # uk/environment   science   global-development  uk/technology  uk/business\n",
        "  category = ['uk-news','science','coronavirus-outbreak','environment/climate-crisis','uk/environment','global-development','uk/technology','uk/business']\n",
        "  ser_date = pd.Series(pd.date_range('19990101', periods=8400))\n",
        "  link = \"https://www.theguardian.com/\"\n",
        "  for i in category:\n",
        "    for j in range(2000,2001):\n",
        "      dateEnd  = ser_date[j].strftime(\"/%Y/%b/%d/all\")\n",
        "      technology.append(\"{}{}{}\".format(link,i,dateEnd))\n",
        "  return technology"
      ],
      "metadata": {
        "id": "r1d2z3aBxEpc"
      },
      "execution_count": 102,
      "outputs": []
    },
    {
      "cell_type": "code",
      "source": [
        "dates = dateCreator()\n",
        "for x in dates:\n",
        "  with open(\"AllMainLinks.txt\", 'a') as file: \n",
        "    file.write(x+'\\n')\n",
        "print(\"Başarılı\")"
      ],
      "metadata": {
        "colab": {
          "base_uri": "https://localhost:8080/"
        },
        "id": "0WgSZ7k2xErs",
        "outputId": "26370aa0-c0b8-4ee7-dc3c-b46d19b6506a"
      },
      "execution_count": 103,
      "outputs": [
        {
          "output_type": "stream",
          "name": "stdout",
          "text": [
            "Başarılı\n"
          ]
        }
      ]
    },
    {
      "cell_type": "code",
      "source": [
        "def get_link_technology(i):\n",
        "     page_one = 0\n",
        "     r = requests.get(i)   \n",
        "     soup = BeautifulSoup(r.content, 'html5lib')\n",
        "     uzunluk =len(\"https://www.theguardian.com/technology/\")\n",
        "     url = i[uzunluk+3:uzunluk + 7]\n",
        "     url2 = \"https://www.theguardian.com/technology/blog/\" + url\n",
        "     url3 = \"https://www.theguardian.com/technology/\" + url\n",
        "     count=0\n",
        "     for a in soup.find_all('a', href=True):\n",
        "       link = a['href']\n",
        "       count+=1\n",
        "       result = len(link)>50\n",
        "       if result == True:\n",
        "          result2 = link.startswith(url2) or link.startswith(url3)\n",
        "          if result2 == True:\n",
        "            if(count %2 == 0):\n",
        "              with open(\"TechnologyNewsLinks.txt\", 'a') as file: \n",
        "                file.write(link+'\\n')\n",
        "    "
      ],
      "metadata": {
        "id": "0ya7wqIvxEt7"
      },
      "execution_count": 84,
      "outputs": []
    },
    {
      "cell_type": "code",
      "source": [
        "def get_link_business(i):\n",
        "     page_one = 0\n",
        "     r = requests.get(i)   \n",
        "     soup = BeautifulSoup(r.content, 'html5lib')\n",
        "     uzunluk =len(\"https://www.theguardian.com/business/\")\n",
        "     url = i[uzunluk+3:uzunluk + 7]\n",
        "     url2 = \"https://www.theguardian.com/business/\" + url\n",
        "     count=0\n",
        "     for a in soup.find_all('a', href=True):\n",
        "       link = a['href']\n",
        "       count+=1\n",
        "       result = len(link)>40\n",
        "       if result == True:\n",
        "          result2 = link.startswith(url2)\n",
        "          if result2 == True:\n",
        "            if(count %2 == 0):\n",
        "              with open(\"BusinessNewsLinks.txt\", 'a') as file: \n",
        "                file.write(link+'\\n')"
      ],
      "metadata": {
        "id": "8b3ml0sKbAPP"
      },
      "execution_count": 97,
      "outputs": []
    },
    {
      "cell_type": "code",
      "source": [
        "get_link_business(\"https://www.theguardian.com/uk/business/2004/Jun/05/all\") #%100 doğruluk"
      ],
      "metadata": {
        "id": "RYX9DHylbbNt"
      },
      "execution_count": 100,
      "outputs": []
    },
    {
      "cell_type": "code",
      "source": [
        "def get_link_uk_news(i):\n",
        "     page_one = 0\n",
        "     r = requests.get(i)   \n",
        "     soup = BeautifulSoup(r.content, 'html5lib')\n",
        "     uzunluk =len(\"https://www.theguardian.com/uk/\")\n",
        "     url = i[uzunluk+5:uzunluk + 9]\n",
        "     url2 = \"https://www.theguardian.com/uk/\" + url\n",
        "     url3 = \"https://www.theguardian.com/news/\" + url\n",
        "     url4 = \"https://www.theguardian.com/society/\" + url\n",
        "     count=0\n",
        "     print(url)\n",
        "     print(uzunluk)\n",
        "     print(url2)\n",
        "     for a in soup.find_all('a', href=True):\n",
        "       link = a['href']\n",
        "       count+=1\n",
        "       result = len(link)>40\n",
        "       if result == True:\n",
        "          result2 = link.startswith(url2) or link.startswith(url3) or link.startswith(url4)\n",
        "          if result2 == True:\n",
        "            if(count %2 == 0):\n",
        "              with open(\"UkNewsLinks.txt\", 'a') as file: \n",
        "                file.write(link+'\\n')"
      ],
      "metadata": {
        "id": "CahmHbVIeeUp"
      },
      "execution_count": 127,
      "outputs": []
    },
    {
      "cell_type": "code",
      "source": [
        "get_link_uk_news(\"https://www.theguardian.com/uk-news/2004/Jun/07/all\") #%100 doğruluk"
      ],
      "metadata": {
        "colab": {
          "base_uri": "https://localhost:8080/"
        },
        "id": "MgPTMCDeeeL1",
        "outputId": "e06a7826-5fc6-41e9-d927-9a382e42eddb"
      },
      "execution_count": 129,
      "outputs": [
        {
          "output_type": "stream",
          "name": "stdout",
          "text": [
            "2004\n",
            "31\n",
            "https://www.theguardian.com/uk/2004\n"
          ]
        }
      ]
    },
    {
      "cell_type": "code",
      "source": [
        "technology = dateCreator()\n",
        "print(technology)\n",
        "\n",
        "with concurrent.futures.ProcessPoolExecutor() as execut:\n",
        "  b_res=[execut.submit(get_link_technology,i.strip()) for i in technology]"
      ],
      "metadata": {
        "id": "4eMD8PH6oOZj",
        "colab": {
          "base_uri": "https://localhost:8080/"
        },
        "outputId": "c7f3bf87-e2b9-46a2-99ed-2f02d9cd10b9"
      },
      "execution_count": 85,
      "outputs": [
        {
          "output_type": "stream",
          "name": "stdout",
          "text": [
            "['https://www.theguardian.com/uk-news/2004/Jun/23/all', 'https://www.theguardian.com/science/2004/Jun/23/all', 'https://www.theguardian.com/coronavirus-outbreak/2004/Jun/23/all', 'https://www.theguardian.com/environment/climate-crisis/2004/Jun/23/all', 'https://www.theguardian.com/uk/environment/2004/Jun/23/all', 'https://www.theguardian.com/global-development/2004/Jun/23/all', 'https://www.theguardian.com/uk/technology/2004/Jun/23/all', 'https://www.theguardian.com/uk/business/2004/Jun/23/all']\n"
          ]
        }
      ]
    },
    {
      "cell_type": "code",
      "source": [
        "def creator(url):\n",
        "    r = requests.get(url)   \n",
        "    soup = BeautifulSoup(r.content, 'html5lib')\n",
        "    title = soup.find(\"h1\").getText()\n",
        "    print(title)\n",
        "    content_array = soup.find(\"div\", attrs = {\"class\":\"article-body-commercial-selector\"}).getText()\n",
        "    category = soup.find(\"a\", attrs = {\"class\":\"dcr-yx39j8\"}).getText()\n",
        "    print(category)\n",
        "    date = soup.find(\"div\", attrs = {\"class\":\"dcr-km9fgb\"}).getText()\n",
        "    date = date.split()\n",
        "    date = date[0]+'-'+ date[1] +'-'+ date[2]\n",
        "    print(date)\n",
        "    content_array = content_array.split()\n",
        "    content_string = \"\"\n",
        "    for w in content_array:\n",
        "       content_string = content_string+\" \"+w\n",
        "    w_data=\"{};{};{};{};{}\".format(url,date,category,title,content_string)\n",
        "    # print(w_data)\n",
        "    with open(\"milliyet_content.txt\", 'a') as file: \n",
        "        file.write(w_data+'\\n')"
      ],
      "metadata": {
        "id": "av52kVI5xE0T"
      },
      "execution_count": 153,
      "outputs": []
    },
    {
      "cell_type": "code",
      "source": [
        "creator(\"https://www.theguardian.com/uk/2004/jun/07/ukcrime\")"
      ],
      "metadata": {
        "colab": {
          "base_uri": "https://localhost:8080/"
        },
        "id": "HAIfbWXsik_h",
        "outputId": "b8e2d614-fc74-44a9-feaa-8f88bb3424a3"
      },
      "execution_count": 154,
      "outputs": [
        {
          "output_type": "stream",
          "name": "stdout",
          "text": [
            "Man held after barbecue murders\n",
            "Crime\n",
            "Mon-7-Jun\n"
          ]
        }
      ]
    }
  ]
}