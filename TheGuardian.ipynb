{
  "nbformat": 4,
  "nbformat_minor": 0,
  "metadata": {
    "colab": {
      "name": "TheGuardian.ipynb",
      "provenance": [],
      "collapsed_sections": [],
      "authorship_tag": "ABX9TyM5b6xVO52gMC7QjvfFFGbj",
      "include_colab_link": true
    },
    "kernelspec": {
      "name": "python3",
      "display_name": "Python 3"
    },
    "language_info": {
      "name": "python"
    }
  },
  "cells": [
    {
      "cell_type": "markdown",
      "metadata": {
        "id": "view-in-github",
        "colab_type": "text"
      },
      "source": [
        "<a href=\"https://colab.research.google.com/github/korayaslaan/artificial_intelligence/blob/main/TheGuardian.ipynb\" target=\"_parent\"><img src=\"https://colab.research.google.com/assets/colab-badge.svg\" alt=\"Open In Colab\"/></a>"
      ]
    },
    {
      "cell_type": "code",
      "execution_count": null,
      "metadata": {
        "id": "Ds9jarSpw_Pm"
      },
      "outputs": [],
      "source": [
        "import os\n",
        "import bs4\n",
        "import requests\n",
        "from bs4 import BeautifulSoup\n",
        "import pandas as pd\n",
        "import numpy as np\n",
        "import os\n",
        "import time\n",
        "import urllib.request\n",
        "import re\n",
        "import urllib3\n",
        "from pandas import DataFrame\n",
        "import csv\n",
        "import datetime\n",
        "from datetime import datetime, timedelta\n",
        "import os\n",
        "import csv\n",
        "import concurrent\n",
        "import multiprocessing\n",
        "from multiprocessing import pool\n",
        "import io\n",
        "from pprint import pprint"
      ]
    },
    {
      "cell_type": "code",
      "source": [
        "def dateCreator():\n",
        "  deneme = []\n",
        "  # uk-news  coronavirus-outbreak   environment/climate-crisis   \n",
        "  # uk/environment   science   global-development  uk/technology  uk/business\n",
        "  category = ['uk-news','science','coronavirus-outbreak','environment/climate-crisis','uk/environment','global-development','uk/technology','uk/business']\n",
        "  ser_date = pd.Series(pd.date_range('19990101', periods=8400))\n",
        "  link = \"https://www.theguardian.com/\"\n",
        "  for i in category:\n",
        "    for j in range(2000,2001):\n",
        "      dateEnd  = ser_date[j].strftime(\"/%Y/%b/%d/all\")\n",
        "      deneme.append(\"{}{}{}\".format(link,i,dateEnd))\n",
        "  return deneme"
      ],
      "metadata": {
        "id": "r1d2z3aBxEpc"
      },
      "execution_count": null,
      "outputs": []
    },
    {
      "cell_type": "code",
      "source": [
        "dates = dateCreator()\n",
        "for x in dates:\n",
        "  with open(\"AllMainLinks.txt\", 'a') as file: \n",
        "    file.write(x+'\\n')\n",
        "print(\"Başarılı\")"
      ],
      "metadata": {
        "colab": {
          "base_uri": "https://localhost:8080/"
        },
        "id": "0WgSZ7k2xErs",
        "outputId": "c73492a0-2d8e-4c17-ffd1-33719941132f"
      },
      "execution_count": null,
      "outputs": [
        {
          "output_type": "stream",
          "name": "stdout",
          "text": [
            "Başarılı\n"
          ]
        }
      ]
    },
    {
      "cell_type": "code",
      "source": [
        "def get_link_technology(i):\n",
        "     page_one = 0\n",
        "     r = requests.get(i)   \n",
        "     soup = BeautifulSoup(r.content, 'html5lib')\n",
        "     url = \"https://www.theguardian.com/technology/\" #www.theguardian.com/uk/technology link böyle devam ederken www.theguardian.com/technology/blog diye değişiyo hepsinde değişme var tek tek yapmak gerek o yüzden  \n",
        "     for a in soup.find_all('a', href=True):\n",
        "       link = a['href']\n",
        "       result = len(link)>50\n",
        "       if result == True:\n",
        "          result2 = link.startswith(url)\n",
        "          if result2 == True:\n",
        "            print(link)\n",
        "    "
      ],
      "metadata": {
        "id": "0ya7wqIvxEt7"
      },
      "execution_count": null,
      "outputs": []
    },
    {
      "cell_type": "code",
      "source": [
        "get_link_technology('https://www.theguardian.com/uk/technology/2004/Jul/02/all')"
      ],
      "metadata": {
        "id": "kEuIggVixEwb",
        "colab": {
          "base_uri": "https://localhost:8080/"
        },
        "outputId": "feafdd7a-4fa1-4ba5-9a32-c6e6d855ca79"
      },
      "execution_count": null,
      "outputs": [
        {
          "output_type": "stream",
          "name": "stdout",
          "text": [
            "https://www.theguardian.com/technology/blog/2004/jul/02/appleconfesses\n",
            "https://www.theguardian.com/technology/blog/2004/jul/02/appleconfesses\n",
            "https://www.theguardian.com/technology/blog/2004/jul/02/affinityengine\n",
            "https://www.theguardian.com/technology/blog/2004/jul/02/affinityengine\n",
            "https://www.theguardian.com/technology/2004/jul/02/newmedia.mobilephones\n",
            "https://www.theguardian.com/technology/2004/jul/02/newmedia.mobilephones\n",
            "https://www.theguardian.com/technology/2004/jul/02/newmedia.microsoft\n",
            "https://www.theguardian.com/technology/2004/jul/02/newmedia.microsoft\n"
          ]
        }
      ]
    },
    {
      "cell_type": "code",
      "source": [
        "a=\"https://www.theguardian.com/uk/technology/2004/Jun/27/all\"\n",
        "b = a[0:20]\n",
        "result2 = a.startswith((b),0,50)\n",
        "print(result2)\n",
        "print(b)"
      ],
      "metadata": {
        "colab": {
          "base_uri": "https://localhost:8080/"
        },
        "id": "dsBKtBx1xjOl",
        "outputId": "a3ed1cb9-51d8-40c5-83af-fd8d38770531"
      },
      "execution_count": null,
      "outputs": [
        {
          "output_type": "stream",
          "name": "stdout",
          "text": [
            "True\n",
            "https://www.theguard\n"
          ]
        }
      ]
    },
    {
      "cell_type": "code",
      "source": [
        "links = dateCreator()\n",
        "\n",
        "with concurrent.futures.ProcessPoolExecutor() as execut:\n",
        "  b_res=[execut.submit(get_link,i.strip()) for i in links]"
      ],
      "metadata": {
        "id": "4eMD8PH6oOZj"
      },
      "execution_count": null,
      "outputs": []
    },
    {
      "cell_type": "code",
      "source": [
        ""
      ],
      "metadata": {
        "id": "av52kVI5xE0T"
      },
      "execution_count": null,
      "outputs": []
    }
  ]
}