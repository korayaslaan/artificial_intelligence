{
  "nbformat": 4,
  "nbformat_minor": 0,
  "metadata": {
    "colab": {
      "name": "Java Example.ipynb",
      "provenance": [],
      "authorship_tag": "ABX9TyO9OharczOEVbwMyT/94nZp",
      "include_colab_link": true
    },
    "kernelspec": {
      "name": "python3",
      "display_name": "Python 3"
    },
    "language_info": {
      "name": "python"
    }
  },
  "cells": [
    {
      "cell_type": "markdown",
      "metadata": {
        "id": "view-in-github",
        "colab_type": "text"
      },
      "source": [
        "<a href=\"https://colab.research.google.com/github/korayaslaan/artificial_intelligence/blob/main/Java_Example.ipynb\" target=\"_parent\"><img src=\"https://colab.research.google.com/assets/colab-badge.svg\" alt=\"Open In Colab\"/></a>"
      ]
    },
    {
      "cell_type": "code",
      "execution_count": null,
      "metadata": {
        "id": "mFz6D02jpx8X"
      },
      "outputs": [],
      "source": [
        "deneme=[]\n",
        "with open(\"deneme.txt\",'r',newline='') as f:\n",
        "  for i in f.readlines():    \n",
        "   deneme.append(i)\n",
        "for i in deneme:\n",
        "  if(i[0] >= '0' and i[0] <= '9'):\n",
        "    print(\"integer\")\n",
        "  else:\n",
        "    print(\"String\")"
      ]
    },
    {
      "cell_type": "code",
      "source": [
        "package com.company;\n",
        "import java.io.*;\n",
        "import java.lang.reflect.Array;\n",
        "\n",
        "public class Main {\n",
        "\n",
        "    public static void main(String[] args) {\n",
        "        try\n",
        "        {\n",
        "            File file=new File(\"deneme.txt\");    //creates a new file instance\n",
        "            FileReader fr=new FileReader(file);   //reads the file\n",
        "            BufferedReader br=new BufferedReader(fr);  //creates a buffering character input stream\n",
        "            BufferedWriter string = new BufferedWriter(new FileWriter(\"Stringler.txt\"));\n",
        "            BufferedWriter integer = new BufferedWriter(new FileWriter(\"Integerler.txt\"));\n",
        "            String line;\n",
        "            while((line=br.readLine())!=null)\n",
        "            {\n",
        "               // System.out.println(line.charAt(0));\n",
        "                if (line.charAt(0) > '0'  &&  line.charAt(0) < '9'){\n",
        "                    System.out.println(line.charAt(0));\n",
        "                    integer.append(line);\n",
        "                    integer.append('\\n');\n",
        "                }\n",
        "                else{\n",
        "                    string.append(line);\n",
        "                    System.out.println(\"String\");\n",
        "                    string.append('\\n');\n",
        "                }\n",
        "            }\n",
        "            string.close();\n",
        "            integer.close();\n",
        "            fr.close();    //closes the stream and release the resources\n",
        "\n",
        "        }\n",
        "        catch(IOException e)\n",
        "        {\n",
        "            e.printStackTrace();\n",
        "        }\n",
        "\n",
        "    }\n",
        "}\n"
      ],
      "metadata": {
        "id": "ENJYdaKDvcr5"
      },
      "execution_count": null,
      "outputs": []
    }
  ]
}