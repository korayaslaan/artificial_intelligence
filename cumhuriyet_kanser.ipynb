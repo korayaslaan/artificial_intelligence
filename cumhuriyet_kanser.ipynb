{
  "nbformat": 4,
  "nbformat_minor": 5,
  "metadata": {
    "kernelspec": {
      "display_name": "Python 3",
      "language": "python",
      "name": "python3"
    },
    "language_info": {
      "codemirror_mode": {
        "name": "ipython",
        "version": 3
      },
      "file_extension": ".py",
      "mimetype": "text/x-python",
      "name": "python",
      "nbconvert_exporter": "python",
      "pygments_lexer": "ipython3",
      "version": "3.8.8"
    },
    "colab": {
      "name": "cumhuriyet_kanser.ipynb ",
      "provenance": [],
      "collapsed_sections": [],
      "include_colab_link": true
    }
  },
  "cells": [
    {
      "cell_type": "markdown",
      "metadata": {
        "id": "view-in-github",
        "colab_type": "text"
      },
      "source": [
        "<a href=\"https://colab.research.google.com/github/korayaslaan/artificial_intelligence/blob/main/cumhuriyet_kanser.ipynb\" target=\"_parent\"><img src=\"https://colab.research.google.com/assets/colab-badge.svg\" alt=\"Open In Colab\"/></a>"
      ]
    },
    {
      "cell_type": "code",
      "metadata": {
        "id": "30WTA-lu9nA7",
        "colab": {
          "base_uri": "https://localhost:8080/"
        },
        "outputId": "ba3fd5fa-5fb4-4401-ac82-1046636de7d4"
      },
      "source": [
        "!pip install selenium "
      ],
      "id": "30WTA-lu9nA7",
      "execution_count": 50,
      "outputs": [
        {
          "output_type": "stream",
          "text": [
            "Requirement already satisfied: selenium in /usr/local/lib/python3.7/dist-packages (3.141.0)\n",
            "Requirement already satisfied: urllib3 in /usr/local/lib/python3.7/dist-packages (from selenium) (1.24.3)\n"
          ],
          "name": "stdout"
        }
      ]
    },
    {
      "cell_type": "code",
      "metadata": {
        "id": "6de85e54"
      },
      "source": [
        "from bs4 import BeautifulSoup\n",
        "import requests\n",
        "from selenium import webdriver\n",
        "from selenium.webdriver.common.keys import Keys\n",
        "import time\n",
        "import csv\n",
        "import pandas as pd\n",
        "import datetime\n",
        "from datetime import datetime, timedelta\n",
        "import numpy as np"
      ],
      "id": "6de85e54",
      "execution_count": 51,
      "outputs": []
    },
    {
      "cell_type": "code",
      "metadata": {
        "id": "tqLcUJBzINNz"
      },
      "source": [
        "pip install kora -q"
      ],
      "id": "tqLcUJBzINNz",
      "execution_count": 52,
      "outputs": []
    },
    {
      "cell_type": "code",
      "metadata": {
        "id": "gCtSt4wNIRvh"
      },
      "source": [
        "from kora.selenium import wd\n",
        "# wd.get(uss)"
      ],
      "id": "gCtSt4wNIRvh",
      "execution_count": 53,
      "outputs": []
    },
    {
      "cell_type": "code",
      "metadata": {
        "id": "pgQrrwwyT0p5"
      },
      "source": [
        "def datecreator():\n",
        "  keys = [\"kanser\",\"prostat kanseri\",\"meme kanseri\"]\n",
        "  kanser_links = []\n",
        "  prostat_links = []\n",
        "  memekanseri_links=[]\n",
        "  kan_link =\"https://www.cumhuriyet.com.tr/arama/kanser?sayfa=\" #1000 e kadar sayfa var kanser\n",
        "  pros_link = \"https://www.cumhuriyet.com.tr/arama/prostat-kanseri?sayfa=\" #75 e kadar sayfa var prostat kanseri\n",
        "  mem_link = \"https://www.cumhuriyet.com.tr/arama/meme%20kanseri?sayfa=\" #266 ya kadar sayfa var meme kanseri\n",
        "\n",
        "  for i in range(1,3,1):\n",
        "    kanser_links.append(\"{}{}\".format(kan_link,i))\n",
        "\n",
        "  for i in range(1,3,1):\n",
        "    prostat_links.append(\"{}{}\".format(pros_link,i))\n",
        "\n",
        "  for i in range(1,3,1):\n",
        "    memekanseri_links.append(\"{}{}\".format(mem_link,i))\n",
        "  return kanser_links,memekanseri_links,prostat_links"
      ],
      "id": "pgQrrwwyT0p5",
      "execution_count": 86,
      "outputs": []
    },
    {
      "cell_type": "code",
      "metadata": {
        "id": "tc3U5417Uz5M",
        "colab": {
          "base_uri": "https://localhost:8080/"
        },
        "outputId": "1fc896e6-2a73-4973-a3e6-371e1c1b250d"
      },
      "source": [
        "page_kanser_links,page_memekanseri_links,page_prostat_links = datecreator()\n",
        "print(page_kanser_links)\n",
        "print(page_memekanseri_links)\n",
        "print(page_prostat_links)"
      ],
      "id": "tc3U5417Uz5M",
      "execution_count": 87,
      "outputs": [
        {
          "output_type": "stream",
          "text": [
            "['https://www.cumhuriyet.com.tr/arama/kanser?sayfa=1', 'https://www.cumhuriyet.com.tr/arama/kanser?sayfa=2']\n",
            "['https://www.cumhuriyet.com.tr/arama/meme%20kanseri?sayfa=1', 'https://www.cumhuriyet.com.tr/arama/meme%20kanseri?sayfa=2']\n",
            "['https://www.cumhuriyet.com.tr/arama/prostat-kanseri?sayfa=1', 'https://www.cumhuriyet.com.tr/arama/prostat-kanseri?sayfa=2']\n"
          ],
          "name": "stdout"
        }
      ]
    },
    {
      "cell_type": "code",
      "metadata": {
        "id": "a7d68a23"
      },
      "source": [
        "def get_link_kanser(i):\n",
        "    \n",
        "    sayfa =i\n",
        "    browser = wd\n",
        "    browser.get(sayfa)\n",
        "    test = []\n",
        "    dizi = []\n",
        "    url = 'https://www.cumhuriyet.com.tr' \n",
        "    sayfa_kaynağı = browser.page_source\n",
        "    soup = BeautifulSoup(sayfa_kaynağı, \"html.parser\")\n",
        "    for a in soup.find_all('a', href=True):\n",
        "        test.append(a['href'])\n",
        "    for i in test:\n",
        "      result = i.startswith(\"/haber\")\n",
        "      if result == True:\n",
        "         link = (\"{}{}\".format(url,i))\n",
        "         with open(\"cumhuriyet_link_kanser.txt\", 'a') as file: \n",
        "             file.write(link+'\\n')\n",
        "             dizi.append(link)\n",
        "    return dizi"
      ],
      "id": "a7d68a23",
      "execution_count": 88,
      "outputs": []
    },
    {
      "cell_type": "code",
      "metadata": {
        "id": "JAEpEBuBW9vg"
      },
      "source": [
        "def get_link_prostatkanseri(i):\n",
        "    sayfa =i\n",
        "    browser = wd\n",
        "    browser.get(sayfa)\n",
        "    test = []\n",
        "    dizi = []\n",
        "    url = 'https://www.cumhuriyet.com.tr' \n",
        "    sayfa_kaynağı = browser.page_source\n",
        "    soup = BeautifulSoup(sayfa_kaynağı, \"html.parser\")\n",
        "    for a in soup.find_all('a', href=True):\n",
        "        test.append(a['href'])\n",
        "    for i in test:\n",
        "      result = i.startswith(\"/haber\")\n",
        "      link = (\"{}{}\".format(url,i))\n",
        "      if result == True:\n",
        "         with open(\"cumhuriyet_link_prostat_kanser.txt\", 'a') as file: \n",
        "             file.write(link+'\\n')\n",
        "             dizi.append(link)\n",
        "    return dizi"
      ],
      "id": "JAEpEBuBW9vg",
      "execution_count": 89,
      "outputs": []
    },
    {
      "cell_type": "code",
      "metadata": {
        "id": "eGIfuhAuW9tQ"
      },
      "source": [
        "def get_link_memekanseri(i):\n",
        "    sayfa =i\n",
        "    browser = wd\n",
        "    # driver_path = \"C:/Users/koray/Desktop/chromedriver.exe\"\n",
        "    # browser = webdriver.Chrome(driver_path)\n",
        "    browser.get(sayfa)\n",
        "    test = []\n",
        "    url = 'https://www.cumhuriyet.com.tr' \n",
        "    dizi = []\n",
        "    sayfa_kaynağı = browser.page_source\n",
        "    soup = BeautifulSoup(sayfa_kaynağı, \"html.parser\")\n",
        "    for a in soup.find_all('a', href=True):\n",
        "        test.append(a['href'])\n",
        "    for i in test:\n",
        "      result = i.startswith(\"/haber\")\n",
        "      link = (\"{}{}\".format(url,i))\n",
        "      if result == True:\n",
        "         with open(\"cumhuriyet_link_meme_kanser.txt\", 'a') as file: \n",
        "             file.write(link+'\\n')\n",
        "             dizi.append(link)\n",
        "    return dizi"
      ],
      "id": "eGIfuhAuW9tQ",
      "execution_count": 90,
      "outputs": []
    },
    {
      "cell_type": "code",
      "metadata": {
        "id": "cfc45150"
      },
      "source": [
        "def creator1(url):\n",
        "    r = requests.get(url)   \n",
        "    soup = BeautifulSoup(r.content, 'html5lib')\n",
        "    title = soup.find(\"h1\", attrs = {\"class\":\"baslik\"}).getText()\n",
        "    content_array = soup.find(\"div\", attrs = {\"class\":\"haberMetni\"}).getText()\n",
        "    date = soup.find(\"div\", attrs = {\"class\":\"yayin-tarihi\"}).getText()\n",
        "    date = date.split()\n",
        "    date = date[0] + date[1] + date[2]\n",
        "    content_array = content_array.split()\n",
        "    content_string = \"\"\n",
        "    for w in content_array:\n",
        "        content_string = content_string+\" \"+w\n",
        "        #w_data = url+\";\"+date+\";\"+title+\";\"+content_string\n",
        "    w_data=\"{};{};{};{}\".format(url,date,title,content_string)\n",
        "    #print(w_data)\n",
        "    # write_to_txt(w_data)\n",
        "    with open(\"cumhuriyet_content_kanser.txt\", 'a') as file: \n",
        "        file.write(w_data+'\\n')"
      ],
      "id": "cfc45150",
      "execution_count": 91,
      "outputs": []
    },
    {
      "cell_type": "code",
      "metadata": {
        "id": "0hYteOgReQl-"
      },
      "source": [
        "def creator2(url):\n",
        "    r = requests.get(url)   \n",
        "    soup = BeautifulSoup(r.content, 'html5lib')\n",
        "    title = soup.find(\"h1\", attrs = {\"class\":\"baslik\"}).getText()\n",
        "    content_array = soup.find(\"div\", attrs = {\"class\":\"haberMetni\"}).getText()\n",
        "    date = soup.find(\"div\", attrs = {\"class\":\"yayin-tarihi\"}).getText()\n",
        "    date = date.split()\n",
        "    date = date[0] + date[1] + date[2]\n",
        "    content_array = content_array.split()\n",
        "    content_string = \"\"\n",
        "    for w in content_array:\n",
        "        content_string = content_string+\" \"+w\n",
        "        #w_data = url+\";\"+date+\";\"+title+\";\"+content_string\n",
        "    w_data=\"{};{};{};{}\".format(url,date,title,content_string)\n",
        "    #print(w_data)\n",
        "    # write_to_txt(w_data)\n",
        "    with open(\"cumhuriyet_content_prostat_kanser.txt\", 'a') as file: \n",
        "        file.write(w_data+'\\n')"
      ],
      "id": "0hYteOgReQl-",
      "execution_count": 100,
      "outputs": []
    },
    {
      "cell_type": "code",
      "metadata": {
        "id": "5PGpSRFoeQjt"
      },
      "source": [
        "def creator3(url):\n",
        "    r = requests.get(url)   \n",
        "    soup = BeautifulSoup(r.content, 'html5lib')\n",
        "    title = soup.find(\"h1\", attrs = {\"class\":\"baslik\"}).getText()\n",
        "    content_array = soup.find(\"div\", attrs = {\"class\":\"haberMetni\"}).getText()\n",
        "    date = soup.find(\"div\", attrs = {\"class\":\"yayin-tarihi\"}).getText()\n",
        "    date = date.split()\n",
        "    date = date[0] + date[1] + date[2]\n",
        "    content_array = content_array.split()\n",
        "    content_string = \"\"\n",
        "    for w in content_array:\n",
        "        content_string = content_string+\" \"+w\n",
        "        #w_data = url+\";\"+date+\";\"+title+\";\"+content_string\n",
        "    w_data=\"{};{};{};{}\".format(url,date,title,content_string)\n",
        "    #print(w_data)\n",
        "    # write_to_txt(w_data)\n",
        "    with open(\"cumhuriyet_content_meme_kanser.txt\", 'a') as file: \n",
        "        file.write(w_data+'\\n')"
      ],
      "id": "5PGpSRFoeQjt",
      "execution_count": 99,
      "outputs": []
    },
    {
      "cell_type": "code",
      "metadata": {
        "id": "26da4348"
      },
      "source": [
        "page_kanser_links,page_memekanseri_links,page_prostat_links = datecreator()\n",
        "\n",
        "dizi = []\n",
        "count= 0 \n",
        "for i in page_kanser_links:\n",
        "    try:\n",
        "       get_link_kanser(i)\n",
        "    except:\n",
        "        print('Format Dışı Link')\n",
        "\n",
        "\n",
        "for i in page_prostat_links:\n",
        "    try:\n",
        "       get_link_prostatkanseri(i)\n",
        "       \n",
        "    except:\n",
        "        print('Format Dışı Link')\n",
        "\n",
        "\n",
        "for i in page_memekanseri_links:\n",
        "    try:\n",
        "      get_link_memekanseri(i)\n",
        "       \n",
        "    except:\n",
        "        print('Format Dışı Link')\n",
        "\n"
      ],
      "id": "26da4348",
      "execution_count": 94,
      "outputs": []
    },
    {
      "cell_type": "code",
      "metadata": {
        "id": "A0ZDh4vmcDhl"
      },
      "source": [
        "import os\n",
        "import csv\n",
        "import concurrent\n",
        "import multiprocessing\n",
        "from multiprocessing import pool\n",
        "import io\n",
        "from pprint import pprint\n",
        "cumhuriyet_kanser_links=[]\n",
        "with open(\"cumhuriyet_link_kanser.txt\",'r',newline='') as f:\n",
        "  for i in f.readlines():    \n",
        "  # reader=csv.reader(f)\n",
        "    cumhuriyet_kanser_links.append(i)"
      ],
      "id": "A0ZDh4vmcDhl",
      "execution_count": 95,
      "outputs": []
    },
    {
      "cell_type": "code",
      "metadata": {
        "id": "PaxC1rcqcDjr",
        "colab": {
          "base_uri": "https://localhost:8080/"
        },
        "outputId": "a3dc1dca-1a33-4315-f43e-2104b51e38f5"
      },
      "source": [
        "t1=time.time()\n",
        "with concurrent.futures.ProcessPoolExecutor() as execut:\n",
        "  b_res=[execut.submit(creator1,i.strip()) for i in cumhuriyet_kanser_links]\n",
        "\n",
        "print(time.time()-t1)"
      ],
      "id": "PaxC1rcqcDjr",
      "execution_count": 96,
      "outputs": [
        {
          "output_type": "stream",
          "text": [
            "7.690563678741455\n"
          ],
          "name": "stdout"
        }
      ]
    },
    {
      "cell_type": "code",
      "metadata": {
        "id": "CMnjLVkPecUM"
      },
      "source": [
        "cumhuriyet_prostat_kanser_links=[]\n",
        "with open(\"cumhuriyet_link_prostat_kanser.txt\",'r',newline='') as f:\n",
        "  for i in f.readlines():    \n",
        "  # reader=csv.reader(f)\n",
        "    cumhuriyet_prostat_kanser_links.append(i)"
      ],
      "id": "CMnjLVkPecUM",
      "execution_count": 101,
      "outputs": []
    },
    {
      "cell_type": "code",
      "metadata": {
        "id": "NUKzZEtfecWV",
        "colab": {
          "base_uri": "https://localhost:8080/"
        },
        "outputId": "e789ef43-3b82-4de2-ba98-0f4b783134e0"
      },
      "source": [
        "t1=time.time()\n",
        "with concurrent.futures.ProcessPoolExecutor() as execut:\n",
        "  b_res=[execut.submit(creator2,i.strip()) for i in cumhuriyet_prostat_kanser_links]\n",
        "\n",
        "print(time.time()-t1)"
      ],
      "id": "NUKzZEtfecWV",
      "execution_count": 102,
      "outputs": [
        {
          "output_type": "stream",
          "text": [
            "7.833617448806763\n"
          ],
          "name": "stdout"
        }
      ]
    },
    {
      "cell_type": "code",
      "metadata": {
        "id": "SXxKsRKyecYl"
      },
      "source": [
        "cumhuriyet_meme_kanser_links=[]\n",
        "with open(\"cumhuriyet_link_meme_kanser.txt\",'r',newline='') as f:\n",
        "  for i in f.readlines():    \n",
        "  # reader=csv.reader(f)\n",
        "    cumhuriyet_meme_kanser_links.append(i)"
      ],
      "id": "SXxKsRKyecYl",
      "execution_count": 73,
      "outputs": []
    },
    {
      "cell_type": "code",
      "metadata": {
        "id": "TJNcOz9wecae",
        "colab": {
          "base_uri": "https://localhost:8080/"
        },
        "outputId": "5b34faa9-f151-4453-c9e5-8af068fd2663"
      },
      "source": [
        "t1=time.time()\n",
        "with concurrent.futures.ProcessPoolExecutor() as execut:\n",
        "  b_res=[execut.submit(creator3,i.strip()) for i in cumhuriyet_meme_kanser_links]\n",
        "\n",
        "print(time.time()-t1)"
      ],
      "id": "TJNcOz9wecae",
      "execution_count": 74,
      "outputs": [
        {
          "output_type": "stream",
          "text": [
            "31.047433853149414\n"
          ],
          "name": "stdout"
        }
      ]
    },
    {
      "cell_type": "code",
      "metadata": {
        "id": "fM9q5f1KMWWk"
      },
      "source": [
        ""
      ],
      "id": "fM9q5f1KMWWk",
      "execution_count": 68,
      "outputs": []
    },
    {
      "cell_type": "code",
      "metadata": {
        "id": "2MNDT8iaKe6y"
      },
      "source": [
        ""
      ],
      "id": "2MNDT8iaKe6y",
      "execution_count": 68,
      "outputs": []
    }
  ]
}