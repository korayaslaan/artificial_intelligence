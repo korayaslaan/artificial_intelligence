{
  "nbformat": 4,
  "nbformat_minor": 0,
  "metadata": {
    "colab": {
      "name": "dnevnik.ipynb",
      "provenance": [],
      "collapsed_sections": [],
      "authorship_tag": "ABX9TyMSdew7nWXDpyJrrxeMQWFZ",
      "include_colab_link": true
    },
    "kernelspec": {
      "name": "python3",
      "display_name": "Python 3"
    },
    "language_info": {
      "name": "python"
    }
  },
  "cells": [
    {
      "cell_type": "markdown",
      "metadata": {
        "id": "view-in-github",
        "colab_type": "text"
      },
      "source": [
        "<a href=\"https://colab.research.google.com/github/korayaslaan/artificial_intelligence/blob/main/dnevnik.ipynb\" target=\"_parent\"><img src=\"https://colab.research.google.com/assets/colab-badge.svg\" alt=\"Open In Colab\"/></a>"
      ]
    },
    {
      "cell_type": "code",
      "metadata": {
        "id": "uqtweA5q-Z4H"
      },
      "source": [
        "import os\n",
        "import bs4\n",
        "import requests\n",
        "from bs4 import BeautifulSoup\n",
        "import pandas as pd\n",
        "import numpy as np\n",
        "import os\n",
        "import time\n",
        "import urllib.request\n",
        "import re\n",
        "import urllib3\n",
        "from pandas import DataFrame\n",
        "import csv\n",
        "import datetime\n",
        "from datetime import datetime, timedelta\n",
        "import concurrent.futures\n",
        "import os\n",
        "import csv\n",
        "import concurrent\n",
        "import multiprocessing\n",
        "from multiprocessing import pool\n",
        "import io\n",
        "from pprint import pprint"
      ],
      "execution_count": 113,
      "outputs": []
    },
    {
      "cell_type": "code",
      "metadata": {
        "id": "60ZZECq--wPz"
      },
      "source": [
        "def datecreator():\n",
        "  t1=datetime(2002,4,3)#en son 2001/02/11 e kadar çalışıyo\n",
        "  t2=datetime(2002,4,5)\n",
        "  t = timedelta(days = 1)\n",
        "  dates = np.arange(t1, t2, t).astype(datetime)\n",
        "  links=[]\n",
        "  link =\"https://www.dnevnik.bg/allnews/\" \n",
        "  for i in dates:\n",
        "    newdate=i.strftime('%Y/%m/%d')\n",
        "    links.append(\"{}{}{}\".format(link,newdate,'/'))\n",
        "  return links"
      ],
      "execution_count": 114,
      "outputs": []
    },
    {
      "cell_type": "code",
      "metadata": {
        "id": "Tp-B3thNL8BI"
      },
      "source": [
        "def get_link(i):\n",
        "    r = requests.get(i)   \n",
        "    soup = BeautifulSoup(r.content, 'html5lib')\n",
        "    count = 0\n",
        "    for a in soup.find_all('a', href=True):\n",
        "        link = a['href']\n",
        "        count+=1\n",
        "        result = link.startswith(('/','java','https://www.dnevnik.bg/photos/','#','https://www.dnevnik.bg/print/'),0,30)\n",
        "        if result == False:\n",
        "          if len(link)>28:\n",
        "            # print(link)\n",
        "            result2 = link.startswith('https://www.dnevnik.bg/')\n",
        "            if result2 == True:\n",
        "              result3 = link.endswith(('#comments','kontakti/'))\n",
        "              if result3 == False and count%2==1:\n",
        "                with open(\"dnevnik_links.txt\", 'a') as file:\n",
        "                   file.write(link+'\\n')\n",
        "              "
      ],
      "execution_count": 115,
      "outputs": []
    },
    {
      "cell_type": "code",
      "metadata": {
        "id": "zmMtyL_7hrZw"
      },
      "source": [
        "# get_link('https://www.dnevnik.bg/allnews/2008/03/24/')"
      ],
      "execution_count": 116,
      "outputs": []
    },
    {
      "cell_type": "code",
      "metadata": {
        "id": "NyyaesoH_yYm"
      },
      "source": [
        "def creator(url):\n",
        "    r = requests.get(url)   \n",
        "    soup = BeautifulSoup(r.content, 'html5lib')\n",
        "    title = soup.find(\"h1\").getText()\n",
        "    content_array = soup.find(\"div\", attrs = {\"class\":\"article-content\"}).getText()\n",
        "    # category = soup.find(\"span\", attrs = {\"itemprop\":\"name\"}).getText()\n",
        "    # print(category)\n",
        "    date = soup.find(\"time\", attrs = {\"itemprop\":\"datePublished\"}).getText()\n",
        "    date = date.split()\n",
        "    date =date[1] + date[2] +  date[3] \n",
        "    title = title.split()\n",
        "    content_array = content_array.split()\n",
        "    content_string = \"\"\n",
        "    title_string = \"\"\n",
        "    for w in title:\n",
        "      title_string = title_string+\" \"+w\n",
        "    for w in content_array:\n",
        "      content_string = content_string+\" \"+w\n",
        "      #w_data = url+\";\"+date+\";\"+title+\";\"+content_string\n",
        "    w_data=\"{};{};{};{}\".format(url,date,title_string,content_string)\n",
        "    # write_to_txt(w_data)\n",
        "    with open(\"dnevnik_content.txt\", 'a') as file: \n",
        "        file.write(w_data+'\\n')"
      ],
      "execution_count": 117,
      "outputs": []
    },
    {
      "cell_type": "code",
      "metadata": {
        "id": "USCeBQtqv492"
      },
      "source": [
        "# creator('https://www.dnevnik.bg/bulgaria/2008/03/24/475416_sudilishta_samo_gledali_da_otlagat_dela/')"
      ],
      "execution_count": 118,
      "outputs": []
    },
    {
      "cell_type": "code",
      "metadata": {
        "colab": {
          "base_uri": "https://localhost:8080/"
        },
        "id": "YIGLY6Sw1T6W",
        "outputId": "7f45f2cd-8367-402f-d2a7-45bdc2150d4b"
      },
      "source": [
        "links = datecreator()\n",
        "t1=time.time()\n",
        "with concurrent.futures.ProcessPoolExecutor() as execut:\n",
        "  b_res=[execut.submit(get_link,i.strip()) for i in links]\n",
        "\n",
        "print(time.time()-t1)"
      ],
      "execution_count": 119,
      "outputs": [
        {
          "output_type": "stream",
          "text": [
            "1.6833252906799316\n"
          ],
          "name": "stdout"
        }
      ]
    },
    {
      "cell_type": "code",
      "metadata": {
        "id": "0h9JpQsqQ083"
      },
      "source": [
        "dnevnik_links=[]\n",
        "with open(\"dnevnik_links.txt\",'r',newline='') as f:\n",
        "  for i in f.readlines():    \n",
        "    dnevnik_links.append(i)"
      ],
      "execution_count": 120,
      "outputs": []
    },
    {
      "cell_type": "code",
      "metadata": {
        "id": "nCVGHaJk_yV1"
      },
      "source": [
        "links = datecreator()\n",
        "\n",
        "with concurrent.futures.ProcessPoolExecutor() as execut:\n",
        "  b_res=[execut.submit(creator,i.strip()) for i in dnevnik_links]\n"
      ],
      "execution_count": 121,
      "outputs": []
    }
  ]
}