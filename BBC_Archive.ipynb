{
  "nbformat": 4,
  "nbformat_minor": 0,
  "metadata": {
    "colab": {
      "name": "BBC Archive.ipynb",
      "provenance": [],
      "collapsed_sections": [],
      "authorship_tag": "ABX9TyN+WOhRLnFjQLfaQSGXvrGH",
      "include_colab_link": true
    },
    "kernelspec": {
      "name": "python3",
      "display_name": "Python 3"
    },
    "language_info": {
      "name": "python"
    }
  },
  "cells": [
    {
      "cell_type": "markdown",
      "metadata": {
        "id": "view-in-github",
        "colab_type": "text"
      },
      "source": [
        "<a href=\"https://colab.research.google.com/github/korayaslaan/artificial_intelligence/blob/main/BBC_Archive.ipynb\" target=\"_parent\"><img src=\"https://colab.research.google.com/assets/colab-badge.svg\" alt=\"Open In Colab\"/></a>"
      ]
    },
    {
      "cell_type": "code",
      "execution_count": null,
      "metadata": {
        "id": "29TcrOD4Fgz9"
      },
      "outputs": [],
      "source": [
        "import os\n",
        "import bs4\n",
        "import requests\n",
        "from bs4 import BeautifulSoup\n",
        "import pandas as pd\n",
        "import numpy as np\n",
        "import os\n",
        "import time\n",
        "import urllib.request\n",
        "import re\n",
        "import urllib3\n",
        "from pandas import DataFrame\n",
        "import csv\n",
        "import datetime\n",
        "from datetime import datetime, timedelta\n",
        "import os\n",
        "import csv\n",
        "import concurrent\n",
        "import multiprocessing\n",
        "from multiprocessing import pool\n",
        "import io\n",
        "from pprint import pprint"
      ]
    },
    {
      "cell_type": "code",
      "source": [
        "def dateCreator():\n",
        "  #https://web.archive.org/__wb/calendarcaptures/2?url=https%3A%2F%2Fwww.bbc.co.uk&date=20200105\n",
        "  ser_date = pd.Series(pd.date_range('20010601', periods=15000))\n",
        "  link = \"https://web.archive.org/__wb/calendarcaptures/2?url=https%3A%2F%2Fwww.bbc.co.uk&date=\"\n",
        "  a=3000\n",
        "  b=3100 #8042 son\n",
        "  count=0\n",
        "  count2=0\n",
        "  count3=0\n",
        "  for j in range(a,b):\n",
        "    dateEnd  = ser_date[j].strftime(\"%Y%m%d\")\n",
        "    url = \"{}{}\".format(link,dateEnd)\n",
        "    print(url)\n",
        "\n",
        "    LinkCreator(url)\n",
        "\n",
        "    count+=1\n",
        "    count2+=1\n",
        "    time.sleep(0.5)\n",
        "    if(count==40):\n",
        "      time.sleep(3)\n",
        "      count = 0\n",
        "    if(count2==150):\n",
        "      time.sleep(5)\n",
        "      count3+=count2\n",
        "      count2 = 0\n",
        "      print(\"Şuanda\"+count3+\"Tarih Kademesi Tarandı\")\n",
        "  #https://web.archive.org/__wb/calendarcaptures/2?url=https%3A%2F%2Fwww.bbc.co.uk&date=2020&groupby=day"
      ],
      "metadata": {
        "id": "EJbQ7zRBJ5Hm"
      },
      "execution_count": null,
      "outputs": []
    },
    {
      "cell_type": "code",
      "source": [
        "def LinkCreator(link):\n",
        "  response = requests.get(link)\n",
        "  response = str(response.content)\n",
        "  # print(response)\n",
        "  result = \"b'<!DOCTYPE\"\n",
        "  if(len(response) < 10 or response.startswith(result)):\n",
        "    return\n",
        "  response = response.split(\"items\")\n",
        "  responseİtems = response[1]\n",
        "  responseİtems = responseİtems.replace(\"[\", \"\")\n",
        "  responseİtems = responseİtems.replace(\"]\", \"\")\n",
        "  responseİtems = responseİtems.replace(\":\", \"\")\n",
        "  responseİtems = responseİtems.replace('\"', \"\")\n",
        "  responseİtems = responseİtems.replace(\"'\", \"\")\n",
        "  responseİtems = responseİtems.split(\",\")\n",
        "  lenResponse = len(responseİtems)\n",
        "  links = []\n",
        "  linkLenght = len(link)\n",
        "  linkDate = link[linkLenght-8:linkLenght]\n",
        "  for i in range(0,lenResponse,3):\n",
        "    resİtem = len(responseİtems[i])\n",
        "    if(resİtem < 7):\n",
        "      if(responseİtems[i+1] == \"200\"):\n",
        "        links.append(responseİtems[i])\n",
        "  if(len(links)==0):\n",
        "    return\n",
        "  urlHead = \"https://web.archive.org/web/\"\n",
        "  urlFooter = \"/https://www.bbc.co.uk\"\n",
        "  url = \"{}{}{}{}\".format(urlHead,linkDate,links[len(links)-1],urlFooter)\n",
        "  with open(\"UrlNews.txt\", 'a') as file: \n",
        "     file.write(url +'\\n')\n",
        "     print(\"Başarılı\")\n",
        "    #  print(url)"
      ],
      "metadata": {
        "id": "AgfEC9NIXJp1"
      },
      "execution_count": null,
      "outputs": []
    },
    {
      "cell_type": "code",
      "source": [
        "dateCreator()"
      ],
      "metadata": {
        "id": "amb6A-JTFkTI",
        "outputId": "e8da1e7c-3d46-4dcd-bc52-f63c0793e05d",
        "colab": {
          "base_uri": "https://localhost:8080/",
          "height": 348
        }
      },
      "execution_count": null,
      "outputs": [
        {
          "output_type": "stream",
          "name": "stdout",
          "text": [
            "https://web.archive.org/__wb/calendarcaptures/2?url=https%3A%2F%2Fwww.bbc.co.uk&date=20090818\n"
          ]
        },
        {
          "output_type": "error",
          "ename": "IndexError",
          "evalue": "ignored",
          "traceback": [
            "\u001b[0;31m---------------------------------------------------------------------------\u001b[0m",
            "\u001b[0;31mIndexError\u001b[0m                                Traceback (most recent call last)",
            "\u001b[0;32m<ipython-input-29-85cc1785962e>\u001b[0m in \u001b[0;36m<module>\u001b[0;34m()\u001b[0m\n\u001b[0;32m----> 1\u001b[0;31m \u001b[0mdateCreator\u001b[0m\u001b[0;34m(\u001b[0m\u001b[0;34m)\u001b[0m\u001b[0;34m\u001b[0m\u001b[0;34m\u001b[0m\u001b[0m\n\u001b[0m",
            "\u001b[0;32m<ipython-input-27-6f78613fe40a>\u001b[0m in \u001b[0;36mdateCreator\u001b[0;34m()\u001b[0m\n\u001b[1;32m     13\u001b[0m     \u001b[0mprint\u001b[0m\u001b[0;34m(\u001b[0m\u001b[0murl\u001b[0m\u001b[0;34m)\u001b[0m\u001b[0;34m\u001b[0m\u001b[0;34m\u001b[0m\u001b[0m\n\u001b[1;32m     14\u001b[0m \u001b[0;34m\u001b[0m\u001b[0m\n\u001b[0;32m---> 15\u001b[0;31m     \u001b[0mLinkCreator\u001b[0m\u001b[0;34m(\u001b[0m\u001b[0murl\u001b[0m\u001b[0;34m)\u001b[0m\u001b[0;34m\u001b[0m\u001b[0;34m\u001b[0m\u001b[0m\n\u001b[0m\u001b[1;32m     16\u001b[0m \u001b[0;34m\u001b[0m\u001b[0m\n\u001b[1;32m     17\u001b[0m     \u001b[0mcount\u001b[0m\u001b[0;34m+=\u001b[0m\u001b[0;36m1\u001b[0m\u001b[0;34m\u001b[0m\u001b[0;34m\u001b[0m\u001b[0m\n",
            "\u001b[0;32m<ipython-input-28-a7899eeace49>\u001b[0m in \u001b[0;36mLinkCreator\u001b[0;34m(link)\u001b[0m\n\u001b[1;32m      7\u001b[0m     \u001b[0;32mreturn\u001b[0m\u001b[0;34m\u001b[0m\u001b[0;34m\u001b[0m\u001b[0m\n\u001b[1;32m      8\u001b[0m   \u001b[0mresponse\u001b[0m \u001b[0;34m=\u001b[0m \u001b[0mresponse\u001b[0m\u001b[0;34m.\u001b[0m\u001b[0msplit\u001b[0m\u001b[0;34m(\u001b[0m\u001b[0;34m\"items\"\u001b[0m\u001b[0;34m)\u001b[0m\u001b[0;34m\u001b[0m\u001b[0;34m\u001b[0m\u001b[0m\n\u001b[0;32m----> 9\u001b[0;31m   \u001b[0mresponseİtems\u001b[0m \u001b[0;34m=\u001b[0m \u001b[0mresponse\u001b[0m\u001b[0;34m[\u001b[0m\u001b[0;36m1\u001b[0m\u001b[0;34m]\u001b[0m\u001b[0;34m\u001b[0m\u001b[0;34m\u001b[0m\u001b[0m\n\u001b[0m\u001b[1;32m     10\u001b[0m   \u001b[0mresponseİtems\u001b[0m \u001b[0;34m=\u001b[0m \u001b[0mresponseİtems\u001b[0m\u001b[0;34m.\u001b[0m\u001b[0mreplace\u001b[0m\u001b[0;34m(\u001b[0m\u001b[0;34m\"[\"\u001b[0m\u001b[0;34m,\u001b[0m \u001b[0;34m\"\"\u001b[0m\u001b[0;34m)\u001b[0m\u001b[0;34m\u001b[0m\u001b[0;34m\u001b[0m\u001b[0m\n\u001b[1;32m     11\u001b[0m   \u001b[0mresponseİtems\u001b[0m \u001b[0;34m=\u001b[0m \u001b[0mresponseİtems\u001b[0m\u001b[0;34m.\u001b[0m\u001b[0mreplace\u001b[0m\u001b[0;34m(\u001b[0m\u001b[0;34m\"]\"\u001b[0m\u001b[0;34m,\u001b[0m \u001b[0;34m\"\"\u001b[0m\u001b[0;34m)\u001b[0m\u001b[0;34m\u001b[0m\u001b[0;34m\u001b[0m\u001b[0m\n",
            "\u001b[0;31mIndexError\u001b[0m: list index out of range"
          ]
        }
      ]
    },
    {
      "cell_type": "code",
      "source": [
        "def get_link(i):\n",
        "     r = requests.get(i)   \n",
        "     soup = BeautifulSoup(r.content, 'html5lib')\n",
        "     Links = []\n",
        "     AllLinksPage = []\n",
        "     for a in soup.find_all('a', href=True):\n",
        "       link = a['href']\n",
        "       result = link.endswith(\".stm\")\n",
        "       if(result == True):\n",
        "         result2 = link.startswith(\"/web\")\n",
        "         if(result2==True):\n",
        "            link = \"https://web.archive.org\" + link\n",
        "            with open(\"NewsLinkAll.txt\", 'a') as file: \n",
        "               file.write(link +'\\n')\n",
        "         else:\n",
        "            with open(\"NewsLinkAll.txt\", 'a') as file: \n",
        "               file.write(link +'\\n')"
      ],
      "metadata": {
        "id": "Lnfx5S2OFkQ4"
      },
      "execution_count": null,
      "outputs": []
    },
    {
      "cell_type": "code",
      "source": [
        "# LinkCreator(\"https://web.archive.org/__wb/calendarcaptures/2?url=https%3A%2F%2Fwww.bbc.co.uk&date=20200105\")"
      ],
      "metadata": {
        "id": "J9qDUrfxfubp"
      },
      "execution_count": null,
      "outputs": []
    },
    {
      "cell_type": "code",
      "source": [
        "get_link(\"https://web.archive.org/web/20000620161051/http://www.bbc.co.uk/\")"
      ],
      "metadata": {
        "id": "JawwWQn-FtGV"
      },
      "execution_count": null,
      "outputs": []
    },
    {
      "cell_type": "code",
      "source": [
        "NewsLink=[]\n",
        "with open(\"UrlNews.txt\",'r',newline='') as f:\n",
        "  for i in f.readlines():    \n",
        "    NewsLink.append(i)\n",
        "\n",
        "t1=time.time()\n",
        "with concurrent.futures.ProcessPoolExecutor() as execut:\n",
        "  b_res=[execut.submit(get_link,i.strip()) for i in NewsLink]\n",
        "\n",
        "print(time.time()-t1)"
      ],
      "metadata": {
        "id": "a5EaHpyeFkVV"
      },
      "execution_count": null,
      "outputs": []
    }
  ]
}