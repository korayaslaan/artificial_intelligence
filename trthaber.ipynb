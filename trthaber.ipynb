{
  "nbformat": 4,
  "nbformat_minor": 0,
  "metadata": {
    "colab": {
      "name": "trthaber.ipynb",
      "provenance": [],
      "authorship_tag": "ABX9TyNdgQrNJqIQJaPiBghjYGVN",
      "include_colab_link": true
    },
    "kernelspec": {
      "name": "python3",
      "display_name": "Python 3"
    },
    "language_info": {
      "name": "python"
    }
  },
  "cells": [
    {
      "cell_type": "markdown",
      "metadata": {
        "id": "view-in-github",
        "colab_type": "text"
      },
      "source": [
        "<a href=\"https://colab.research.google.com/github/korayaslaan/artificial_intelligence/blob/main/trthaber.ipynb\" target=\"_parent\"><img src=\"https://colab.research.google.com/assets/colab-badge.svg\" alt=\"Open In Colab\"/></a>"
      ]
    },
    {
      "cell_type": "code",
      "metadata": {
        "colab": {
          "base_uri": "https://localhost:8080/"
        },
        "id": "zlr40w6LveHY",
        "outputId": "ab75ff32-9b08-40c0-81a2-a080c69c99aa"
      },
      "source": [
        "from google.colab import drive\n",
        "drive.mount('/content/drive/', force_remount=True)"
      ],
      "execution_count": null,
      "outputs": [
        {
          "output_type": "stream",
          "text": [
            "Mounted at /content/drive/\n"
          ],
          "name": "stdout"
        }
      ]
    },
    {
      "cell_type": "code",
      "metadata": {
        "id": "D5OypY0o-Xkx"
      },
      "source": [
        "import os\n",
        "import bs4\n",
        "import requests\n",
        "from bs4 import BeautifulSoup\n",
        "import pandas as pd\n",
        "import numpy as np\n",
        "import os\n",
        "import urllib.request\n",
        "import re\n",
        "from pandas import DataFrame\n",
        "import csv\n",
        "import datetime\n",
        "from datetime import datetime, timedelta"
      ],
      "execution_count": null,
      "outputs": []
    },
    {
      "cell_type": "code",
      "metadata": {
        "id": "kgBr2HT_-b0R"
      },
      "source": [
        "def datecreator():\n",
        "  date_list=[]\n",
        "  txt=\"\"\n",
        "  newdate=\"\"\n",
        "  url_in=\"\"\n",
        "  url1=\"https://www.trthaber.com/haber/gundem/\"\n",
        "  url2=\"https://www.trthaber.com/haber/turkiye/\"\n",
        "  url3=\"https://www.trthaber.com/haber/dunya/\"\n",
        "  url4=\"https://www.trthaber.com/haber/ekonomi/\"\n",
        "  url5=\"https://www.trthaber.com/haber/spor/\"\n",
        "  url6=\"https://www.trthaber.com/haber/yasam/\"\n",
        "  url7=\"https://www.trthaber.com/ozel-haberler/\"\n",
        "  url8=\"https://www.trthaber.com/dosya-haberler/\"\n",
        "  url9=\"https://www.trthaber.com/haber/kultur-sanat/\"\n",
        "  url10=\"https://www.trthaber.com/haber/saglik/\"\n",
        "  url11=\"https://www.trthaber.com/haber/bilim-teknoloji/\"\n",
        "  url12=\"https://www.trthaber.com/haber/egitim/\"\n",
        "  url13=\"https://www.trthaber.com/haber/guncel/\"\n",
        " \n",
        " \n",
        "  for i in range(2): #2427 sayfa var\n",
        "      url_in=\"{}{}{}\".format(url1,i+1,\".sayfa.html\")\n",
        "      date_list.append(url_in)\n",
        "  for i in range(2): #4815 sayfa var\n",
        "      url_in=\"{}{}{}\".format(url2,i+1,\".sayfa.html\")\n",
        "      date_list.append(url_in)\n",
        "  for i in range(2): #4280 sayfa var\n",
        "      url_in=\"{}{}{}\".format(url3,i+1,\".sayfa.html\")\n",
        "      date_list.append(url_in)\n",
        "  for i in range(2): #1561 sayfa var\n",
        "      url_in=\"{}{}{}\".format(url4,i+1,\".sayfa.html\")\n",
        "      date_list.append(url_in)\n",
        "  for i in range(2): #2386 sayfa var\n",
        "      url_in=\"{}{}{}\".format(url5,i+1,\".sayfa.html\")\n",
        "      date_list.append(url_in)\n",
        "  for i in range(2): #788 sayfa var\n",
        "      url_in=\"{}{}{}\".format(url6,i+1,\".sayfa.html\")\n",
        "      date_list.append(url_in)\n",
        "  for i in range(2): #64 sayfa var\n",
        "      url_in=\"{}{}{}\".format(url7,i+1,\".sayfa.html\")\n",
        "      date_list.append(url_in)\n",
        "  for i in range(2): #32 sayfa var\n",
        "      url_in=\"{}{}{}\".format(url8,i+1,\".sayfa.html\")\n",
        "      date_list.append(url_in)\n",
        "  for i in range(2): #408 sayfa var\n",
        "      url_in=\"{}{}{}\".format(url9,i+1,\".sayfa.html\")\n",
        "      date_list.append(url_in)\n",
        "  for i in range(2): #367 sayfa var\n",
        "      url_in=\"{}{}{}\".format(url10,i+1,\".sayfa.html\")\n",
        "      date_list.append(url_in)\n",
        "  for i in range(2): #261 sayfa var\n",
        "      url_in=\"{}{}{}\".format(url11,i+1,\".sayfa.html\")\n",
        "      date_list.append(url_in)\n",
        "  for i in range(2): #201 sayfa var\n",
        "      url_in=\"{}{}{}\".format(url12,i+1,\".sayfa.html\")\n",
        "      date_list.append(url_in)\n",
        "  for i in range(2): #947 sayfa var\n",
        "      url_in=\"{}{}{}\".format(url13,i+1,\".sayfa.html\")\n",
        "      date_list.append(url_in)\n",
        "\n",
        " \n",
        " \n",
        "  return date_list"
      ],
      "execution_count": null,
      "outputs": []
    },
    {
      "cell_type": "code",
      "metadata": {
        "id": "vvDlJvTD-b2U"
      },
      "source": [
        "datecreator()"
      ],
      "execution_count": null,
      "outputs": []
    },
    {
      "cell_type": "code",
      "metadata": {
        "id": "7q2VHHVNaGyL"
      },
      "source": [
        "def get_link(link):\n",
        "  r = requests.get(link)   \n",
        "  soup = BeautifulSoup(r.content, 'html5lib')\n",
        "  content = soup.find(\"div\", attrs = {\"class\":\"katListe2\"})\n",
        "  #print(link)\n",
        "  url_in=\"\"\n",
        "  dizi = []\n",
        "  url = \"https://www.trthaber.com/\"\n",
        "  for a in content.find_all('a', href=True):\n",
        "      url_in=\"{}{}\".format(url,a['href'])\n",
        "      dizi.append(url_in)\n",
        "  return dizi    "
      ],
      "execution_count": null,
      "outputs": []
    },
    {
      "cell_type": "code",
      "metadata": {
        "id": "Fd1yXrdieW3v"
      },
      "source": [
        "def veri_cek(link):\n",
        "   print(link)\n",
        "   r = requests.get(link)   \n",
        "   soup = BeautifulSoup(r.content, 'html5lib')\n",
        "   date = soup.find(\"span\", attrs = {\"class\":\"detTarih\"})\n",
        "   date = date.span.getText().split()\n",
        "   date = date[2] + date[3] + date[4]\n",
        "   #print(date)\n",
        "   content = soup.find(\"div\", attrs = {\"class\":\"editorPart\"}).getText()\n",
        "   content_array = content.split()\n",
        "   content_string = \"\"\n",
        "   for w in content_array:\n",
        "     content_string = content_string+\" \"+w\n",
        "   #print(content_string)  \n",
        "   data=\"{};{};{}\".format(link,date,content_string)\n",
        "   #print(data)\n",
        "   with open(\"trthaber.txt\", 'a') as file: \n",
        "       file.write(data+'\\n')"
      ],
      "execution_count": null,
      "outputs": []
    },
    {
      "cell_type": "code",
      "metadata": {
        "id": "mzq8hIiYpzFb"
      },
      "source": [
        "def write_to_txt(data):\n",
        "  with open(\"trthaber.txt\", 'a') as file: \n",
        "    file.write(data+'\\n')\n",
        "    file.truncate()"
      ],
      "execution_count": null,
      "outputs": []
    },
    {
      "cell_type": "code",
      "metadata": {
        "id": "ftwr2XzzaG02"
      },
      "source": [
        "date_list = datecreator()\n",
        "linkler = []\n",
        "for i in date_list:\n",
        "  linkler = linkler + get_link(i)\n",
        "for i in linkler:\n",
        "  try:\n",
        "    veri_cek(i)\n",
        "  except:\n",
        "    print(\"hatalı link\")\n",
        "\n",
        "\n"
      ],
      "execution_count": null,
      "outputs": []
    }
  ]
}